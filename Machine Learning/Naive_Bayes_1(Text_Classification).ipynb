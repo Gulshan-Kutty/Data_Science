{
 "cells": [
  {
   "cell_type": "code",
   "execution_count": 1,
   "id": "a511381b",
   "metadata": {},
   "outputs": [],
   "source": [
    "import pandas as pd\n",
    "import numpy as np"
   ]
  },
  {
   "cell_type": "code",
   "execution_count": 21,
   "id": "8da4a3af",
   "metadata": {},
   "outputs": [],
   "source": [
    "sent1=[\n",
    "    'The Brown Dog jumps over Green Gate to chase Brown Rabbit which escaped into white Gate',\n",
    "    'white rabbits are eating and playing in Green Grass',\n",
    "    'white Rabbits are chased by brown dog'\n",
    "]"
   ]
  },
  {
   "cell_type": "code",
   "execution_count": 22,
   "id": "df9b820d",
   "metadata": {},
   "outputs": [],
   "source": [
    "from sklearn.feature_extraction.text import CountVectorizer"
   ]
  },
  {
   "cell_type": "code",
   "execution_count": 23,
   "id": "e1c7e262",
   "metadata": {},
   "outputs": [],
   "source": [
    "cvec=CountVectorizer()"
   ]
  },
  {
   "cell_type": "code",
   "execution_count": 24,
   "id": "cf44016c",
   "metadata": {},
   "outputs": [
    {
     "data": {
      "text/plain": [
       "CountVectorizer()"
      ]
     },
     "execution_count": 24,
     "metadata": {},
     "output_type": "execute_result"
    }
   ],
   "source": [
    "cvec"
   ]
  },
  {
   "cell_type": "code",
   "execution_count": 25,
   "id": "1a04f26e",
   "metadata": {},
   "outputs": [
    {
     "data": {
      "text/plain": [
       "CountVectorizer()"
      ]
     },
     "execution_count": 25,
     "metadata": {},
     "output_type": "execute_result"
    }
   ],
   "source": [
    "cvec.fit(sent1)"
   ]
  },
  {
   "cell_type": "code",
   "execution_count": 26,
   "id": "12f7c945",
   "metadata": {},
   "outputs": [
    {
     "data": {
      "text/plain": [
       "['and',\n",
       " 'are',\n",
       " 'brown',\n",
       " 'by',\n",
       " 'chase',\n",
       " 'chased',\n",
       " 'dog',\n",
       " 'eating',\n",
       " 'escaped',\n",
       " 'gate',\n",
       " 'grass',\n",
       " 'green',\n",
       " 'in',\n",
       " 'into',\n",
       " 'jumps',\n",
       " 'over',\n",
       " 'playing',\n",
       " 'rabbit',\n",
       " 'rabbits',\n",
       " 'the',\n",
       " 'to',\n",
       " 'which',\n",
       " 'white']"
      ]
     },
     "execution_count": 26,
     "metadata": {},
     "output_type": "execute_result"
    }
   ],
   "source": [
    "cvec.get_feature_names() # all unique words"
   ]
  },
  {
   "cell_type": "code",
   "execution_count": 27,
   "id": "5bd6268d",
   "metadata": {},
   "outputs": [
    {
     "data": {
      "text/plain": [
       "{'the': 19,\n",
       " 'brown': 2,\n",
       " 'dog': 6,\n",
       " 'jumps': 14,\n",
       " 'over': 15,\n",
       " 'green': 11,\n",
       " 'gate': 9,\n",
       " 'to': 20,\n",
       " 'chase': 4,\n",
       " 'rabbit': 17,\n",
       " 'which': 21,\n",
       " 'escaped': 8,\n",
       " 'into': 13,\n",
       " 'white': 22,\n",
       " 'rabbits': 18,\n",
       " 'are': 1,\n",
       " 'eating': 7,\n",
       " 'and': 0,\n",
       " 'playing': 16,\n",
       " 'in': 12,\n",
       " 'grass': 10,\n",
       " 'chased': 5,\n",
       " 'by': 3}"
      ]
     },
     "execution_count": 27,
     "metadata": {},
     "output_type": "execute_result"
    }
   ],
   "source": [
    "cvec.vocabulary_"
   ]
  },
  {
   "cell_type": "code",
   "execution_count": 28,
   "id": "6ad23f83",
   "metadata": {},
   "outputs": [],
   "source": [
    "sent_cvec=cvec.transform(sent1)"
   ]
  },
  {
   "cell_type": "code",
   "execution_count": 29,
   "id": "18418584",
   "metadata": {},
   "outputs": [
    {
     "data": {
      "text/plain": [
       "<3x23 sparse matrix of type '<class 'numpy.int64'>'\n",
       "\twith 30 stored elements in Compressed Sparse Row format>"
      ]
     },
     "execution_count": 29,
     "metadata": {},
     "output_type": "execute_result"
    }
   ],
   "source": [
    "sent_cvec"
   ]
  },
  {
   "cell_type": "code",
   "execution_count": 30,
   "id": "6db7a589",
   "metadata": {},
   "outputs": [],
   "source": [
    "sent_cvec=sent_cvec.toarray()"
   ]
  },
  {
   "cell_type": "code",
   "execution_count": 31,
   "id": "c7d0e541",
   "metadata": {},
   "outputs": [
    {
     "data": {
      "text/plain": [
       "['The Brown Dog jumps over Green Gate to chase Brown Rabbit which escaped into white Gate',\n",
       " 'white rabbits are eating and playing in Green Grass',\n",
       " 'white Rabbits are chased by brown dog']"
      ]
     },
     "execution_count": 31,
     "metadata": {},
     "output_type": "execute_result"
    }
   ],
   "source": [
    "sent1"
   ]
  },
  {
   "cell_type": "code",
   "execution_count": 32,
   "id": "7d008e53",
   "metadata": {},
   "outputs": [
    {
     "data": {
      "text/plain": [
       "array([[0, 0, 2, 0, 1, 0, 1, 0, 1, 2, 0, 1, 0, 1, 1, 1, 0, 1, 0, 1, 1, 1,\n",
       "        1],\n",
       "       [1, 1, 0, 0, 0, 0, 0, 1, 0, 0, 1, 1, 1, 0, 0, 0, 1, 0, 1, 0, 0, 0,\n",
       "        1],\n",
       "       [0, 1, 1, 1, 0, 1, 1, 0, 0, 0, 0, 0, 0, 0, 0, 0, 0, 0, 1, 0, 0, 0,\n",
       "        1]], dtype=int64)"
      ]
     },
     "execution_count": 32,
     "metadata": {},
     "output_type": "execute_result"
    }
   ],
   "source": [
    "sent_cvec"
   ]
  },
  {
   "cell_type": "code",
   "execution_count": 33,
   "id": "3e6146b3",
   "metadata": {},
   "outputs": [
    {
     "data": {
      "text/html": [
       "<div>\n",
       "<style scoped>\n",
       "    .dataframe tbody tr th:only-of-type {\n",
       "        vertical-align: middle;\n",
       "    }\n",
       "\n",
       "    .dataframe tbody tr th {\n",
       "        vertical-align: top;\n",
       "    }\n",
       "\n",
       "    .dataframe thead th {\n",
       "        text-align: right;\n",
       "    }\n",
       "</style>\n",
       "<table border=\"1\" class=\"dataframe\">\n",
       "  <thead>\n",
       "    <tr style=\"text-align: right;\">\n",
       "      <th></th>\n",
       "      <th>and</th>\n",
       "      <th>are</th>\n",
       "      <th>brown</th>\n",
       "      <th>by</th>\n",
       "      <th>chase</th>\n",
       "      <th>chased</th>\n",
       "      <th>dog</th>\n",
       "      <th>eating</th>\n",
       "      <th>escaped</th>\n",
       "      <th>gate</th>\n",
       "      <th>...</th>\n",
       "      <th>into</th>\n",
       "      <th>jumps</th>\n",
       "      <th>over</th>\n",
       "      <th>playing</th>\n",
       "      <th>rabbit</th>\n",
       "      <th>rabbits</th>\n",
       "      <th>the</th>\n",
       "      <th>to</th>\n",
       "      <th>which</th>\n",
       "      <th>white</th>\n",
       "    </tr>\n",
       "  </thead>\n",
       "  <tbody>\n",
       "    <tr>\n",
       "      <th>0</th>\n",
       "      <td>0</td>\n",
       "      <td>0</td>\n",
       "      <td>2</td>\n",
       "      <td>0</td>\n",
       "      <td>1</td>\n",
       "      <td>0</td>\n",
       "      <td>1</td>\n",
       "      <td>0</td>\n",
       "      <td>1</td>\n",
       "      <td>2</td>\n",
       "      <td>...</td>\n",
       "      <td>1</td>\n",
       "      <td>1</td>\n",
       "      <td>1</td>\n",
       "      <td>0</td>\n",
       "      <td>1</td>\n",
       "      <td>0</td>\n",
       "      <td>1</td>\n",
       "      <td>1</td>\n",
       "      <td>1</td>\n",
       "      <td>1</td>\n",
       "    </tr>\n",
       "    <tr>\n",
       "      <th>1</th>\n",
       "      <td>1</td>\n",
       "      <td>1</td>\n",
       "      <td>0</td>\n",
       "      <td>0</td>\n",
       "      <td>0</td>\n",
       "      <td>0</td>\n",
       "      <td>0</td>\n",
       "      <td>1</td>\n",
       "      <td>0</td>\n",
       "      <td>0</td>\n",
       "      <td>...</td>\n",
       "      <td>0</td>\n",
       "      <td>0</td>\n",
       "      <td>0</td>\n",
       "      <td>1</td>\n",
       "      <td>0</td>\n",
       "      <td>1</td>\n",
       "      <td>0</td>\n",
       "      <td>0</td>\n",
       "      <td>0</td>\n",
       "      <td>1</td>\n",
       "    </tr>\n",
       "    <tr>\n",
       "      <th>2</th>\n",
       "      <td>0</td>\n",
       "      <td>1</td>\n",
       "      <td>1</td>\n",
       "      <td>1</td>\n",
       "      <td>0</td>\n",
       "      <td>1</td>\n",
       "      <td>1</td>\n",
       "      <td>0</td>\n",
       "      <td>0</td>\n",
       "      <td>0</td>\n",
       "      <td>...</td>\n",
       "      <td>0</td>\n",
       "      <td>0</td>\n",
       "      <td>0</td>\n",
       "      <td>0</td>\n",
       "      <td>0</td>\n",
       "      <td>1</td>\n",
       "      <td>0</td>\n",
       "      <td>0</td>\n",
       "      <td>0</td>\n",
       "      <td>1</td>\n",
       "    </tr>\n",
       "  </tbody>\n",
       "</table>\n",
       "<p>3 rows × 23 columns</p>\n",
       "</div>"
      ],
      "text/plain": [
       "   and  are  brown  by  chase  chased  dog  eating  escaped  gate  ...  into  \\\n",
       "0    0    0      2   0      1       0    1       0        1     2  ...     1   \n",
       "1    1    1      0   0      0       0    0       1        0     0  ...     0   \n",
       "2    0    1      1   1      0       1    1       0        0     0  ...     0   \n",
       "\n",
       "   jumps  over  playing  rabbit  rabbits  the  to  which  white  \n",
       "0      1     1        0       1        0    1   1      1      1  \n",
       "1      0     0        1       0        1    0   0      0      1  \n",
       "2      0     0        0       0        1    0   0      0      1  \n",
       "\n",
       "[3 rows x 23 columns]"
      ]
     },
     "execution_count": 33,
     "metadata": {},
     "output_type": "execute_result"
    }
   ],
   "source": [
    "pd.DataFrame(sent_cvec,columns=cvec.get_feature_names())"
   ]
  },
  {
   "cell_type": "code",
   "execution_count": 34,
   "id": "0e84f36b",
   "metadata": {},
   "outputs": [
    {
     "data": {
      "text/plain": [
       "['The Brown Dog jumps over Green Gate to chase Brown Rabbit which escaped into white Gate',\n",
       " 'white rabbits are eating and playing in Green Grass',\n",
       " 'white Rabbits are chased by brown dog']"
      ]
     },
     "execution_count": 34,
     "metadata": {},
     "output_type": "execute_result"
    }
   ],
   "source": [
    "sent1"
   ]
  },
  {
   "cell_type": "code",
   "execution_count": null,
   "id": "ee7dd3d2",
   "metadata": {},
   "outputs": [],
   "source": []
  }
 ],
 "metadata": {
  "kernelspec": {
   "display_name": "Python 3 (ipykernel)",
   "language": "python",
   "name": "python3"
  },
  "language_info": {
   "codemirror_mode": {
    "name": "ipython",
    "version": 3
   },
   "file_extension": ".py",
   "mimetype": "text/x-python",
   "name": "python",
   "nbconvert_exporter": "python",
   "pygments_lexer": "ipython3",
   "version": "3.9.7"
  }
 },
 "nbformat": 4,
 "nbformat_minor": 5
}
