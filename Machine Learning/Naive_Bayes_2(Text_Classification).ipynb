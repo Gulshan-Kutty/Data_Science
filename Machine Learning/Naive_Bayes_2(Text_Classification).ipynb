{
 "cells": [
  {
   "cell_type": "code",
   "execution_count": 27,
   "id": "a511381b",
   "metadata": {},
   "outputs": [],
   "source": [
    "import pandas as pd\n",
    "import numpy as np"
   ]
  },
  {
   "cell_type": "markdown",
   "id": "691bf1ba",
   "metadata": {},
   "source": [
    "## CountVectorizer"
   ]
  },
  {
   "cell_type": "code",
   "execution_count": 28,
   "id": "8da4a3af",
   "metadata": {},
   "outputs": [],
   "source": [
    "sent1=[\n",
    "    'The Brown Dog jumps over the Green Gate to chase Brown and white Rabbits which escaped into the white Gate',\n",
    "    'white rabbits are eating and playing in Green Grass',\n",
    "    'white Rabbits are chased by brown dog'\n",
    "]"
   ]
  },
  {
   "cell_type": "code",
   "execution_count": 29,
   "id": "df9b820d",
   "metadata": {},
   "outputs": [],
   "source": [
    "from sklearn.feature_extraction.text import CountVectorizer"
   ]
  },
  {
   "cell_type": "code",
   "execution_count": 30,
   "id": "e1c7e262",
   "metadata": {},
   "outputs": [],
   "source": [
    "cvec=CountVectorizer()"
   ]
  },
  {
   "cell_type": "code",
   "execution_count": 31,
   "id": "cf44016c",
   "metadata": {},
   "outputs": [
    {
     "data": {
      "text/plain": [
       "CountVectorizer()"
      ]
     },
     "execution_count": 31,
     "metadata": {},
     "output_type": "execute_result"
    }
   ],
   "source": [
    "cvec"
   ]
  },
  {
   "cell_type": "code",
   "execution_count": 32,
   "id": "1a04f26e",
   "metadata": {},
   "outputs": [
    {
     "data": {
      "text/plain": [
       "CountVectorizer()"
      ]
     },
     "execution_count": 32,
     "metadata": {},
     "output_type": "execute_result"
    }
   ],
   "source": [
    "cvec.fit(sent1)"
   ]
  },
  {
   "cell_type": "code",
   "execution_count": 33,
   "id": "12f7c945",
   "metadata": {},
   "outputs": [
    {
     "data": {
      "text/plain": [
       "['and',\n",
       " 'are',\n",
       " 'brown',\n",
       " 'by',\n",
       " 'chase',\n",
       " 'chased',\n",
       " 'dog',\n",
       " 'eating',\n",
       " 'escaped',\n",
       " 'gate',\n",
       " 'grass',\n",
       " 'green',\n",
       " 'in',\n",
       " 'into',\n",
       " 'jumps',\n",
       " 'over',\n",
       " 'playing',\n",
       " 'rabbits',\n",
       " 'the',\n",
       " 'to',\n",
       " 'which',\n",
       " 'white']"
      ]
     },
     "execution_count": 33,
     "metadata": {},
     "output_type": "execute_result"
    }
   ],
   "source": [
    "cvec.get_feature_names() # all unique words"
   ]
  },
  {
   "cell_type": "code",
   "execution_count": 34,
   "id": "5bd6268d",
   "metadata": {},
   "outputs": [
    {
     "data": {
      "text/plain": [
       "{'the': 18,\n",
       " 'brown': 2,\n",
       " 'dog': 6,\n",
       " 'jumps': 14,\n",
       " 'over': 15,\n",
       " 'green': 11,\n",
       " 'gate': 9,\n",
       " 'to': 19,\n",
       " 'chase': 4,\n",
       " 'and': 0,\n",
       " 'white': 21,\n",
       " 'rabbits': 17,\n",
       " 'which': 20,\n",
       " 'escaped': 8,\n",
       " 'into': 13,\n",
       " 'are': 1,\n",
       " 'eating': 7,\n",
       " 'playing': 16,\n",
       " 'in': 12,\n",
       " 'grass': 10,\n",
       " 'chased': 5,\n",
       " 'by': 3}"
      ]
     },
     "execution_count": 34,
     "metadata": {},
     "output_type": "execute_result"
    }
   ],
   "source": [
    "cvec.vocabulary_"
   ]
  },
  {
   "cell_type": "code",
   "execution_count": 35,
   "id": "6ad23f83",
   "metadata": {},
   "outputs": [],
   "source": [
    "sent_cvec=cvec.transform(sent1)"
   ]
  },
  {
   "cell_type": "code",
   "execution_count": 36,
   "id": "18418584",
   "metadata": {},
   "outputs": [
    {
     "data": {
      "text/plain": [
       "<3x22 sparse matrix of type '<class 'numpy.int64'>'\n",
       "\twith 31 stored elements in Compressed Sparse Row format>"
      ]
     },
     "execution_count": 36,
     "metadata": {},
     "output_type": "execute_result"
    }
   ],
   "source": [
    "sent_cvec"
   ]
  },
  {
   "cell_type": "code",
   "execution_count": 37,
   "id": "6db7a589",
   "metadata": {},
   "outputs": [],
   "source": [
    "sent_cvec=sent_cvec.toarray()"
   ]
  },
  {
   "cell_type": "code",
   "execution_count": 38,
   "id": "c7d0e541",
   "metadata": {},
   "outputs": [
    {
     "data": {
      "text/plain": [
       "['The Brown Dog jumps over the Green Gate to chase Brown and white Rabbits which escaped into the white Gate',\n",
       " 'white rabbits are eating and playing in Green Grass',\n",
       " 'white Rabbits are chased by brown dog']"
      ]
     },
     "execution_count": 38,
     "metadata": {},
     "output_type": "execute_result"
    }
   ],
   "source": [
    "sent1"
   ]
  },
  {
   "cell_type": "code",
   "execution_count": 39,
   "id": "7d008e53",
   "metadata": {},
   "outputs": [
    {
     "data": {
      "text/plain": [
       "array([[1, 0, 2, 0, 1, 0, 1, 0, 1, 2, 0, 1, 0, 1, 1, 1, 0, 1, 3, 1, 1, 2],\n",
       "       [1, 1, 0, 0, 0, 0, 0, 1, 0, 0, 1, 1, 1, 0, 0, 0, 1, 1, 0, 0, 0, 1],\n",
       "       [0, 1, 1, 1, 0, 1, 1, 0, 0, 0, 0, 0, 0, 0, 0, 0, 0, 1, 0, 0, 0, 1]],\n",
       "      dtype=int64)"
      ]
     },
     "execution_count": 39,
     "metadata": {},
     "output_type": "execute_result"
    }
   ],
   "source": [
    "sent_cvec"
   ]
  },
  {
   "cell_type": "code",
   "execution_count": 40,
   "id": "3e6146b3",
   "metadata": {},
   "outputs": [
    {
     "data": {
      "text/html": [
       "<div>\n",
       "<style scoped>\n",
       "    .dataframe tbody tr th:only-of-type {\n",
       "        vertical-align: middle;\n",
       "    }\n",
       "\n",
       "    .dataframe tbody tr th {\n",
       "        vertical-align: top;\n",
       "    }\n",
       "\n",
       "    .dataframe thead th {\n",
       "        text-align: right;\n",
       "    }\n",
       "</style>\n",
       "<table border=\"1\" class=\"dataframe\">\n",
       "  <thead>\n",
       "    <tr style=\"text-align: right;\">\n",
       "      <th></th>\n",
       "      <th>and</th>\n",
       "      <th>are</th>\n",
       "      <th>brown</th>\n",
       "      <th>by</th>\n",
       "      <th>chase</th>\n",
       "      <th>chased</th>\n",
       "      <th>dog</th>\n",
       "      <th>eating</th>\n",
       "      <th>escaped</th>\n",
       "      <th>gate</th>\n",
       "      <th>...</th>\n",
       "      <th>in</th>\n",
       "      <th>into</th>\n",
       "      <th>jumps</th>\n",
       "      <th>over</th>\n",
       "      <th>playing</th>\n",
       "      <th>rabbits</th>\n",
       "      <th>the</th>\n",
       "      <th>to</th>\n",
       "      <th>which</th>\n",
       "      <th>white</th>\n",
       "    </tr>\n",
       "  </thead>\n",
       "  <tbody>\n",
       "    <tr>\n",
       "      <th>0</th>\n",
       "      <td>1</td>\n",
       "      <td>0</td>\n",
       "      <td>2</td>\n",
       "      <td>0</td>\n",
       "      <td>1</td>\n",
       "      <td>0</td>\n",
       "      <td>1</td>\n",
       "      <td>0</td>\n",
       "      <td>1</td>\n",
       "      <td>2</td>\n",
       "      <td>...</td>\n",
       "      <td>0</td>\n",
       "      <td>1</td>\n",
       "      <td>1</td>\n",
       "      <td>1</td>\n",
       "      <td>0</td>\n",
       "      <td>1</td>\n",
       "      <td>3</td>\n",
       "      <td>1</td>\n",
       "      <td>1</td>\n",
       "      <td>2</td>\n",
       "    </tr>\n",
       "    <tr>\n",
       "      <th>1</th>\n",
       "      <td>1</td>\n",
       "      <td>1</td>\n",
       "      <td>0</td>\n",
       "      <td>0</td>\n",
       "      <td>0</td>\n",
       "      <td>0</td>\n",
       "      <td>0</td>\n",
       "      <td>1</td>\n",
       "      <td>0</td>\n",
       "      <td>0</td>\n",
       "      <td>...</td>\n",
       "      <td>1</td>\n",
       "      <td>0</td>\n",
       "      <td>0</td>\n",
       "      <td>0</td>\n",
       "      <td>1</td>\n",
       "      <td>1</td>\n",
       "      <td>0</td>\n",
       "      <td>0</td>\n",
       "      <td>0</td>\n",
       "      <td>1</td>\n",
       "    </tr>\n",
       "    <tr>\n",
       "      <th>2</th>\n",
       "      <td>0</td>\n",
       "      <td>1</td>\n",
       "      <td>1</td>\n",
       "      <td>1</td>\n",
       "      <td>0</td>\n",
       "      <td>1</td>\n",
       "      <td>1</td>\n",
       "      <td>0</td>\n",
       "      <td>0</td>\n",
       "      <td>0</td>\n",
       "      <td>...</td>\n",
       "      <td>0</td>\n",
       "      <td>0</td>\n",
       "      <td>0</td>\n",
       "      <td>0</td>\n",
       "      <td>0</td>\n",
       "      <td>1</td>\n",
       "      <td>0</td>\n",
       "      <td>0</td>\n",
       "      <td>0</td>\n",
       "      <td>1</td>\n",
       "    </tr>\n",
       "  </tbody>\n",
       "</table>\n",
       "<p>3 rows × 22 columns</p>\n",
       "</div>"
      ],
      "text/plain": [
       "   and  are  brown  by  chase  chased  dog  eating  escaped  gate  ...  in  \\\n",
       "0    1    0      2   0      1       0    1       0        1     2  ...   0   \n",
       "1    1    1      0   0      0       0    0       1        0     0  ...   1   \n",
       "2    0    1      1   1      0       1    1       0        0     0  ...   0   \n",
       "\n",
       "   into  jumps  over  playing  rabbits  the  to  which  white  \n",
       "0     1      1     1        0        1    3   1      1      2  \n",
       "1     0      0     0        1        1    0   0      0      1  \n",
       "2     0      0     0        0        1    0   0      0      1  \n",
       "\n",
       "[3 rows x 22 columns]"
      ]
     },
     "execution_count": 40,
     "metadata": {},
     "output_type": "execute_result"
    }
   ],
   "source": [
    "pd.DataFrame(sent_cvec,columns=cvec.get_feature_names())"
   ]
  },
  {
   "cell_type": "code",
   "execution_count": 41,
   "id": "0e84f36b",
   "metadata": {},
   "outputs": [
    {
     "data": {
      "text/plain": [
       "['The Brown Dog jumps over the Green Gate to chase Brown and white Rabbits which escaped into the white Gate',\n",
       " 'white rabbits are eating and playing in Green Grass',\n",
       " 'white Rabbits are chased by brown dog']"
      ]
     },
     "execution_count": 41,
     "metadata": {},
     "output_type": "execute_result"
    }
   ],
   "source": [
    "sent1"
   ]
  },
  {
   "cell_type": "markdown",
   "id": "e75cc88b",
   "metadata": {},
   "source": [
    "## TfidfTransformer"
   ]
  },
  {
   "cell_type": "code",
   "execution_count": 42,
   "id": "ee7dd3d2",
   "metadata": {},
   "outputs": [],
   "source": [
    "from sklearn.feature_extraction.text import TfidfTransformer"
   ]
  },
  {
   "cell_type": "code",
   "execution_count": 43,
   "id": "350ab41c",
   "metadata": {},
   "outputs": [],
   "source": [
    "tftrans=TfidfTransformer()"
   ]
  },
  {
   "cell_type": "code",
   "execution_count": 44,
   "id": "d4739959",
   "metadata": {},
   "outputs": [
    {
     "data": {
      "text/plain": [
       "TfidfTransformer()"
      ]
     },
     "execution_count": 44,
     "metadata": {},
     "output_type": "execute_result"
    }
   ],
   "source": [
    "tftrans"
   ]
  },
  {
   "cell_type": "code",
   "execution_count": 45,
   "id": "22618043",
   "metadata": {},
   "outputs": [],
   "source": [
    "sent_cvec1=cvec.transform(sent1)"
   ]
  },
  {
   "cell_type": "code",
   "execution_count": 46,
   "id": "00c90c82",
   "metadata": {},
   "outputs": [
    {
     "data": {
      "text/plain": [
       "<3x22 sparse matrix of type '<class 'numpy.int64'>'\n",
       "\twith 31 stored elements in Compressed Sparse Row format>"
      ]
     },
     "execution_count": 46,
     "metadata": {},
     "output_type": "execute_result"
    }
   ],
   "source": [
    "sent_cvec1"
   ]
  },
  {
   "cell_type": "code",
   "execution_count": 47,
   "id": "c34f30a2",
   "metadata": {},
   "outputs": [
    {
     "data": {
      "text/plain": [
       "TfidfTransformer()"
      ]
     },
     "execution_count": 47,
     "metadata": {},
     "output_type": "execute_result"
    }
   ],
   "source": [
    "tftrans.fit(sent_cvec1) # output of count vectoriser should be fit here(sparse matrix)"
   ]
  },
  {
   "cell_type": "code",
   "execution_count": 48,
   "id": "4dba37ca",
   "metadata": {},
   "outputs": [],
   "source": [
    "sent_trans=tftrans.transform(sent_cvec1)"
   ]
  },
  {
   "cell_type": "code",
   "execution_count": 49,
   "id": "c4e50905",
   "metadata": {},
   "outputs": [
    {
     "data": {
      "text/plain": [
       "<3x22 sparse matrix of type '<class 'numpy.float64'>'\n",
       "\twith 31 stored elements in Compressed Sparse Row format>"
      ]
     },
     "execution_count": 49,
     "metadata": {},
     "output_type": "execute_result"
    }
   ],
   "source": [
    "sent_trans"
   ]
  },
  {
   "cell_type": "code",
   "execution_count": 50,
   "id": "9733ec78",
   "metadata": {},
   "outputs": [
    {
     "data": {
      "text/plain": [
       "array([[0.14974888, 0.        , 0.29949775, 0.        , 0.19690178,\n",
       "        0.        , 0.14974888, 0.        , 0.19690178, 0.39380355,\n",
       "        0.        , 0.14974888, 0.        , 0.19690178, 0.19690178,\n",
       "        0.19690178, 0.        , 0.11629336, 0.59070533, 0.19690178,\n",
       "        0.19690178, 0.23258672],\n",
       "       [0.29985557, 0.29985557, 0.        , 0.        , 0.        ,\n",
       "        0.        , 0.        , 0.39427404, 0.        , 0.        ,\n",
       "        0.39427404, 0.29985557, 0.39427404, 0.        , 0.        ,\n",
       "        0.        , 0.39427404, 0.2328646 , 0.        , 0.        ,\n",
       "        0.        , 0.2328646 ],\n",
       "       [0.        , 0.3612204 , 0.3612204 , 0.47496141, 0.        ,\n",
       "        0.47496141, 0.3612204 , 0.        , 0.        , 0.        ,\n",
       "        0.        , 0.        , 0.        , 0.        , 0.        ,\n",
       "        0.        , 0.        , 0.28051986, 0.        , 0.        ,\n",
       "        0.        , 0.28051986]])"
      ]
     },
     "execution_count": 50,
     "metadata": {},
     "output_type": "execute_result"
    }
   ],
   "source": [
    "sent_trans.toarray()"
   ]
  },
  {
   "cell_type": "code",
   "execution_count": 53,
   "id": "c3b1d937",
   "metadata": {},
   "outputs": [
    {
     "data": {
      "text/plain": [
       "array([[1, 0, 2, 0, 1, 0, 1, 0, 1, 2, 0, 1, 0, 1, 1, 1, 0, 1, 3, 1, 1, 2],\n",
       "       [1, 1, 0, 0, 0, 0, 0, 1, 0, 0, 1, 1, 1, 0, 0, 0, 1, 1, 0, 0, 0, 1],\n",
       "       [0, 1, 1, 1, 0, 1, 1, 0, 0, 0, 0, 0, 0, 0, 0, 0, 0, 1, 0, 0, 0, 1]],\n",
       "      dtype=int64)"
      ]
     },
     "execution_count": 53,
     "metadata": {},
     "output_type": "execute_result"
    }
   ],
   "source": [
    "sent_cvec1.toarray()"
   ]
  },
  {
   "cell_type": "code",
   "execution_count": 54,
   "id": "98415aa8",
   "metadata": {},
   "outputs": [],
   "source": [
    "# The above two step process i.e CountVectorizer and TfidfTransformer can be performed in one step called TfidfVectorizer"
   ]
  },
  {
   "cell_type": "markdown",
   "id": "16b45f23",
   "metadata": {},
   "source": [
    "## TfidfVectorization"
   ]
  },
  {
   "cell_type": "code",
   "execution_count": 55,
   "id": "84d177b7",
   "metadata": {},
   "outputs": [],
   "source": [
    "sent1=[\n",
    "    'The Brown Dog jumps over the Green Gate to chase Brown and white Rabbits which escaped into the white Gate',\n",
    "    'white rabbits are eating and playing in Green Grass',\n",
    "    'white Rabbits are chased by brown dog'\n",
    "]"
   ]
  },
  {
   "cell_type": "code",
   "execution_count": 56,
   "id": "f5ff9f93",
   "metadata": {},
   "outputs": [],
   "source": [
    "from sklearn.feature_extraction.text import TfidfVectorizer"
   ]
  },
  {
   "cell_type": "code",
   "execution_count": 57,
   "id": "f0b063af",
   "metadata": {},
   "outputs": [],
   "source": [
    "tfvec=TfidfVectorizer()"
   ]
  },
  {
   "cell_type": "code",
   "execution_count": 58,
   "id": "db85347c",
   "metadata": {},
   "outputs": [
    {
     "data": {
      "text/plain": [
       "TfidfVectorizer()"
      ]
     },
     "execution_count": 58,
     "metadata": {},
     "output_type": "execute_result"
    }
   ],
   "source": [
    "tfvec"
   ]
  },
  {
   "cell_type": "code",
   "execution_count": 60,
   "id": "fb77bc0c",
   "metadata": {},
   "outputs": [
    {
     "data": {
      "text/plain": [
       "['and',\n",
       " 'are',\n",
       " 'brown',\n",
       " 'by',\n",
       " 'chase',\n",
       " 'chased',\n",
       " 'dog',\n",
       " 'eating',\n",
       " 'escaped',\n",
       " 'gate',\n",
       " 'grass',\n",
       " 'green',\n",
       " 'in',\n",
       " 'into',\n",
       " 'jumps',\n",
       " 'over',\n",
       " 'playing',\n",
       " 'rabbits',\n",
       " 'the',\n",
       " 'to',\n",
       " 'which',\n",
       " 'white']"
      ]
     },
     "execution_count": 60,
     "metadata": {},
     "output_type": "execute_result"
    }
   ],
   "source": [
    "tfvec.get_feature_names()"
   ]
  },
  {
   "cell_type": "code",
   "execution_count": 61,
   "id": "ba513fc9",
   "metadata": {},
   "outputs": [
    {
     "data": {
      "text/plain": [
       "{'the': 18,\n",
       " 'brown': 2,\n",
       " 'dog': 6,\n",
       " 'jumps': 14,\n",
       " 'over': 15,\n",
       " 'green': 11,\n",
       " 'gate': 9,\n",
       " 'to': 19,\n",
       " 'chase': 4,\n",
       " 'and': 0,\n",
       " 'white': 21,\n",
       " 'rabbits': 17,\n",
       " 'which': 20,\n",
       " 'escaped': 8,\n",
       " 'into': 13,\n",
       " 'are': 1,\n",
       " 'eating': 7,\n",
       " 'playing': 16,\n",
       " 'in': 12,\n",
       " 'grass': 10,\n",
       " 'chased': 5,\n",
       " 'by': 3}"
      ]
     },
     "execution_count": 61,
     "metadata": {},
     "output_type": "execute_result"
    }
   ],
   "source": [
    "tfvec.vocabulary_"
   ]
  },
  {
   "cell_type": "code",
   "execution_count": 59,
   "id": "06d1765e",
   "metadata": {},
   "outputs": [
    {
     "data": {
      "text/plain": [
       "TfidfVectorizer()"
      ]
     },
     "execution_count": 59,
     "metadata": {},
     "output_type": "execute_result"
    }
   ],
   "source": [
    "tfvec.fit(sent1)"
   ]
  },
  {
   "cell_type": "code",
   "execution_count": 62,
   "id": "50c6ff19",
   "metadata": {},
   "outputs": [],
   "source": [
    "sent_tfvec=tfvec.transform(sent1)"
   ]
  },
  {
   "cell_type": "code",
   "execution_count": 63,
   "id": "d2f33e63",
   "metadata": {},
   "outputs": [
    {
     "data": {
      "text/plain": [
       "<3x22 sparse matrix of type '<class 'numpy.float64'>'\n",
       "\twith 31 stored elements in Compressed Sparse Row format>"
      ]
     },
     "execution_count": 63,
     "metadata": {},
     "output_type": "execute_result"
    }
   ],
   "source": [
    "sent_tfvec"
   ]
  },
  {
   "cell_type": "code",
   "execution_count": 64,
   "id": "720ae611",
   "metadata": {},
   "outputs": [
    {
     "data": {
      "text/plain": [
       "array([[0.14974888, 0.        , 0.29949775, 0.        , 0.19690178,\n",
       "        0.        , 0.14974888, 0.        , 0.19690178, 0.39380355,\n",
       "        0.        , 0.14974888, 0.        , 0.19690178, 0.19690178,\n",
       "        0.19690178, 0.        , 0.11629336, 0.59070533, 0.19690178,\n",
       "        0.19690178, 0.23258672],\n",
       "       [0.29985557, 0.29985557, 0.        , 0.        , 0.        ,\n",
       "        0.        , 0.        , 0.39427404, 0.        , 0.        ,\n",
       "        0.39427404, 0.29985557, 0.39427404, 0.        , 0.        ,\n",
       "        0.        , 0.39427404, 0.2328646 , 0.        , 0.        ,\n",
       "        0.        , 0.2328646 ],\n",
       "       [0.        , 0.3612204 , 0.3612204 , 0.47496141, 0.        ,\n",
       "        0.47496141, 0.3612204 , 0.        , 0.        , 0.        ,\n",
       "        0.        , 0.        , 0.        , 0.        , 0.        ,\n",
       "        0.        , 0.        , 0.28051986, 0.        , 0.        ,\n",
       "        0.        , 0.28051986]])"
      ]
     },
     "execution_count": 64,
     "metadata": {},
     "output_type": "execute_result"
    }
   ],
   "source": [
    "sent_tfvec.toarray()"
   ]
  },
  {
   "cell_type": "code",
   "execution_count": null,
   "id": "23d0567d",
   "metadata": {},
   "outputs": [],
   "source": []
  }
 ],
 "metadata": {
  "kernelspec": {
   "display_name": "Python 3 (ipykernel)",
   "language": "python",
   "name": "python3"
  },
  "language_info": {
   "codemirror_mode": {
    "name": "ipython",
    "version": 3
   },
   "file_extension": ".py",
   "mimetype": "text/x-python",
   "name": "python",
   "nbconvert_exporter": "python",
   "pygments_lexer": "ipython3",
   "version": "3.9.7"
  }
 },
 "nbformat": 4,
 "nbformat_minor": 5
}
