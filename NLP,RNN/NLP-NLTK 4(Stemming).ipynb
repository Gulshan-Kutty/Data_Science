{
 "cells": [
  {
   "cell_type": "code",
   "execution_count": 1,
   "id": "b5bb4e14",
   "metadata": {},
   "outputs": [],
   "source": [
    "import numpy as np\n",
    "import pandas as pd"
   ]
  },
  {
   "cell_type": "code",
   "execution_count": 2,
   "id": "fb942225",
   "metadata": {},
   "outputs": [],
   "source": [
    "from nltk.stem import PorterStemmer, SnowballStemmer, LancasterStemmer"
   ]
  },
  {
   "cell_type": "code",
   "execution_count": 3,
   "id": "f3053270",
   "metadata": {},
   "outputs": [],
   "source": [
    "port=PorterStemmer()"
   ]
  },
  {
   "cell_type": "code",
   "execution_count": 4,
   "id": "dacfeffd",
   "metadata": {},
   "outputs": [],
   "source": [
    "lanc=LancasterStemmer()"
   ]
  },
  {
   "cell_type": "code",
   "execution_count": 6,
   "id": "820bdf3b",
   "metadata": {},
   "outputs": [],
   "source": [
    "snow=SnowballStemmer(language='english') # we have to mention language here otherwise it will give error"
   ]
  },
  {
   "cell_type": "code",
   "execution_count": 7,
   "id": "46e053fc",
   "metadata": {},
   "outputs": [],
   "source": [
    "words=['change','changing','changes','code','coding','coder','codes','coders','university','universities','universal','universe','trouble','troubling','troubled','troubles']"
   ]
  },
  {
   "cell_type": "code",
   "execution_count": 8,
   "id": "66691daf",
   "metadata": {},
   "outputs": [
    {
     "data": {
      "text/plain": [
       "['change',\n",
       " 'changing',\n",
       " 'changes',\n",
       " 'code',\n",
       " 'coding',\n",
       " 'coder',\n",
       " 'codes',\n",
       " 'coders',\n",
       " 'university',\n",
       " 'universities',\n",
       " 'universal',\n",
       " 'universe',\n",
       " 'trouble',\n",
       " 'troubling',\n",
       " 'troubled',\n",
       " 'troubles']"
      ]
     },
     "execution_count": 8,
     "metadata": {},
     "output_type": "execute_result"
    }
   ],
   "source": [
    "words"
   ]
  },
  {
   "cell_type": "code",
   "execution_count": 9,
   "id": "fa543128",
   "metadata": {},
   "outputs": [
    {
     "data": {
      "text/plain": [
       "'write'"
      ]
     },
     "execution_count": 9,
     "metadata": {},
     "output_type": "execute_result"
    }
   ],
   "source": [
    "port.stem('writing')"
   ]
  },
  {
   "cell_type": "code",
   "execution_count": 10,
   "id": "767e509a",
   "metadata": {},
   "outputs": [
    {
     "data": {
      "text/plain": [
       "'run'"
      ]
     },
     "execution_count": 10,
     "metadata": {},
     "output_type": "execute_result"
    }
   ],
   "source": [
    "port.stem('runs')"
   ]
  },
  {
   "cell_type": "code",
   "execution_count": 11,
   "id": "81736b7c",
   "metadata": {},
   "outputs": [
    {
     "data": {
      "text/plain": [
       "'writ'"
      ]
     },
     "execution_count": 11,
     "metadata": {},
     "output_type": "execute_result"
    }
   ],
   "source": [
    "lanc.stem('writing')"
   ]
  },
  {
   "cell_type": "code",
   "execution_count": 12,
   "id": "f2917957",
   "metadata": {},
   "outputs": [
    {
     "data": {
      "text/plain": [
       "'run'"
      ]
     },
     "execution_count": 12,
     "metadata": {},
     "output_type": "execute_result"
    }
   ],
   "source": [
    "lanc.stem('running')"
   ]
  },
  {
   "cell_type": "code",
   "execution_count": 13,
   "id": "939a42db",
   "metadata": {},
   "outputs": [
    {
     "data": {
      "text/plain": [
       "'troubl'"
      ]
     },
     "execution_count": 13,
     "metadata": {},
     "output_type": "execute_result"
    }
   ],
   "source": [
    "lanc.stem('troubling')"
   ]
  },
  {
   "cell_type": "code",
   "execution_count": 15,
   "id": "00017f3d",
   "metadata": {},
   "outputs": [
    {
     "data": {
      "text/plain": [
       "\"i'm writ\""
      ]
     },
     "execution_count": 15,
     "metadata": {},
     "output_type": "execute_result"
    }
   ],
   "source": [
    "port.stem(\"i'm writing\") # that is why we never give complete sentence to the stemmer, bcoz it destroys the word "
   ]
  },
  {
   "cell_type": "code",
   "execution_count": 16,
   "id": "f0e728c8",
   "metadata": {},
   "outputs": [
    {
     "data": {
      "text/plain": [
       "'write'"
      ]
     },
     "execution_count": 16,
     "metadata": {},
     "output_type": "execute_result"
    }
   ],
   "source": [
    "port.stem('writing')"
   ]
  },
  {
   "cell_type": "code",
   "execution_count": 17,
   "id": "9a774396",
   "metadata": {},
   "outputs": [
    {
     "name": "stdout",
     "output_type": "stream",
     "text": [
      "change\n",
      "changing\n",
      "changes\n",
      "code\n",
      "coding\n",
      "coder\n",
      "codes\n",
      "coders\n",
      "university\n",
      "universities\n",
      "universal\n",
      "universe\n",
      "trouble\n",
      "troubling\n",
      "troubled\n",
      "troubles\n"
     ]
    }
   ],
   "source": [
    "for x in words:\n",
    "    print(x)"
   ]
  },
  {
   "cell_type": "code",
   "execution_count": 19,
   "id": "1754ae74",
   "metadata": {},
   "outputs": [
    {
     "name": "stdout",
     "output_type": "stream",
     "text": [
      "Original word: change\n",
      "porter== chang\n",
      "Lancaster== chang\n",
      "***************************************\n",
      "Original word: changing\n",
      "porter== chang\n",
      "Lancaster== chang\n",
      "***************************************\n",
      "Original word: changes\n",
      "porter== chang\n",
      "Lancaster== chang\n",
      "***************************************\n",
      "Original word: code\n",
      "porter== code\n",
      "Lancaster== cod\n",
      "***************************************\n",
      "Original word: coding\n",
      "porter== code\n",
      "Lancaster== cod\n",
      "***************************************\n",
      "Original word: coder\n",
      "porter== coder\n",
      "Lancaster== cod\n",
      "***************************************\n",
      "Original word: codes\n",
      "porter== code\n",
      "Lancaster== cod\n",
      "***************************************\n",
      "Original word: coders\n",
      "porter== coder\n",
      "Lancaster== cod\n",
      "***************************************\n",
      "Original word: university\n",
      "porter== univers\n",
      "Lancaster== univers\n",
      "***************************************\n",
      "Original word: universities\n",
      "porter== univers\n",
      "Lancaster== univers\n",
      "***************************************\n",
      "Original word: universal\n",
      "porter== univers\n",
      "Lancaster== univers\n",
      "***************************************\n",
      "Original word: universe\n",
      "porter== univers\n",
      "Lancaster== univers\n",
      "***************************************\n",
      "Original word: trouble\n",
      "porter== troubl\n",
      "Lancaster== troubl\n",
      "***************************************\n",
      "Original word: troubling\n",
      "porter== troubl\n",
      "Lancaster== troubl\n",
      "***************************************\n",
      "Original word: troubled\n",
      "porter== troubl\n",
      "Lancaster== troubl\n",
      "***************************************\n",
      "Original word: troubles\n",
      "porter== troubl\n",
      "Lancaster== troubl\n",
      "***************************************\n"
     ]
    }
   ],
   "source": [
    "for x in words:\n",
    "    print(\"Original word:\",x)\n",
    "    print(\"porter==\",port.stem(x))\n",
    "    print('Lancaster==',lanc.stem(x))\n",
    "    print('***************************************')"
   ]
  },
  {
   "cell_type": "code",
   "execution_count": null,
   "id": "314bafe8",
   "metadata": {},
   "outputs": [],
   "source": []
  }
 ],
 "metadata": {
  "kernelspec": {
   "display_name": "Python 3 (ipykernel)",
   "language": "python",
   "name": "python3"
  },
  "language_info": {
   "codemirror_mode": {
    "name": "ipython",
    "version": 3
   },
   "file_extension": ".py",
   "mimetype": "text/x-python",
   "name": "python",
   "nbconvert_exporter": "python",
   "pygments_lexer": "ipython3",
   "version": "3.9.7"
  }
 },
 "nbformat": 4,
 "nbformat_minor": 5
}
