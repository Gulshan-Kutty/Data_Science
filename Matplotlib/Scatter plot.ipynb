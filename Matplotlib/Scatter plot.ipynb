{
 "cells": [
  {
   "cell_type": "code",
   "execution_count": 43,
   "id": "rocky-twins",
   "metadata": {},
   "outputs": [],
   "source": [
    "import  numpy as np \n",
    "import matplotlib.pyplot as plt\n",
    "import pandas as pd"
   ]
  },
  {
   "cell_type": "code",
   "execution_count": 7,
   "id": "spoken-copper",
   "metadata": {},
   "outputs": [],
   "source": [
    "x  =  np.arange(1,51)"
   ]
  },
  {
   "cell_type": "code",
   "execution_count": 8,
   "id": "structural-intro",
   "metadata": {},
   "outputs": [
    {
     "data": {
      "text/plain": [
       "array([ 1,  2,  3,  4,  5,  6,  7,  8,  9, 10, 11, 12, 13, 14, 15, 16, 17,\n",
       "       18, 19, 20, 21, 22, 23, 24, 25, 26, 27, 28, 29, 30, 31, 32, 33, 34,\n",
       "       35, 36, 37, 38, 39, 40, 41, 42, 43, 44, 45, 46, 47, 48, 49, 50])"
      ]
     },
     "execution_count": 8,
     "metadata": {},
     "output_type": "execute_result"
    }
   ],
   "source": [
    "x"
   ]
  },
  {
   "cell_type": "code",
   "execution_count": 12,
   "id": "acute-butter",
   "metadata": {},
   "outputs": [],
   "source": [
    "y = np.random.randint(1,100,(50))"
   ]
  },
  {
   "cell_type": "code",
   "execution_count": 13,
   "id": "minus-giant",
   "metadata": {},
   "outputs": [
    {
     "data": {
      "text/plain": [
       "array([62, 85, 68, 50, 64, 71, 30, 64, 23, 97, 66, 94, 39, 46,  6, 44, 85,\n",
       "       42, 58, 64, 44, 89, 41,  6, 11, 72, 67, 63, 74, 70, 27, 38, 59, 57,\n",
       "        1, 35, 31, 46, 43, 87, 80, 63, 83, 69, 76, 39, 57, 14, 61, 58])"
      ]
     },
     "execution_count": 13,
     "metadata": {},
     "output_type": "execute_result"
    }
   ],
   "source": [
    "y"
   ]
  },
  {
   "cell_type": "code",
   "execution_count": 14,
   "id": "announced-australian",
   "metadata": {},
   "outputs": [
    {
     "data": {
      "text/plain": [
       "<matplotlib.collections.PathCollection at 0x1bff866b580>"
      ]
     },
     "execution_count": 14,
     "metadata": {},
     "output_type": "execute_result"
    },
    {
     "data": {
      "image/png": "[encoded data removed]",
      "text/plain": [
       "<Figure size 432x288 with 1 Axes>"
      ]
     },
     "metadata": {
      "needs_background": "light"
     },
     "output_type": "display_data"
    }
   ],
   "source": [
    "plt.scatter(x,y)"
   ]
  },
  {
   "cell_type": "code",
   "execution_count": 36,
   "id": "laughing-theory",
   "metadata": {},
   "outputs": [],
   "source": [
    "a = np.arange(1,51)\n",
    "c = np.random.randint(10,20,(50))"
   ]
  },
  {
   "cell_type": "code",
   "execution_count": 37,
   "id": "polyphonic-citation",
   "metadata": {},
   "outputs": [],
   "source": [
    "b = a+a+c"
   ]
  },
  {
   "cell_type": "code",
   "execution_count": 38,
   "id": "direct-retrieval",
   "metadata": {},
   "outputs": [
    {
     "data": {
      "text/plain": [
       "array([ 1,  2,  3,  4,  5,  6,  7,  8,  9, 10, 11, 12, 13, 14, 15, 16, 17,\n",
       "       18, 19, 20, 21, 22, 23, 24, 25, 26, 27, 28, 29, 30, 31, 32, 33, 34,\n",
       "       35, 36, 37, 38, 39, 40, 41, 42, 43, 44, 45, 46, 47, 48, 49, 50])"
      ]
     },
     "execution_count": 38,
     "metadata": {},
     "output_type": "execute_result"
    }
   ],
   "source": [
    "a"
   ]
  },
  {
   "cell_type": "code",
   "execution_count": 39,
   "id": "north-documentation",
   "metadata": {},
   "outputs": [
    {
     "data": {
      "text/plain": [
       "array([ 18,  23,  22,  26,  20,  27,  31,  31,  33,  34,  33,  41,  40,\n",
       "        40,  45,  47,  45,  51,  55,  56,  54,  61,  57,  60,  68,  66,\n",
       "        73,  66,  76,  75,  80,  78,  76,  78,  84,  82,  84,  91,  91,\n",
       "        92, 101,  97,  99, 100, 103, 106, 106, 112, 115, 119])"
      ]
     },
     "execution_count": 39,
     "metadata": {},
     "output_type": "execute_result"
    }
   ],
   "source": [
    "b"
   ]
  },
  {
   "cell_type": "code",
   "execution_count": 41,
   "id": "encouraging-saying",
   "metadata": {},
   "outputs": [
    {
     "data": {
      "text/plain": [
       "<matplotlib.collections.PathCollection at 0x1bffad8e640>"
      ]
     },
     "execution_count": 41,
     "metadata": {},
     "output_type": "execute_result"
    },
    {
     "data": {
      "image/png": "[encoded data removed]",
      "text/plain": [
       "<Figure size 432x288 with 1 Axes>"
      ]
     },
     "metadata": {
      "needs_background": "light"
     },
     "output_type": "display_data"
    }
   ],
   "source": [
    "plt.scatter(a,b, color =\"r\", marker = \"D\")"
   ]
  },
  {
   "cell_type": "code",
   "execution_count": 44,
   "id": "paperback-messenger",
   "metadata": {},
   "outputs": [],
   "source": [
    "df1 = pd.read_csv(\"C:/Users/ajjup/OneDrive/Desktop/weight-height.csv\")"
   ]
  },
  {
   "cell_type": "code",
   "execution_count": 45,
   "id": "reflected-breakfast",
   "metadata": {},
   "outputs": [
    {
     "data": {
      "text/html": [
       "<div>\n",
       "<style scoped>\n",
       "    .dataframe tbody tr th:only-of-type {\n",
       "        vertical-align: middle;\n",
       "    }\n",
       "\n",
       "    .dataframe tbody tr th {\n",
       "        vertical-align: top;\n",
       "    }\n",
       "\n",
       "    .dataframe thead th {\n",
       "        text-align: right;\n",
       "    }\n",
       "</style>\n",
       "<table border=\"1\" class=\"dataframe\">\n",
       "  <thead>\n",
       "    <tr style=\"text-align: right;\">\n",
       "      <th></th>\n",
       "      <th>Gender</th>\n",
       "      <th>Height</th>\n",
       "      <th>Weight</th>\n",
       "    </tr>\n",
       "  </thead>\n",
       "  <tbody>\n",
       "    <tr>\n",
       "      <th>0</th>\n",
       "      <td>Male</td>\n",
       "      <td>73.847017</td>\n",
       "      <td>241.893563</td>\n",
       "    </tr>\n",
       "    <tr>\n",
       "      <th>1</th>\n",
       "      <td>Male</td>\n",
       "      <td>68.781904</td>\n",
       "      <td>162.310473</td>\n",
       "    </tr>\n",
       "    <tr>\n",
       "      <th>2</th>\n",
       "      <td>Male</td>\n",
       "      <td>74.110105</td>\n",
       "      <td>212.740856</td>\n",
       "    </tr>\n",
       "    <tr>\n",
       "      <th>3</th>\n",
       "      <td>Male</td>\n",
       "      <td>71.730978</td>\n",
       "      <td>220.042470</td>\n",
       "    </tr>\n",
       "    <tr>\n",
       "      <th>4</th>\n",
       "      <td>Male</td>\n",
       "      <td>69.881796</td>\n",
       "      <td>206.349801</td>\n",
       "    </tr>\n",
       "    <tr>\n",
       "      <th>...</th>\n",
       "      <td>...</td>\n",
       "      <td>...</td>\n",
       "      <td>...</td>\n",
       "    </tr>\n",
       "    <tr>\n",
       "      <th>9995</th>\n",
       "      <td>Female</td>\n",
       "      <td>66.172652</td>\n",
       "      <td>136.777454</td>\n",
       "    </tr>\n",
       "    <tr>\n",
       "      <th>9996</th>\n",
       "      <td>Female</td>\n",
       "      <td>67.067155</td>\n",
       "      <td>170.867906</td>\n",
       "    </tr>\n",
       "    <tr>\n",
       "      <th>9997</th>\n",
       "      <td>Female</td>\n",
       "      <td>63.867992</td>\n",
       "      <td>128.475319</td>\n",
       "    </tr>\n",
       "    <tr>\n",
       "      <th>9998</th>\n",
       "      <td>Female</td>\n",
       "      <td>69.034243</td>\n",
       "      <td>163.852461</td>\n",
       "    </tr>\n",
       "    <tr>\n",
       "      <th>9999</th>\n",
       "      <td>Female</td>\n",
       "      <td>61.944246</td>\n",
       "      <td>113.649103</td>\n",
       "    </tr>\n",
       "  </tbody>\n",
       "</table>\n",
       "<p>10000 rows × 3 columns</p>\n",
       "</div>"
      ],
      "text/plain": [
       "      Gender     Height      Weight\n",
       "0       Male  73.847017  241.893563\n",
       "1       Male  68.781904  162.310473\n",
       "2       Male  74.110105  212.740856\n",
       "3       Male  71.730978  220.042470\n",
       "4       Male  69.881796  206.349801\n",
       "...      ...        ...         ...\n",
       "9995  Female  66.172652  136.777454\n",
       "9996  Female  67.067155  170.867906\n",
       "9997  Female  63.867992  128.475319\n",
       "9998  Female  69.034243  163.852461\n",
       "9999  Female  61.944246  113.649103\n",
       "\n",
       "[10000 rows x 3 columns]"
      ]
     },
     "execution_count": 45,
     "metadata": {},
     "output_type": "execute_result"
    }
   ],
   "source": [
    "df1"
   ]
  },
  {
   "cell_type": "code",
   "execution_count": 51,
   "id": "fatty-treatment",
   "metadata": {},
   "outputs": [
    {
     "data": {
      "text/plain": [
       "0       73.847017\n",
       "1       68.781904\n",
       "2       74.110105\n",
       "3       71.730978\n",
       "4       69.881796\n",
       "          ...    \n",
       "9995    66.172652\n",
       "9996    67.067155\n",
       "9997    63.867992\n",
       "9998    69.034243\n",
       "9999    61.944246\n",
       "Name: Height, Length: 10000, dtype: float64"
      ]
     },
     "execution_count": 51,
     "metadata": {},
     "output_type": "execute_result"
    }
   ],
   "source": [
    "df1[\"Height\"]"
   ]
  },
  {
   "cell_type": "code",
   "execution_count": 52,
   "id": "prostate-geometry",
   "metadata": {},
   "outputs": [
    {
     "data": {
      "text/plain": [
       "0       241.893563\n",
       "1       162.310473\n",
       "2       212.740856\n",
       "3       220.042470\n",
       "4       206.349801\n",
       "           ...    \n",
       "9995    136.777454\n",
       "9996    170.867906\n",
       "9997    128.475319\n",
       "9998    163.852461\n",
       "9999    113.649103\n",
       "Name: Weight, Length: 10000, dtype: float64"
      ]
     },
     "execution_count": 52,
     "metadata": {},
     "output_type": "execute_result"
    }
   ],
   "source": [
    "df1[\"Weight\"]"
   ]
  },
  {
   "cell_type": "code",
   "execution_count": 53,
   "id": "piano-cyprus",
   "metadata": {},
   "outputs": [
    {
     "data": {
      "text/plain": [
       "<matplotlib.collections.PathCollection at 0x1bffe0c7970>"
      ]
     },
     "execution_count": 53,
     "metadata": {},
     "output_type": "execute_result"
    },
    {
     "data": {
      "image/png": "[encoded data removed]",
      "text/plain": [
       "<Figure size 432x288 with 1 Axes>"
      ]
     },
     "metadata": {
      "needs_background": "light"
     },
     "output_type": "display_data"
    }
   ],
   "source": [
    "plt.scatter(df1[\"Height\"], df1[\"Weight\"])"
   ]
  },
  {
   "cell_type": "code",
   "execution_count": 54,
   "id": "baking-walnut",
   "metadata": {},
   "outputs": [],
   "source": [
    "h = df1[\"Height\"].head(200)"
   ]
  },
  {
   "cell_type": "code",
   "execution_count": 56,
   "id": "exceptional-crowd",
   "metadata": {},
   "outputs": [],
   "source": [
    "w = df1[\"Weight\"].head(200)"
   ]
  },
  {
   "cell_type": "code",
   "execution_count": 57,
   "id": "valid-adaptation",
   "metadata": {},
   "outputs": [
    {
     "data": {
      "text/plain": [
       "0      73.847017\n",
       "1      68.781904\n",
       "2      74.110105\n",
       "3      71.730978\n",
       "4      69.881796\n",
       "         ...    \n",
       "195    72.294743\n",
       "196    67.253325\n",
       "197    75.944460\n",
       "198    66.316232\n",
       "199    71.156053\n",
       "Name: Height, Length: 200, dtype: float64"
      ]
     },
     "execution_count": 57,
     "metadata": {},
     "output_type": "execute_result"
    }
   ],
   "source": [
    "h"
   ]
  },
  {
   "cell_type": "code",
   "execution_count": 58,
   "id": "arabic-plumbing",
   "metadata": {},
   "outputs": [
    {
     "data": {
      "text/plain": [
       "0      241.893563\n",
       "1      162.310473\n",
       "2      212.740856\n",
       "3      220.042470\n",
       "4      206.349801\n",
       "          ...    \n",
       "195    208.474866\n",
       "196    180.779780\n",
       "197    231.924749\n",
       "198    170.593858\n",
       "199    188.271456\n",
       "Name: Weight, Length: 200, dtype: float64"
      ]
     },
     "execution_count": 58,
     "metadata": {},
     "output_type": "execute_result"
    }
   ],
   "source": [
    "w"
   ]
  },
  {
   "cell_type": "code",
   "execution_count": 62,
   "id": "fifth-digit",
   "metadata": {},
   "outputs": [
    {
     "data": {
      "text/plain": [
       "<matplotlib.collections.PathCollection at 0x1bffdef0160>"
      ]
     },
     "execution_count": 62,
     "metadata": {},
     "output_type": "execute_result"
    },
    {
     "data": {
      "image/png": "[encoded data removed]",
      "text/plain": [
       "<Figure size 432x288 with 1 Axes>"
      ]
     },
     "metadata": {
      "needs_background": "light"
     },
     "output_type": "display_data"
    }
   ],
   "source": [
    "plt.scatter(h,w,color = \"r\", marker = \"*\")"
   ]
  },
  {
   "cell_type": "code",
   "execution_count": 65,
   "id": "economic-looking",
   "metadata": {},
   "outputs": [
    {
     "data": {
      "text/plain": [
       "(0      73.847017\n",
       " 1      68.781904\n",
       " 2      74.110105\n",
       " 3      71.730978\n",
       " 4      69.881796\n",
       "          ...    \n",
       " 195    72.294743\n",
       " 196    67.253325\n",
       " 197    75.944460\n",
       " 198    66.316232\n",
       " 199    71.156053\n",
       " Name: Height, Length: 200, dtype: float64,\n",
       " 0      241.893563\n",
       " 1      162.310473\n",
       " 2      212.740856\n",
       " 3      220.042470\n",
       " 4      206.349801\n",
       "           ...    \n",
       " 195    208.474866\n",
       " 196    180.779780\n",
       " 197    231.924749\n",
       " 198    170.593858\n",
       " 199    188.271456\n",
       " Name: Weight, Length: 200, dtype: float64)"
      ]
     },
     "execution_count": 65,
     "metadata": {},
     "output_type": "execute_result"
    }
   ],
   "source": [
    "h, w"
   ]
  },
  {
   "cell_type": "code",
   "execution_count": 66,
   "id": "leading-upper",
   "metadata": {},
   "outputs": [
    {
     "data": {
      "text/plain": [
       "(0      78.847017\n",
       " 1      73.781904\n",
       " 2      79.110105\n",
       " 3      76.730978\n",
       " 4      74.881796\n",
       "          ...    \n",
       " 195    77.294743\n",
       " 196    72.253325\n",
       " 197    80.944460\n",
       " 198    71.316232\n",
       " 199    76.156053\n",
       " Name: Height, Length: 200, dtype: float64,\n",
       " 0      249.893563\n",
       " 1      170.310473\n",
       " 2      220.740856\n",
       " 3      228.042470\n",
       " 4      214.349801\n",
       "           ...    \n",
       " 195    216.474866\n",
       " 196    188.779780\n",
       " 197    239.924749\n",
       " 198    178.593858\n",
       " 199    196.271456\n",
       " Name: Weight, Length: 200, dtype: float64)"
      ]
     },
     "execution_count": 66,
     "metadata": {},
     "output_type": "execute_result"
    }
   ],
   "source": [
    "h+5, w+8"
   ]
  },
  {
   "cell_type": "code",
   "execution_count": 69,
   "id": "opening-bottle",
   "metadata": {},
   "outputs": [
    {
     "data": {
      "text/plain": [
       "<matplotlib.collections.PathCollection at 0x1bfff0a4250>"
      ]
     },
     "execution_count": 69,
     "metadata": {},
     "output_type": "execute_result"
    },
    {
     "data": {
      "image/png": "[encoded data removed]",
      "text/plain": [
       "<Figure size 432x288 with 1 Axes>"
      ]
     },
     "metadata": {
      "needs_background": "light"
     },
     "output_type": "display_data"
    }
   ],
   "source": [
    "plt.scatter(h,w, color = \"b\", marker=\"o\", alpha=0.3)\n",
    "plt.scatter(h+5, w+8, color =\"r\", marker = \"*\")"
   ]
  },
  {
   "cell_type": "code",
   "execution_count": 70,
   "id": "painful-cycling",
   "metadata": {},
   "outputs": [
    {
     "data": {
      "text/plain": [
       "0       73.847017\n",
       "1       68.781904\n",
       "2       74.110105\n",
       "3       71.730978\n",
       "4       69.881796\n",
       "          ...    \n",
       "9995    66.172652\n",
       "9996    67.067155\n",
       "9997    63.867992\n",
       "9998    69.034243\n",
       "9999    61.944246\n",
       "Name: Height, Length: 10000, dtype: float64"
      ]
     },
     "execution_count": 70,
     "metadata": {},
     "output_type": "execute_result"
    }
   ],
   "source": [
    "df1[\"Height\"]"
   ]
  },
  {
   "cell_type": "code",
   "execution_count": 77,
   "id": "resistant-calculator",
   "metadata": {},
   "outputs": [
    {
     "data": {
      "image/png": "[encoded data removed]",
      "text/plain": [
       "<Figure size 432x288 with 1 Axes>"
      ]
     },
     "metadata": {
      "needs_background": "light"
     },
     "output_type": "display_data"
    }
   ],
   "source": [
    "plt.hist(df1[\"Height\"],bins = 40, rwidth=0.80)\n",
    "plt.show()"
   ]
  },
  {
   "cell_type": "code",
   "execution_count": null,
   "id": "necessary-murder",
   "metadata": {},
   "outputs": [],
   "source": []
  }
 ],
 "metadata": {
  "kernelspec": {
   "display_name": "Python 3",
   "language": "python",
   "name": "python3"
  },
  "language_info": {
   "codemirror_mode": {
    "name": "ipython",
    "version": 3
   },
   "file_extension": ".py",
   "mimetype": "text/x-python",
   "name": "python",
   "nbconvert_exporter": "python",
   "pygments_lexer": "ipython3",
   "version": "3.9.5"
  }
 },
 "nbformat": 4,
 "nbformat_minor": 5
}
