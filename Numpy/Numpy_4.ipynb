{
 "cells": [
  {
   "cell_type": "markdown",
   "id": "4a587a62",
   "metadata": {},
   "source": [
    "# Manipulation\n",
    "## 1)Transpose"
   ]
  },
  {
   "cell_type": "code",
   "execution_count": 1,
   "id": "47e08844",
   "metadata": {},
   "outputs": [],
   "source": [
    "import numpy as np"
   ]
  },
  {
   "cell_type": "code",
   "execution_count": 2,
   "id": "f3a0dced",
   "metadata": {},
   "outputs": [],
   "source": [
    "a1=np.random.randint(10,50,(4,5))"
   ]
  },
  {
   "cell_type": "code",
   "execution_count": 3,
   "id": "09131fd0",
   "metadata": {},
   "outputs": [
    {
     "data": {
      "text/plain": [
       "2"
      ]
     },
     "execution_count": 3,
     "metadata": {},
     "output_type": "execute_result"
    }
   ],
   "source": [
    "a1.ndim"
   ]
  },
  {
   "cell_type": "code",
   "execution_count": 4,
   "id": "ef993f1c",
   "metadata": {},
   "outputs": [
    {
     "data": {
      "text/plain": [
       "(4, 5)"
      ]
     },
     "execution_count": 4,
     "metadata": {},
     "output_type": "execute_result"
    }
   ],
   "source": [
    "a1.shape"
   ]
  },
  {
   "cell_type": "code",
   "execution_count": 5,
   "id": "54d59802",
   "metadata": {},
   "outputs": [
    {
     "data": {
      "text/plain": [
       "array([[37, 31, 42, 10, 44],\n",
       "       [41, 27, 19, 17, 38],\n",
       "       [32, 27, 41, 16, 15],\n",
       "       [20, 10, 46, 28, 36]])"
      ]
     },
     "execution_count": 5,
     "metadata": {},
     "output_type": "execute_result"
    }
   ],
   "source": [
    "a1"
   ]
  },
  {
   "cell_type": "code",
   "execution_count": 6,
   "id": "487e3374",
   "metadata": {},
   "outputs": [],
   "source": [
    "a2=a1.transpose()"
   ]
  },
  {
   "cell_type": "code",
   "execution_count": 7,
   "id": "e8ee6626",
   "metadata": {},
   "outputs": [
    {
     "data": {
      "text/plain": [
       "array([[37, 41, 32, 20],\n",
       "       [31, 27, 27, 10],\n",
       "       [42, 19, 41, 46],\n",
       "       [10, 17, 16, 28],\n",
       "       [44, 38, 15, 36]])"
      ]
     },
     "execution_count": 7,
     "metadata": {},
     "output_type": "execute_result"
    }
   ],
   "source": [
    "a1.T"
   ]
  },
  {
   "cell_type": "code",
   "execution_count": 8,
   "id": "51335122",
   "metadata": {},
   "outputs": [
    {
     "data": {
      "text/plain": [
       "array([[37, 41, 32, 20],\n",
       "       [31, 27, 27, 10],\n",
       "       [42, 19, 41, 46],\n",
       "       [10, 17, 16, 28],\n",
       "       [44, 38, 15, 36]])"
      ]
     },
     "execution_count": 8,
     "metadata": {},
     "output_type": "execute_result"
    }
   ],
   "source": [
    "a2"
   ]
  },
  {
   "cell_type": "code",
   "execution_count": 9,
   "id": "7f5419c8",
   "metadata": {},
   "outputs": [
    {
     "data": {
      "text/plain": [
       "(5, 4)"
      ]
     },
     "execution_count": 9,
     "metadata": {},
     "output_type": "execute_result"
    }
   ],
   "source": [
    "a2.shape"
   ]
  },
  {
   "cell_type": "code",
   "execution_count": 10,
   "id": "9334a3b8",
   "metadata": {},
   "outputs": [
    {
     "data": {
      "text/plain": [
       "(4, 5)"
      ]
     },
     "execution_count": 10,
     "metadata": {},
     "output_type": "execute_result"
    }
   ],
   "source": [
    "a1.shape"
   ]
  },
  {
   "cell_type": "code",
   "execution_count": 11,
   "id": "85e6b09c",
   "metadata": {},
   "outputs": [],
   "source": [
    "a3=np.random.randint(10,50,(2,4,6))"
   ]
  },
  {
   "cell_type": "code",
   "execution_count": 12,
   "id": "96e6c16f",
   "metadata": {},
   "outputs": [
    {
     "data": {
      "text/plain": [
       "array([[[32, 30, 20, 14, 16, 44],\n",
       "        [10, 20, 40, 14, 36, 23],\n",
       "        [23, 36, 34, 41, 16, 33],\n",
       "        [11, 28, 15, 19, 31, 27]],\n",
       "\n",
       "       [[21, 18, 35, 38, 17, 26],\n",
       "        [42, 42, 33, 22, 10, 26],\n",
       "        [14, 25, 36, 20, 11, 26],\n",
       "        [37, 43, 12, 22, 45, 44]]])"
      ]
     },
     "execution_count": 12,
     "metadata": {},
     "output_type": "execute_result"
    }
   ],
   "source": [
    "a3"
   ]
  },
  {
   "cell_type": "code",
   "execution_count": 13,
   "id": "346a49e0",
   "metadata": {},
   "outputs": [
    {
     "data": {
      "text/plain": [
       "(2, 4, 6)"
      ]
     },
     "execution_count": 13,
     "metadata": {},
     "output_type": "execute_result"
    }
   ],
   "source": [
    "a3.shape"
   ]
  },
  {
   "cell_type": "code",
   "execution_count": 14,
   "id": "4c1b9bb4",
   "metadata": {},
   "outputs": [
    {
     "data": {
      "text/plain": [
       "3"
      ]
     },
     "execution_count": 14,
     "metadata": {},
     "output_type": "execute_result"
    }
   ],
   "source": [
    "a3.ndim"
   ]
  },
  {
   "cell_type": "code",
   "execution_count": 15,
   "id": "38183f0d",
   "metadata": {},
   "outputs": [
    {
     "data": {
      "text/plain": [
       "(6, 4, 2)"
      ]
     },
     "execution_count": 15,
     "metadata": {},
     "output_type": "execute_result"
    }
   ],
   "source": [
    "a3.transpose().shape"
   ]
  },
  {
   "cell_type": "code",
   "execution_count": 16,
   "id": "e24057b9",
   "metadata": {},
   "outputs": [],
   "source": [
    "# 4,6,2"
   ]
  },
  {
   "cell_type": "code",
   "execution_count": 17,
   "id": "a80c65b6",
   "metadata": {},
   "outputs": [
    {
     "data": {
      "text/plain": [
       "(4, 6, 2)"
      ]
     },
     "execution_count": 17,
     "metadata": {},
     "output_type": "execute_result"
    }
   ],
   "source": [
    "a3.transpose((1,2,0)).shape"
   ]
  },
  {
   "cell_type": "code",
   "execution_count": 18,
   "id": "49e93003",
   "metadata": {},
   "outputs": [],
   "source": [
    "a4=np.random.randint(10,50,(2,3,4,6))"
   ]
  },
  {
   "cell_type": "code",
   "execution_count": 19,
   "id": "8ca5828e",
   "metadata": {},
   "outputs": [
    {
     "data": {
      "text/plain": [
       "array([[[[20, 21, 30, 32, 42, 30],\n",
       "         [30, 24, 16, 46, 38, 38],\n",
       "         [46, 40, 14, 19, 12, 18],\n",
       "         [18, 36, 17, 19, 48, 42]],\n",
       "\n",
       "        [[43, 33, 41, 47, 13, 31],\n",
       "         [31, 16, 23, 26, 48, 10],\n",
       "         [28, 33, 36, 27, 15, 40],\n",
       "         [40, 28, 18, 18, 42, 18]],\n",
       "\n",
       "        [[46, 10, 33, 45, 17, 49],\n",
       "         [16, 20, 39, 13, 31, 47],\n",
       "         [20, 24, 15, 33, 22, 45],\n",
       "         [46, 16, 24, 29, 39, 42]]],\n",
       "\n",
       "\n",
       "       [[[38, 43, 23, 24, 49, 45],\n",
       "         [15, 32, 44, 48, 24, 21],\n",
       "         [37, 24, 14, 43, 16, 47],\n",
       "         [10, 10, 36, 31, 29, 32]],\n",
       "\n",
       "        [[37, 11, 48, 43, 17, 25],\n",
       "         [20, 16, 10, 29, 39, 43],\n",
       "         [20, 15, 38, 15, 16, 29],\n",
       "         [42, 31, 27, 33, 24, 19]],\n",
       "\n",
       "        [[39, 33, 14, 18, 49, 15],\n",
       "         [18, 31, 46, 46, 34, 11],\n",
       "         [49, 14, 10, 16, 46, 42],\n",
       "         [46, 12, 20, 19, 28, 39]]]])"
      ]
     },
     "execution_count": 19,
     "metadata": {},
     "output_type": "execute_result"
    }
   ],
   "source": [
    "a4"
   ]
  },
  {
   "cell_type": "code",
   "execution_count": 20,
   "id": "30feb432",
   "metadata": {},
   "outputs": [
    {
     "data": {
      "text/plain": [
       "(2, 3, 4, 6)"
      ]
     },
     "execution_count": 20,
     "metadata": {},
     "output_type": "execute_result"
    }
   ],
   "source": [
    "a4.shape"
   ]
  },
  {
   "cell_type": "code",
   "execution_count": 21,
   "id": "ef65a686",
   "metadata": {},
   "outputs": [
    {
     "data": {
      "text/plain": [
       "(6, 4, 3, 2)"
      ]
     },
     "execution_count": 21,
     "metadata": {},
     "output_type": "execute_result"
    }
   ],
   "source": [
    "a4.T.shape"
   ]
  },
  {
   "cell_type": "code",
   "execution_count": 22,
   "id": "2baaa79d",
   "metadata": {},
   "outputs": [
    {
     "data": {
      "text/plain": [
       "(6, 4, 3, 2)"
      ]
     },
     "execution_count": 22,
     "metadata": {},
     "output_type": "execute_result"
    }
   ],
   "source": [
    "a4.transpose().shape"
   ]
  },
  {
   "cell_type": "code",
   "execution_count": 23,
   "id": "472aaccc",
   "metadata": {},
   "outputs": [],
   "source": [
    "#3,6,2,4"
   ]
  },
  {
   "cell_type": "code",
   "execution_count": 24,
   "id": "e0b79b2a",
   "metadata": {},
   "outputs": [
    {
     "data": {
      "text/plain": [
       "(3, 6, 2, 4)"
      ]
     },
     "execution_count": 24,
     "metadata": {},
     "output_type": "execute_result"
    }
   ],
   "source": [
    "a4.transpose(1,3,0,2).shape"
   ]
  },
  {
   "cell_type": "markdown",
   "id": "ae975a44",
   "metadata": {},
   "source": [
    "## 2) Swapaxes"
   ]
  },
  {
   "cell_type": "code",
   "execution_count": 25,
   "id": "210c10b4",
   "metadata": {},
   "outputs": [
    {
     "data": {
      "text/plain": [
       "array([[37, 41, 32, 20],\n",
       "       [31, 27, 27, 10],\n",
       "       [42, 19, 41, 46],\n",
       "       [10, 17, 16, 28],\n",
       "       [44, 38, 15, 36]])"
      ]
     },
     "execution_count": 25,
     "metadata": {},
     "output_type": "execute_result"
    }
   ],
   "source": [
    "a2"
   ]
  },
  {
   "cell_type": "code",
   "execution_count": 26,
   "id": "5cc8f08c",
   "metadata": {},
   "outputs": [
    {
     "data": {
      "text/plain": [
       "(5, 4)"
      ]
     },
     "execution_count": 26,
     "metadata": {},
     "output_type": "execute_result"
    }
   ],
   "source": [
    "a2.shape"
   ]
  },
  {
   "cell_type": "markdown",
   "id": "c471a6d6",
   "metadata": {},
   "source": [
    "#### Swapaxes calling with array"
   ]
  },
  {
   "cell_type": "code",
   "execution_count": 27,
   "id": "27bb2147",
   "metadata": {},
   "outputs": [
    {
     "data": {
      "text/plain": [
       "array([[37, 31, 42, 10, 44],\n",
       "       [41, 27, 19, 17, 38],\n",
       "       [32, 27, 41, 16, 15],\n",
       "       [20, 10, 46, 28, 36]])"
      ]
     },
     "execution_count": 27,
     "metadata": {},
     "output_type": "execute_result"
    }
   ],
   "source": [
    "a2.swapaxes(1,0)"
   ]
  },
  {
   "cell_type": "code",
   "execution_count": 28,
   "id": "3d484375",
   "metadata": {},
   "outputs": [
    {
     "data": {
      "text/plain": [
       "(4, 5)"
      ]
     },
     "execution_count": 28,
     "metadata": {},
     "output_type": "execute_result"
    }
   ],
   "source": [
    "a2.swapaxes(1,0).shape #OR"
   ]
  },
  {
   "cell_type": "code",
   "execution_count": 29,
   "id": "228557c5",
   "metadata": {},
   "outputs": [
    {
     "data": {
      "text/plain": [
       "(4, 5)"
      ]
     },
     "execution_count": 29,
     "metadata": {},
     "output_type": "execute_result"
    }
   ],
   "source": [
    "a2.swapaxes(0,1).shape"
   ]
  },
  {
   "cell_type": "code",
   "execution_count": 30,
   "id": "efb58a8b",
   "metadata": {},
   "outputs": [
    {
     "data": {
      "text/plain": [
       "(2, 4, 6)"
      ]
     },
     "execution_count": 30,
     "metadata": {},
     "output_type": "execute_result"
    }
   ],
   "source": [
    "a3.shape"
   ]
  },
  {
   "cell_type": "code",
   "execution_count": 31,
   "id": "05defa16",
   "metadata": {},
   "outputs": [
    {
     "data": {
      "text/plain": [
       "(6, 4, 2)"
      ]
     },
     "execution_count": 31,
     "metadata": {},
     "output_type": "execute_result"
    }
   ],
   "source": [
    "a3.swapaxes(2,0).shape # OR"
   ]
  },
  {
   "cell_type": "code",
   "execution_count": 32,
   "id": "9f6989e5",
   "metadata": {},
   "outputs": [
    {
     "data": {
      "text/plain": [
       "(6, 4, 2)"
      ]
     },
     "execution_count": 32,
     "metadata": {},
     "output_type": "execute_result"
    }
   ],
   "source": [
    "a3.swapaxes(0,2).shape"
   ]
  },
  {
   "cell_type": "code",
   "execution_count": 33,
   "id": "63c3d07f",
   "metadata": {},
   "outputs": [
    {
     "data": {
      "text/plain": [
       "(2, 6, 4)"
      ]
     },
     "execution_count": 33,
     "metadata": {},
     "output_type": "execute_result"
    }
   ],
   "source": [
    "a3.swapaxes(2,1).shape #OR"
   ]
  },
  {
   "cell_type": "code",
   "execution_count": 34,
   "id": "658da719",
   "metadata": {},
   "outputs": [
    {
     "data": {
      "text/plain": [
       "(2, 6, 4)"
      ]
     },
     "execution_count": 34,
     "metadata": {},
     "output_type": "execute_result"
    }
   ],
   "source": [
    "a3.swapaxes(1,2).shape"
   ]
  },
  {
   "cell_type": "code",
   "execution_count": 35,
   "id": "51e43f2a",
   "metadata": {},
   "outputs": [],
   "source": [
    "a4=np.random.randint(10,40,(2,3,4,5))"
   ]
  },
  {
   "cell_type": "code",
   "execution_count": 36,
   "id": "0f1aa993",
   "metadata": {},
   "outputs": [
    {
     "data": {
      "text/plain": [
       "(2, 3, 4, 5)"
      ]
     },
     "execution_count": 36,
     "metadata": {},
     "output_type": "execute_result"
    }
   ],
   "source": [
    "a4.shape"
   ]
  },
  {
   "cell_type": "code",
   "execution_count": 37,
   "id": "8f880f0c",
   "metadata": {},
   "outputs": [
    {
     "data": {
      "text/plain": [
       "(5, 3, 4, 2)"
      ]
     },
     "execution_count": 37,
     "metadata": {},
     "output_type": "execute_result"
    }
   ],
   "source": [
    "a4.swapaxes(0,3).shape"
   ]
  },
  {
   "cell_type": "code",
   "execution_count": 38,
   "id": "399b8e7b",
   "metadata": {},
   "outputs": [
    {
     "data": {
      "text/plain": [
       "(2, 4, 3, 5)"
      ]
     },
     "execution_count": 38,
     "metadata": {},
     "output_type": "execute_result"
    }
   ],
   "source": [
    "a4.swapaxes(2,1).shape"
   ]
  },
  {
   "cell_type": "markdown",
   "id": "c6911c8f",
   "metadata": {},
   "source": [
    "#### Swapaxes calling with numpy"
   ]
  },
  {
   "cell_type": "code",
   "execution_count": 39,
   "id": "032020f8",
   "metadata": {},
   "outputs": [
    {
     "data": {
      "text/plain": [
       "(2, 5, 4, 3)"
      ]
     },
     "execution_count": 39,
     "metadata": {},
     "output_type": "execute_result"
    }
   ],
   "source": [
    "np.swapaxes(a4,1,3).shape"
   ]
  },
  {
   "cell_type": "markdown",
   "id": "45b7f99f",
   "metadata": {},
   "source": [
    "## Reshape"
   ]
  },
  {
   "cell_type": "code",
   "execution_count": 40,
   "id": "ea50172b",
   "metadata": {},
   "outputs": [],
   "source": [
    "ary1=np.arange(10,30)"
   ]
  },
  {
   "cell_type": "code",
   "execution_count": 41,
   "id": "87a90972",
   "metadata": {},
   "outputs": [
    {
     "data": {
      "text/plain": [
       "array([10, 11, 12, 13, 14, 15, 16, 17, 18, 19, 20, 21, 22, 23, 24, 25, 26,\n",
       "       27, 28, 29])"
      ]
     },
     "execution_count": 41,
     "metadata": {},
     "output_type": "execute_result"
    }
   ],
   "source": [
    "ary1"
   ]
  },
  {
   "cell_type": "code",
   "execution_count": 42,
   "id": "812bb78e",
   "metadata": {},
   "outputs": [
    {
     "data": {
      "text/plain": [
       "20"
      ]
     },
     "execution_count": 42,
     "metadata": {},
     "output_type": "execute_result"
    }
   ],
   "source": [
    "ary1.size"
   ]
  },
  {
   "cell_type": "code",
   "execution_count": 43,
   "id": "202db4f0",
   "metadata": {},
   "outputs": [
    {
     "data": {
      "text/plain": [
       "array([[10, 11, 12, 13, 14],\n",
       "       [15, 16, 17, 18, 19],\n",
       "       [20, 21, 22, 23, 24],\n",
       "       [25, 26, 27, 28, 29]])"
      ]
     },
     "execution_count": 43,
     "metadata": {},
     "output_type": "execute_result"
    }
   ],
   "source": [
    "ary1.reshape(4,5)"
   ]
  },
  {
   "cell_type": "code",
   "execution_count": 44,
   "id": "eb0cc07b",
   "metadata": {},
   "outputs": [
    {
     "data": {
      "text/plain": [
       "array([[10, 11, 12, 13],\n",
       "       [14, 15, 16, 17],\n",
       "       [18, 19, 20, 21],\n",
       "       [22, 23, 24, 25],\n",
       "       [26, 27, 28, 29]])"
      ]
     },
     "execution_count": 44,
     "metadata": {},
     "output_type": "execute_result"
    }
   ],
   "source": [
    "ary1.reshape(5,4)"
   ]
  },
  {
   "cell_type": "code",
   "execution_count": 45,
   "id": "6ef59ccd",
   "metadata": {},
   "outputs": [
    {
     "ename": "ValueError",
     "evalue": "cannot reshape array of size 20 into shape (5,5)",
     "output_type": "error",
     "traceback": [
      "\u001b[1;31m---------------------------------------------------------------------------\u001b[0m",
      "\u001b[1;31mValueError\u001b[0m                                Traceback (most recent call last)",
      "\u001b[1;32m~\\AppData\\Local\\Temp/ipykernel_10236/3392876868.py\u001b[0m in \u001b[0;36m<module>\u001b[1;34m\u001b[0m\n\u001b[1;32m----> 1\u001b[1;33m \u001b[0mary1\u001b[0m\u001b[1;33m.\u001b[0m\u001b[0mreshape\u001b[0m\u001b[1;33m(\u001b[0m\u001b[1;36m5\u001b[0m\u001b[1;33m,\u001b[0m\u001b[1;36m5\u001b[0m\u001b[1;33m)\u001b[0m\u001b[1;33m\u001b[0m\u001b[1;33m\u001b[0m\u001b[0m\n\u001b[0m",
      "\u001b[1;31mValueError\u001b[0m: cannot reshape array of size 20 into shape (5,5)"
     ]
    }
   ],
   "source": [
    "ary1.reshape(5,5)"
   ]
  },
  {
   "cell_type": "code",
   "execution_count": 46,
   "id": "e48d344e",
   "metadata": {},
   "outputs": [
    {
     "data": {
      "text/plain": [
       "array([[[10, 11, 12, 13, 14],\n",
       "        [15, 16, 17, 18, 19]],\n",
       "\n",
       "       [[20, 21, 22, 23, 24],\n",
       "        [25, 26, 27, 28, 29]]])"
      ]
     },
     "execution_count": 46,
     "metadata": {},
     "output_type": "execute_result"
    }
   ],
   "source": [
    "ary1.reshape(2,2,5)"
   ]
  },
  {
   "cell_type": "markdown",
   "id": "ed415038",
   "metadata": {},
   "source": [
    "## Resize"
   ]
  },
  {
   "cell_type": "code",
   "execution_count": 47,
   "id": "4e4bb1f1",
   "metadata": {},
   "outputs": [
    {
     "data": {
      "text/plain": [
       "array([10, 11, 12, 13, 14, 15, 16, 17, 18, 19, 20, 21, 22, 23, 24, 25, 26,\n",
       "       27, 28, 29])"
      ]
     },
     "execution_count": 47,
     "metadata": {},
     "output_type": "execute_result"
    }
   ],
   "source": [
    "ary1"
   ]
  },
  {
   "cell_type": "markdown",
   "id": "9bcfae6a",
   "metadata": {},
   "source": [
    "#### Resize calling with array"
   ]
  },
  {
   "cell_type": "code",
   "execution_count": 48,
   "id": "af698a64",
   "metadata": {},
   "outputs": [],
   "source": [
    "ary1.resize(4,5)"
   ]
  },
  {
   "cell_type": "code",
   "execution_count": 49,
   "id": "f5f07df5",
   "metadata": {},
   "outputs": [
    {
     "data": {
      "text/plain": [
       "array([[10, 11, 12, 13, 14],\n",
       "       [15, 16, 17, 18, 19],\n",
       "       [20, 21, 22, 23, 24],\n",
       "       [25, 26, 27, 28, 29]])"
      ]
     },
     "execution_count": 49,
     "metadata": {},
     "output_type": "execute_result"
    }
   ],
   "source": [
    "ary1"
   ]
  },
  {
   "cell_type": "code",
   "execution_count": 50,
   "id": "c63b2466",
   "metadata": {},
   "outputs": [],
   "source": [
    "ary1.resize(2,2,5) # Permanent change"
   ]
  },
  {
   "cell_type": "code",
   "execution_count": 51,
   "id": "9243c36a",
   "metadata": {},
   "outputs": [
    {
     "data": {
      "text/plain": [
       "array([[[10, 11, 12, 13, 14],\n",
       "        [15, 16, 17, 18, 19]],\n",
       "\n",
       "       [[20, 21, 22, 23, 24],\n",
       "        [25, 26, 27, 28, 29]]])"
      ]
     },
     "execution_count": 51,
     "metadata": {},
     "output_type": "execute_result"
    }
   ],
   "source": [
    "ary1"
   ]
  },
  {
   "cell_type": "code",
   "execution_count": 52,
   "id": "4a036347",
   "metadata": {},
   "outputs": [
    {
     "ename": "ValueError",
     "evalue": "cannot resize an array that references or is referenced\nby another array in this way.\nUse the np.resize function or refcheck=False",
     "output_type": "error",
     "traceback": [
      "\u001b[1;31m---------------------------------------------------------------------------\u001b[0m",
      "\u001b[1;31mValueError\u001b[0m                                Traceback (most recent call last)",
      "\u001b[1;32m~\\AppData\\Local\\Temp/ipykernel_10236/564299323.py\u001b[0m in \u001b[0;36m<module>\u001b[1;34m\u001b[0m\n\u001b[1;32m----> 1\u001b[1;33m \u001b[0mary1\u001b[0m\u001b[1;33m.\u001b[0m\u001b[0mresize\u001b[0m\u001b[1;33m(\u001b[0m\u001b[1;36m4\u001b[0m\u001b[1;33m,\u001b[0m\u001b[1;36m6\u001b[0m\u001b[1;33m)\u001b[0m\u001b[1;33m\u001b[0m\u001b[1;33m\u001b[0m\u001b[0m\n\u001b[0m",
      "\u001b[1;31mValueError\u001b[0m: cannot resize an array that references or is referenced\nby another array in this way.\nUse the np.resize function or refcheck=False"
     ]
    }
   ],
   "source": [
    "ary1.resize(4,6)"
   ]
  },
  {
   "cell_type": "code",
   "execution_count": 53,
   "id": "ca1c0c11",
   "metadata": {},
   "outputs": [
    {
     "ename": "ValueError",
     "evalue": "cannot reshape array of size 20 into shape (4,6)",
     "output_type": "error",
     "traceback": [
      "\u001b[1;31m---------------------------------------------------------------------------\u001b[0m",
      "\u001b[1;31mValueError\u001b[0m                                Traceback (most recent call last)",
      "\u001b[1;32m~\\AppData\\Local\\Temp/ipykernel_10236/2747136986.py\u001b[0m in \u001b[0;36m<module>\u001b[1;34m\u001b[0m\n\u001b[1;32m----> 1\u001b[1;33m \u001b[0mary1\u001b[0m\u001b[1;33m.\u001b[0m\u001b[0mreshape\u001b[0m\u001b[1;33m(\u001b[0m\u001b[1;36m4\u001b[0m\u001b[1;33m,\u001b[0m\u001b[1;36m6\u001b[0m\u001b[1;33m)\u001b[0m\u001b[1;33m\u001b[0m\u001b[1;33m\u001b[0m\u001b[0m\n\u001b[0m",
      "\u001b[1;31mValueError\u001b[0m: cannot reshape array of size 20 into shape (4,6)"
     ]
    }
   ],
   "source": [
    "ary1.reshape(4,6)"
   ]
  },
  {
   "cell_type": "code",
   "execution_count": 54,
   "id": "b8a01a41",
   "metadata": {},
   "outputs": [],
   "source": [
    "ary1.resize(4,6,refcheck=False)"
   ]
  },
  {
   "cell_type": "code",
   "execution_count": 55,
   "id": "3e7c9c30",
   "metadata": {},
   "outputs": [
    {
     "data": {
      "text/plain": [
       "array([[10, 11, 12, 13, 14, 15],\n",
       "       [16, 17, 18, 19, 20, 21],\n",
       "       [22, 23, 24, 25, 26, 27],\n",
       "       [28, 29,  0,  0,  0,  0]])"
      ]
     },
     "execution_count": 55,
     "metadata": {},
     "output_type": "execute_result"
    }
   ],
   "source": [
    "ary1"
   ]
  },
  {
   "cell_type": "markdown",
   "id": "19a77de5",
   "metadata": {},
   "source": [
    "#### Resize calling with numpy"
   ]
  },
  {
   "cell_type": "code",
   "execution_count": 56,
   "id": "4041ba83",
   "metadata": {},
   "outputs": [],
   "source": [
    "b1=np.arange(10,20)"
   ]
  },
  {
   "cell_type": "code",
   "execution_count": 57,
   "id": "9d37a38e",
   "metadata": {},
   "outputs": [
    {
     "data": {
      "text/plain": [
       "array([10, 11, 12, 13, 14, 15, 16, 17, 18, 19])"
      ]
     },
     "execution_count": 57,
     "metadata": {},
     "output_type": "execute_result"
    }
   ],
   "source": [
    "b1"
   ]
  },
  {
   "cell_type": "code",
   "execution_count": 58,
   "id": "cf084e3f",
   "metadata": {},
   "outputs": [
    {
     "data": {
      "text/plain": [
       "(10,)"
      ]
     },
     "execution_count": 58,
     "metadata": {},
     "output_type": "execute_result"
    }
   ],
   "source": [
    "b1.shape"
   ]
  },
  {
   "cell_type": "code",
   "execution_count": 59,
   "id": "fdce3a61",
   "metadata": {},
   "outputs": [
    {
     "data": {
      "text/plain": [
       "array([[10, 11, 12, 13, 14],\n",
       "       [15, 16, 17, 18, 19]])"
      ]
     },
     "execution_count": 59,
     "metadata": {},
     "output_type": "execute_result"
    }
   ],
   "source": [
    "np.resize(b1,(2,5)) # not a permanent change"
   ]
  },
  {
   "cell_type": "code",
   "execution_count": 60,
   "id": "3960eed5",
   "metadata": {},
   "outputs": [
    {
     "data": {
      "text/plain": [
       "array([[10, 11, 12, 13, 14, 15],\n",
       "       [16, 17, 18, 19, 10, 11],\n",
       "       [12, 13, 14, 15, 16, 17]])"
      ]
     },
     "execution_count": 60,
     "metadata": {},
     "output_type": "execute_result"
    }
   ],
   "source": [
    "np.resize(b1,(3,6))"
   ]
  },
  {
   "cell_type": "code",
   "execution_count": 61,
   "id": "3a00fd73",
   "metadata": {},
   "outputs": [
    {
     "data": {
      "text/plain": [
       "array([10, 11, 12, 13, 14, 15, 16, 17, 18, 19])"
      ]
     },
     "execution_count": 61,
     "metadata": {},
     "output_type": "execute_result"
    }
   ],
   "source": [
    "b1"
   ]
  },
  {
   "cell_type": "code",
   "execution_count": 62,
   "id": "4eaa3ca8",
   "metadata": {},
   "outputs": [
    {
     "data": {
      "text/plain": [
       "array([[10, 11, 12, 13],\n",
       "       [14, 15, 16, 17],\n",
       "       [18, 19, 10, 11],\n",
       "       [12, 13, 14, 15],\n",
       "       [16, 17, 18, 19],\n",
       "       [10, 11, 12, 13]])"
      ]
     },
     "execution_count": 62,
     "metadata": {},
     "output_type": "execute_result"
    }
   ],
   "source": [
    "np.resize(b1,(6,4))"
   ]
  },
  {
   "cell_type": "markdown",
   "id": "aa5985bb",
   "metadata": {},
   "source": [
    "## Flattening of array"
   ]
  },
  {
   "cell_type": "markdown",
   "id": "59e78c02",
   "metadata": {},
   "source": [
    "### Flatten"
   ]
  },
  {
   "cell_type": "code",
   "execution_count": 63,
   "id": "411b2b82",
   "metadata": {},
   "outputs": [],
   "source": [
    "c1=np.random.randint(10,50,(4,6))"
   ]
  },
  {
   "cell_type": "code",
   "execution_count": 64,
   "id": "8a517db1",
   "metadata": {},
   "outputs": [
    {
     "data": {
      "text/plain": [
       "array([[43, 47, 23, 37, 32, 33],\n",
       "       [22, 20, 43, 35, 20, 42],\n",
       "       [17, 11, 42, 37, 43, 10],\n",
       "       [12, 19, 34, 46, 39, 11]])"
      ]
     },
     "execution_count": 64,
     "metadata": {},
     "output_type": "execute_result"
    }
   ],
   "source": [
    "c1"
   ]
  },
  {
   "cell_type": "code",
   "execution_count": 65,
   "id": "12ce4fbb",
   "metadata": {},
   "outputs": [
    {
     "data": {
      "text/plain": [
       "2"
      ]
     },
     "execution_count": 65,
     "metadata": {},
     "output_type": "execute_result"
    }
   ],
   "source": [
    "c1.ndim"
   ]
  },
  {
   "cell_type": "code",
   "execution_count": 66,
   "id": "c0c87134",
   "metadata": {},
   "outputs": [
    {
     "data": {
      "text/plain": [
       "(4, 6)"
      ]
     },
     "execution_count": 66,
     "metadata": {},
     "output_type": "execute_result"
    }
   ],
   "source": [
    "c1.shape"
   ]
  },
  {
   "cell_type": "code",
   "execution_count": 67,
   "id": "d78c8a7b",
   "metadata": {},
   "outputs": [
    {
     "data": {
      "text/plain": [
       "24"
      ]
     },
     "execution_count": 67,
     "metadata": {},
     "output_type": "execute_result"
    }
   ],
   "source": [
    "c1.size"
   ]
  },
  {
   "cell_type": "code",
   "execution_count": 68,
   "id": "0b3ffd41",
   "metadata": {},
   "outputs": [],
   "source": [
    "c1_flat=c1.flatten() # by default 'order=C',C:contiguous(Row Major)\n",
    "# flattened based on rows"
   ]
  },
  {
   "cell_type": "code",
   "execution_count": 69,
   "id": "d4ec6e96",
   "metadata": {},
   "outputs": [
    {
     "data": {
      "text/plain": [
       "array([43, 47, 23, 37, 32, 33, 22, 20, 43, 35, 20, 42, 17, 11, 42, 37, 43,\n",
       "       10, 12, 19, 34, 46, 39, 11])"
      ]
     },
     "execution_count": 69,
     "metadata": {},
     "output_type": "execute_result"
    }
   ],
   "source": [
    "c1_flat"
   ]
  },
  {
   "cell_type": "code",
   "execution_count": 70,
   "id": "73a5796d",
   "metadata": {},
   "outputs": [
    {
     "data": {
      "text/plain": [
       "array([[43, 47, 23, 37, 32, 33],\n",
       "       [22, 20, 43, 35, 20, 42],\n",
       "       [17, 11, 42, 37, 43, 10],\n",
       "       [12, 19, 34, 46, 39, 11]])"
      ]
     },
     "execution_count": 70,
     "metadata": {},
     "output_type": "execute_result"
    }
   ],
   "source": [
    "c1"
   ]
  },
  {
   "cell_type": "code",
   "execution_count": 71,
   "id": "8787b2de",
   "metadata": {},
   "outputs": [],
   "source": [
    "c1_f=c1.flatten(order='F')"
   ]
  },
  {
   "cell_type": "code",
   "execution_count": 72,
   "id": "6fb64330",
   "metadata": {},
   "outputs": [
    {
     "data": {
      "text/plain": [
       "array([43, 22, 17, 12, 47, 20, 11, 19, 23, 43, 42, 34, 37, 35, 37, 46, 32,\n",
       "       20, 43, 39, 33, 42, 10, 11])"
      ]
     },
     "execution_count": 72,
     "metadata": {},
     "output_type": "execute_result"
    }
   ],
   "source": [
    "c1_f"
   ]
  },
  {
   "cell_type": "code",
   "execution_count": 73,
   "id": "7dd7fc23",
   "metadata": {},
   "outputs": [],
   "source": [
    "c2=np.random.randint(10,90,(2,4,6))"
   ]
  },
  {
   "cell_type": "code",
   "execution_count": 74,
   "id": "51db90b2",
   "metadata": {},
   "outputs": [
    {
     "data": {
      "text/plain": [
       "array([[[15, 23, 44, 32, 67, 11],\n",
       "        [60, 71, 72, 28, 81, 52],\n",
       "        [50, 21, 14, 75, 59, 39],\n",
       "        [22, 59, 50, 36, 22, 56]],\n",
       "\n",
       "       [[75, 42, 75, 34, 72, 31],\n",
       "        [55, 44, 76, 83, 63, 73],\n",
       "        [15, 88, 34, 58, 31, 40],\n",
       "        [83, 63, 28, 39, 62, 16]]])"
      ]
     },
     "execution_count": 74,
     "metadata": {},
     "output_type": "execute_result"
    }
   ],
   "source": [
    "c2"
   ]
  },
  {
   "cell_type": "code",
   "execution_count": 75,
   "id": "68c9839a",
   "metadata": {},
   "outputs": [],
   "source": [
    "c2_flat=c2.flatten()"
   ]
  },
  {
   "cell_type": "code",
   "execution_count": 76,
   "id": "c4d9141e",
   "metadata": {},
   "outputs": [
    {
     "data": {
      "text/plain": [
       "array([15, 23, 44, 32, 67, 11, 60, 71, 72, 28, 81, 52, 50, 21, 14, 75, 59,\n",
       "       39, 22, 59, 50, 36, 22, 56, 75, 42, 75, 34, 72, 31, 55, 44, 76, 83,\n",
       "       63, 73, 15, 88, 34, 58, 31, 40, 83, 63, 28, 39, 62, 16])"
      ]
     },
     "execution_count": 76,
     "metadata": {},
     "output_type": "execute_result"
    }
   ],
   "source": [
    "c2_flat"
   ]
  },
  {
   "cell_type": "code",
   "execution_count": 77,
   "id": "5731c6aa",
   "metadata": {},
   "outputs": [
    {
     "data": {
      "text/plain": [
       "array([[[15, 23, 44, 32, 67, 11],\n",
       "        [60, 71, 72, 28, 81, 52],\n",
       "        [50, 21, 14, 75, 59, 39],\n",
       "        [22, 59, 50, 36, 22, 56]],\n",
       "\n",
       "       [[75, 42, 75, 34, 72, 31],\n",
       "        [55, 44, 76, 83, 63, 73],\n",
       "        [15, 88, 34, 58, 31, 40],\n",
       "        [83, 63, 28, 39, 62, 16]]])"
      ]
     },
     "execution_count": 77,
     "metadata": {},
     "output_type": "execute_result"
    }
   ],
   "source": [
    "c2"
   ]
  },
  {
   "cell_type": "code",
   "execution_count": 78,
   "id": "c73aa455",
   "metadata": {},
   "outputs": [],
   "source": [
    "c2_f=c2.flatten(order='F')"
   ]
  },
  {
   "cell_type": "code",
   "execution_count": 79,
   "id": "2d2aff98",
   "metadata": {},
   "outputs": [
    {
     "data": {
      "text/plain": [
       "array([15, 75, 60, 55, 50, 15, 22, 83, 23, 42, 71, 44, 21, 88, 59, 63, 44,\n",
       "       75, 72, 76, 14, 34, 50, 28, 32, 34, 28, 83, 75, 58, 36, 39, 67, 72,\n",
       "       81, 63, 59, 31, 22, 62, 11, 31, 52, 73, 39, 40, 56, 16])"
      ]
     },
     "execution_count": 79,
     "metadata": {},
     "output_type": "execute_result"
    }
   ],
   "source": [
    "c2_f"
   ]
  },
  {
   "cell_type": "markdown",
   "id": "ecc252fa",
   "metadata": {},
   "source": [
    "### Ravel"
   ]
  },
  {
   "cell_type": "code",
   "execution_count": 80,
   "id": "86564c3b",
   "metadata": {},
   "outputs": [
    {
     "data": {
      "text/plain": [
       "array([[43, 47, 23, 37, 32, 33],\n",
       "       [22, 20, 43, 35, 20, 42],\n",
       "       [17, 11, 42, 37, 43, 10],\n",
       "       [12, 19, 34, 46, 39, 11]])"
      ]
     },
     "execution_count": 80,
     "metadata": {},
     "output_type": "execute_result"
    }
   ],
   "source": [
    "c1"
   ]
  },
  {
   "cell_type": "code",
   "execution_count": 81,
   "id": "06f15012",
   "metadata": {},
   "outputs": [
    {
     "data": {
      "text/plain": [
       "array([43, 47, 23, 37, 32, 33, 22, 20, 43, 35, 20, 42, 17, 11, 42, 37, 43,\n",
       "       10, 12, 19, 34, 46, 39, 11])"
      ]
     },
     "execution_count": 81,
     "metadata": {},
     "output_type": "execute_result"
    }
   ],
   "source": [
    "np.ravel(c1)"
   ]
  },
  {
   "cell_type": "code",
   "execution_count": 82,
   "id": "abf7a755",
   "metadata": {},
   "outputs": [
    {
     "data": {
      "text/plain": [
       "array([43, 22, 17, 12, 47, 20, 11, 19, 23, 43, 42, 34, 37, 35, 37, 46, 32,\n",
       "       20, 43, 39, 33, 42, 10, 11])"
      ]
     },
     "execution_count": 82,
     "metadata": {},
     "output_type": "execute_result"
    }
   ],
   "source": [
    "np.ravel(c1,order='F')"
   ]
  },
  {
   "cell_type": "code",
   "execution_count": 83,
   "id": "cfe1e441",
   "metadata": {},
   "outputs": [
    {
     "data": {
      "text/plain": [
       "array([[[15, 23, 44, 32, 67, 11],\n",
       "        [60, 71, 72, 28, 81, 52],\n",
       "        [50, 21, 14, 75, 59, 39],\n",
       "        [22, 59, 50, 36, 22, 56]],\n",
       "\n",
       "       [[75, 42, 75, 34, 72, 31],\n",
       "        [55, 44, 76, 83, 63, 73],\n",
       "        [15, 88, 34, 58, 31, 40],\n",
       "        [83, 63, 28, 39, 62, 16]]])"
      ]
     },
     "execution_count": 83,
     "metadata": {},
     "output_type": "execute_result"
    }
   ],
   "source": [
    "c2"
   ]
  },
  {
   "cell_type": "code",
   "execution_count": 84,
   "id": "2262f0c3",
   "metadata": {},
   "outputs": [
    {
     "data": {
      "text/plain": [
       "array([15, 23, 44, 32, 67, 11, 60, 71, 72, 28, 81, 52, 50, 21, 14, 75, 59,\n",
       "       39, 22, 59, 50, 36, 22, 56, 75, 42, 75, 34, 72, 31, 55, 44, 76, 83,\n",
       "       63, 73, 15, 88, 34, 58, 31, 40, 83, 63, 28, 39, 62, 16])"
      ]
     },
     "execution_count": 84,
     "metadata": {},
     "output_type": "execute_result"
    }
   ],
   "source": [
    "np.ravel(c2)"
   ]
  },
  {
   "cell_type": "code",
   "execution_count": 90,
   "id": "cc6767e2",
   "metadata": {},
   "outputs": [
    {
     "data": {
      "text/plain": [
       "array([15, 75, 60, 55, 50, 15, 22, 83, 23, 42, 71, 44, 21, 88, 59, 63, 44,\n",
       "       75, 72, 76, 14, 34, 50, 28, 32, 34, 28, 83, 75, 58, 36, 39, 67, 72,\n",
       "       81, 63, 59, 31, 22, 62, 11, 31, 52, 73, 39, 40, 56, 16])"
      ]
     },
     "execution_count": 90,
     "metadata": {},
     "output_type": "execute_result"
    }
   ],
   "source": [
    "np.ravel(c2,order='F')"
   ]
  },
  {
   "cell_type": "markdown",
   "id": "d20c341c",
   "metadata": {},
   "source": [
    "## Numpy Insert"
   ]
  },
  {
   "cell_type": "code",
   "execution_count": 93,
   "id": "9a861139",
   "metadata": {},
   "outputs": [],
   "source": [
    "d1=np.arange(11,50,7)"
   ]
  },
  {
   "cell_type": "code",
   "execution_count": 94,
   "id": "8c8a51ac",
   "metadata": {},
   "outputs": [
    {
     "data": {
      "text/plain": [
       "array([11, 18, 25, 32, 39, 46])"
      ]
     },
     "execution_count": 94,
     "metadata": {},
     "output_type": "execute_result"
    }
   ],
   "source": [
    "d1"
   ]
  },
  {
   "cell_type": "code",
   "execution_count": 95,
   "id": "143181d1",
   "metadata": {},
   "outputs": [
    {
     "data": {
      "text/plain": [
       "array([11, 18, 99, 25, 32, 39, 46])"
      ]
     },
     "execution_count": 95,
     "metadata": {},
     "output_type": "execute_result"
    }
   ],
   "source": [
    "np.insert(d1,2,99) # by default axis=None"
   ]
  },
  {
   "cell_type": "code",
   "execution_count": 96,
   "id": "e8c7cf0c",
   "metadata": {},
   "outputs": [
    {
     "data": {
      "text/plain": [
       "array([11, 18, 25, 32, 39, 46])"
      ]
     },
     "execution_count": 96,
     "metadata": {},
     "output_type": "execute_result"
    }
   ],
   "source": [
    "d1"
   ]
  },
  {
   "cell_type": "code",
   "execution_count": 100,
   "id": "3e906479",
   "metadata": {},
   "outputs": [
    {
     "data": {
      "text/plain": [
       "array([ 11,  18,  25, 100, 200,  32,  39,  46])"
      ]
     },
     "execution_count": 100,
     "metadata": {},
     "output_type": "execute_result"
    }
   ],
   "source": [
    "np.insert(d1,3,[100,200],axis=None)"
   ]
  },
  {
   "cell_type": "code",
   "execution_count": 98,
   "id": "fadfadac",
   "metadata": {},
   "outputs": [
    {
     "data": {
      "text/plain": [
       "array([11, 18, 25, 32, 39, 46])"
      ]
     },
     "execution_count": 98,
     "metadata": {},
     "output_type": "execute_result"
    }
   ],
   "source": [
    "d1"
   ]
  },
  {
   "cell_type": "code",
   "execution_count": 99,
   "id": "539b6c27",
   "metadata": {},
   "outputs": [
    {
     "data": {
      "text/plain": [
       "array([11, 78, 18, 25, 32, 78, 39, 46])"
      ]
     },
     "execution_count": 99,
     "metadata": {},
     "output_type": "execute_result"
    }
   ],
   "source": [
    "np.insert(d1,[1,4],78)"
   ]
  },
  {
   "cell_type": "code",
   "execution_count": 102,
   "id": "37b2fa1c",
   "metadata": {},
   "outputs": [
    {
     "data": {
      "text/plain": [
       "array([11, 18, 25, 32, 39, 46])"
      ]
     },
     "execution_count": 102,
     "metadata": {},
     "output_type": "execute_result"
    }
   ],
   "source": [
    "d1"
   ]
  },
  {
   "cell_type": "code",
   "execution_count": 101,
   "id": "d992760f",
   "metadata": {},
   "outputs": [
    {
     "data": {
      "text/plain": [
       "array([  11, 1000,   18,   25,   32, 2000,   39,   46])"
      ]
     },
     "execution_count": 101,
     "metadata": {},
     "output_type": "execute_result"
    }
   ],
   "source": [
    "np.insert(d1,[1,4],[1000,2000])"
   ]
  },
  {
   "cell_type": "code",
   "execution_count": 105,
   "id": "69b3dea6",
   "metadata": {},
   "outputs": [
    {
     "data": {
      "text/plain": [
       "array([[43, 47, 23, 37, 32, 33],\n",
       "       [22, 20, 43, 35, 20, 42],\n",
       "       [17, 11, 42, 37, 43, 10],\n",
       "       [12, 19, 34, 46, 39, 11]])"
      ]
     },
     "execution_count": 105,
     "metadata": {},
     "output_type": "execute_result"
    }
   ],
   "source": [
    "c1"
   ]
  },
  {
   "cell_type": "code",
   "execution_count": 125,
   "id": "a3749c59",
   "metadata": {},
   "outputs": [
    {
     "data": {
      "text/plain": [
       "array([ 43, 999,  47,  23,  37,  32,  33,  22,  20,  43,  35,  20,  42,\n",
       "        17,  11,  42,  37,  43,  10,  12,  19,  34,  46,  39,  11])"
      ]
     },
     "execution_count": 125,
     "metadata": {},
     "output_type": "execute_result"
    }
   ],
   "source": [
    "np.insert(c1,1,999,axis=None) # it will flatten the array and find index 1 and then insert it"
   ]
  },
  {
   "cell_type": "code",
   "execution_count": 120,
   "id": "e305814a",
   "metadata": {},
   "outputs": [
    {
     "data": {
      "text/plain": [
       "array([[ 43,  47,  23,  37,  32,  33],\n",
       "       [999, 999, 999, 999, 999, 999],\n",
       "       [ 22,  20,  43,  35,  20,  42],\n",
       "       [ 17,  11,  42,  37,  43,  10],\n",
       "       [ 12,  19,  34,  46,  39,  11]])"
      ]
     },
     "execution_count": 120,
     "metadata": {},
     "output_type": "execute_result"
    }
   ],
   "source": [
    "np.insert(c1,1,999,axis=0)"
   ]
  },
  {
   "cell_type": "code",
   "execution_count": 122,
   "id": "e3b8b871",
   "metadata": {},
   "outputs": [
    {
     "data": {
      "text/plain": [
       "array([[ 43,  47,  23,  37,  32,  33],\n",
       "       [ 22,  20,  43,  35,  20,  42],\n",
       "       [999, 999, 999, 999, 999, 999],\n",
       "       [ 17,  11,  42,  37,  43,  10],\n",
       "       [999, 999, 999, 999, 999, 999],\n",
       "       [ 12,  19,  34,  46,  39,  11]])"
      ]
     },
     "execution_count": 122,
     "metadata": {},
     "output_type": "execute_result"
    }
   ],
   "source": [
    "np.insert(c1,[2,3],999,axis=0)"
   ]
  },
  {
   "cell_type": "code",
   "execution_count": 114,
   "id": "5d7db852",
   "metadata": {},
   "outputs": [
    {
     "data": {
      "text/plain": [
       "array([[43, 47, 23, 37, 32, 33],\n",
       "       [22, 20, 43, 35, 20, 42],\n",
       "       [17, 11, 42, 37, 43, 10],\n",
       "       [12, 19, 34, 46, 39, 11]])"
      ]
     },
     "execution_count": 114,
     "metadata": {},
     "output_type": "execute_result"
    }
   ],
   "source": [
    "c1"
   ]
  },
  {
   "cell_type": "code",
   "execution_count": 123,
   "id": "e39e3ac3",
   "metadata": {},
   "outputs": [
    {
     "data": {
      "text/plain": [
       "array([[43, 47,  9, 23, 37, 32, 33],\n",
       "       [22, 20,  9, 43, 35, 20, 42],\n",
       "       [17, 11,  9, 42, 37, 43, 10],\n",
       "       [12, 19,  9, 34, 46, 39, 11]])"
      ]
     },
     "execution_count": 123,
     "metadata": {},
     "output_type": "execute_result"
    }
   ],
   "source": [
    "np.insert(c1,2,9,axis=1) "
   ]
  },
  {
   "cell_type": "code",
   "execution_count": 124,
   "id": "0c69bbd7",
   "metadata": {},
   "outputs": [
    {
     "data": {
      "text/plain": [
       "array([[43,  8, 47, 23,  8, 37, 32, 33],\n",
       "       [22,  8, 20, 43,  8, 35, 20, 42],\n",
       "       [17,  8, 11, 42,  8, 37, 43, 10],\n",
       "       [12,  8, 19, 34,  8, 46, 39, 11]])"
      ]
     },
     "execution_count": 124,
     "metadata": {},
     "output_type": "execute_result"
    }
   ],
   "source": [
    "np.insert(c1,[1,3],8,axis=1)"
   ]
  },
  {
   "cell_type": "markdown",
   "id": "db3f5c35",
   "metadata": {},
   "source": [
    "## Append"
   ]
  },
  {
   "cell_type": "code",
   "execution_count": 126,
   "id": "c793634f",
   "metadata": {},
   "outputs": [
    {
     "data": {
      "text/plain": [
       "array([11, 18, 25, 32, 39, 46])"
      ]
     },
     "execution_count": 126,
     "metadata": {},
     "output_type": "execute_result"
    }
   ],
   "source": [
    "d1"
   ]
  },
  {
   "cell_type": "code",
   "execution_count": 127,
   "id": "5ada9a09",
   "metadata": {},
   "outputs": [
    {
     "data": {
      "text/plain": [
       "array([  11,   18,   25,   32,   39,   46, 9999])"
      ]
     },
     "execution_count": 127,
     "metadata": {},
     "output_type": "execute_result"
    }
   ],
   "source": [
    "np.append(d1,9999,axis=None) # by default axis=None"
   ]
  },
  {
   "cell_type": "code",
   "execution_count": 128,
   "id": "f7b70bec",
   "metadata": {},
   "outputs": [
    {
     "data": {
      "text/plain": [
       "array([[43, 47, 23, 37, 32, 33],\n",
       "       [22, 20, 43, 35, 20, 42],\n",
       "       [17, 11, 42, 37, 43, 10],\n",
       "       [12, 19, 34, 46, 39, 11]])"
      ]
     },
     "execution_count": 128,
     "metadata": {},
     "output_type": "execute_result"
    }
   ],
   "source": [
    "c1"
   ]
  },
  {
   "cell_type": "code",
   "execution_count": 129,
   "id": "c9875c68",
   "metadata": {},
   "outputs": [
    {
     "data": {
      "text/plain": [
       "array([  43,   47,   23,   37,   32,   33,   22,   20,   43,   35,   20,\n",
       "         42,   17,   11,   42,   37,   43,   10,   12,   19,   34,   46,\n",
       "         39,   11, 9999])"
      ]
     },
     "execution_count": 129,
     "metadata": {},
     "output_type": "execute_result"
    }
   ],
   "source": [
    "np.append(c1,9999,axis=None) # it will flatten the array first"
   ]
  },
  {
   "cell_type": "code",
   "execution_count": 130,
   "id": "0fa2f813",
   "metadata": {},
   "outputs": [
    {
     "data": {
      "text/plain": [
       "array([[43, 47, 23, 37, 32, 33],\n",
       "       [22, 20, 43, 35, 20, 42],\n",
       "       [17, 11, 42, 37, 43, 10],\n",
       "       [12, 19, 34, 46, 39, 11]])"
      ]
     },
     "execution_count": 130,
     "metadata": {},
     "output_type": "execute_result"
    }
   ],
   "source": [
    "c1"
   ]
  },
  {
   "cell_type": "code",
   "execution_count": 137,
   "id": "b30578d4",
   "metadata": {},
   "outputs": [
    {
     "ename": "ValueError",
     "evalue": "all the input arrays must have same number of dimensions, but the array at index 0 has 2 dimension(s) and the array at index 1 has 0 dimension(s)",
     "output_type": "error",
     "traceback": [
      "\u001b[1;31m---------------------------------------------------------------------------\u001b[0m",
      "\u001b[1;31mValueError\u001b[0m                                Traceback (most recent call last)",
      "\u001b[1;32m~\\AppData\\Local\\Temp/ipykernel_10236/941659225.py\u001b[0m in \u001b[0;36m<module>\u001b[1;34m\u001b[0m\n\u001b[1;32m----> 1\u001b[1;33m \u001b[0mnp\u001b[0m\u001b[1;33m.\u001b[0m\u001b[0mappend\u001b[0m\u001b[1;33m(\u001b[0m\u001b[0mc1\u001b[0m\u001b[1;33m,\u001b[0m\u001b[1;36m11\u001b[0m\u001b[1;33m,\u001b[0m\u001b[0maxis\u001b[0m\u001b[1;33m=\u001b[0m\u001b[1;36m0\u001b[0m\u001b[1;33m)\u001b[0m\u001b[1;33m\u001b[0m\u001b[1;33m\u001b[0m\u001b[0m\n\u001b[0m",
      "\u001b[1;32m<__array_function__ internals>\u001b[0m in \u001b[0;36mappend\u001b[1;34m(*args, **kwargs)\u001b[0m\n",
      "\u001b[1;32m~\\anaconda3\\lib\\site-packages\\numpy\\lib\\function_base.py\u001b[0m in \u001b[0;36mappend\u001b[1;34m(arr, values, axis)\u001b[0m\n\u001b[0;32m   4743\u001b[0m         \u001b[0mvalues\u001b[0m \u001b[1;33m=\u001b[0m \u001b[0mravel\u001b[0m\u001b[1;33m(\u001b[0m\u001b[0mvalues\u001b[0m\u001b[1;33m)\u001b[0m\u001b[1;33m\u001b[0m\u001b[1;33m\u001b[0m\u001b[0m\n\u001b[0;32m   4744\u001b[0m         \u001b[0maxis\u001b[0m \u001b[1;33m=\u001b[0m \u001b[0marr\u001b[0m\u001b[1;33m.\u001b[0m\u001b[0mndim\u001b[0m\u001b[1;33m-\u001b[0m\u001b[1;36m1\u001b[0m\u001b[1;33m\u001b[0m\u001b[1;33m\u001b[0m\u001b[0m\n\u001b[1;32m-> 4745\u001b[1;33m     \u001b[1;32mreturn\u001b[0m \u001b[0mconcatenate\u001b[0m\u001b[1;33m(\u001b[0m\u001b[1;33m(\u001b[0m\u001b[0marr\u001b[0m\u001b[1;33m,\u001b[0m \u001b[0mvalues\u001b[0m\u001b[1;33m)\u001b[0m\u001b[1;33m,\u001b[0m \u001b[0maxis\u001b[0m\u001b[1;33m=\u001b[0m\u001b[0maxis\u001b[0m\u001b[1;33m)\u001b[0m\u001b[1;33m\u001b[0m\u001b[1;33m\u001b[0m\u001b[0m\n\u001b[0m\u001b[0;32m   4746\u001b[0m \u001b[1;33m\u001b[0m\u001b[0m\n\u001b[0;32m   4747\u001b[0m \u001b[1;33m\u001b[0m\u001b[0m\n",
      "\u001b[1;32m<__array_function__ internals>\u001b[0m in \u001b[0;36mconcatenate\u001b[1;34m(*args, **kwargs)\u001b[0m\n",
      "\u001b[1;31mValueError\u001b[0m: all the input arrays must have same number of dimensions, but the array at index 0 has 2 dimension(s) and the array at index 1 has 0 dimension(s)"
     ]
    }
   ],
   "source": [
    "np.append(c1,11,axis=0)"
   ]
  },
  {
   "cell_type": "code",
   "execution_count": 133,
   "id": "fcea2e0a",
   "metadata": {},
   "outputs": [
    {
     "data": {
      "text/plain": [
       "array([[43, 47, 23, 37, 32, 33],\n",
       "       [22, 20, 43, 35, 20, 42],\n",
       "       [17, 11, 42, 37, 43, 10],\n",
       "       [12, 19, 34, 46, 39, 11],\n",
       "       [11, 11, 11, 11, 11, 11]])"
      ]
     },
     "execution_count": 133,
     "metadata": {},
     "output_type": "execute_result"
    }
   ],
   "source": [
    "np.append(c1,[[11,11,11,11,11,11]],axis=0) # check the square brackets and compare with the insert function syntax"
   ]
  },
  {
   "cell_type": "code",
   "execution_count": 136,
   "id": "99b829e0",
   "metadata": {},
   "outputs": [
    {
     "data": {
      "text/plain": [
       "array([[43, 47, 23, 37, 32, 33, 11],\n",
       "       [22, 20, 43, 35, 20, 42, 11],\n",
       "       [17, 11, 42, 37, 43, 10, 11],\n",
       "       [12, 19, 34, 46, 39, 11, 11]])"
      ]
     },
     "execution_count": 136,
     "metadata": {},
     "output_type": "execute_result"
    }
   ],
   "source": [
    "np.append(c1,[[11],[11],[11],[11]],axis=1) # check the square brackets"
   ]
  },
  {
   "cell_type": "markdown",
   "id": "c034cbff",
   "metadata": {},
   "source": [
    "## Delete"
   ]
  },
  {
   "cell_type": "code",
   "execution_count": 138,
   "id": "1ba00850",
   "metadata": {},
   "outputs": [
    {
     "data": {
      "text/plain": [
       "array([11, 18, 25, 32, 39, 46])"
      ]
     },
     "execution_count": 138,
     "metadata": {},
     "output_type": "execute_result"
    }
   ],
   "source": [
    "d1"
   ]
  },
  {
   "cell_type": "code",
   "execution_count": 140,
   "id": "032b3649",
   "metadata": {},
   "outputs": [
    {
     "data": {
      "text/plain": [
       "array([11, 18, 32, 39, 46])"
      ]
     },
     "execution_count": 140,
     "metadata": {},
     "output_type": "execute_result"
    }
   ],
   "source": [
    "np.delete(d1,2,axis=None)"
   ]
  },
  {
   "cell_type": "code",
   "execution_count": 141,
   "id": "ca00f8a1",
   "metadata": {},
   "outputs": [
    {
     "data": {
      "text/plain": [
       "array([[43, 47, 23, 37, 32, 33],\n",
       "       [22, 20, 43, 35, 20, 42],\n",
       "       [17, 11, 42, 37, 43, 10],\n",
       "       [12, 19, 34, 46, 39, 11]])"
      ]
     },
     "execution_count": 141,
     "metadata": {},
     "output_type": "execute_result"
    }
   ],
   "source": [
    "c1"
   ]
  },
  {
   "cell_type": "code",
   "execution_count": 143,
   "id": "28c43c0b",
   "metadata": {},
   "outputs": [
    {
     "data": {
      "text/plain": [
       "array([43, 47, 37, 32, 33, 22, 20, 43, 35, 20, 42, 17, 11, 42, 37, 43, 10,\n",
       "       12, 19, 34, 46, 39, 11])"
      ]
     },
     "execution_count": 143,
     "metadata": {},
     "output_type": "execute_result"
    }
   ],
   "source": [
    "np.delete(c1,2,axis=None) # it will flatten first and then delete"
   ]
  },
  {
   "cell_type": "code",
   "execution_count": 146,
   "id": "2df3b108",
   "metadata": {},
   "outputs": [
    {
     "data": {
      "text/plain": [
       "array([[43, 47, 23, 37, 32, 33],\n",
       "       [22, 20, 43, 35, 20, 42],\n",
       "       [12, 19, 34, 46, 39, 11]])"
      ]
     },
     "execution_count": 146,
     "metadata": {},
     "output_type": "execute_result"
    }
   ],
   "source": [
    "np.delete(c1,2,axis=0)"
   ]
  },
  {
   "cell_type": "code",
   "execution_count": 150,
   "id": "97232927",
   "metadata": {},
   "outputs": [
    {
     "data": {
      "text/plain": [
       "array([[43, 47, 23, 37, 32, 33],\n",
       "       [22, 20, 43, 35, 20, 42],\n",
       "       [17, 11, 42, 37, 43, 10],\n",
       "       [12, 19, 34, 46, 39, 11]])"
      ]
     },
     "execution_count": 150,
     "metadata": {},
     "output_type": "execute_result"
    }
   ],
   "source": [
    "c1"
   ]
  },
  {
   "cell_type": "code",
   "execution_count": 147,
   "id": "34756f62",
   "metadata": {},
   "outputs": [
    {
     "data": {
      "text/plain": [
       "array([[43, 47, 23, 37, 32, 33],\n",
       "       [17, 11, 42, 37, 43, 10],\n",
       "       [12, 19, 34, 46, 39, 11]])"
      ]
     },
     "execution_count": 147,
     "metadata": {},
     "output_type": "execute_result"
    }
   ],
   "source": [
    "np.delete(c1,1,axis=0)"
   ]
  },
  {
   "cell_type": "code",
   "execution_count": 148,
   "id": "28025195",
   "metadata": {},
   "outputs": [
    {
     "data": {
      "text/plain": [
       "array([[43, 47, 23, 37, 32, 33],\n",
       "       [22, 20, 43, 35, 20, 42],\n",
       "       [17, 11, 42, 37, 43, 10],\n",
       "       [12, 19, 34, 46, 39, 11]])"
      ]
     },
     "execution_count": 148,
     "metadata": {},
     "output_type": "execute_result"
    }
   ],
   "source": [
    "c1"
   ]
  },
  {
   "cell_type": "code",
   "execution_count": 149,
   "id": "c46cf71e",
   "metadata": {},
   "outputs": [
    {
     "data": {
      "text/plain": [
       "array([[43, 47, 37, 32, 33],\n",
       "       [22, 20, 35, 20, 42],\n",
       "       [17, 11, 37, 43, 10],\n",
       "       [12, 19, 46, 39, 11]])"
      ]
     },
     "execution_count": 149,
     "metadata": {},
     "output_type": "execute_result"
    }
   ],
   "source": [
    "np.delete(c1,2,axis=1)"
   ]
  },
  {
   "cell_type": "markdown",
   "id": "177b539c",
   "metadata": {},
   "source": [
    "## Concatenate"
   ]
  },
  {
   "cell_type": "code",
   "execution_count": 151,
   "id": "30670fc5",
   "metadata": {},
   "outputs": [
    {
     "data": {
      "text/plain": [
       "array([11, 18, 25, 32, 39, 46])"
      ]
     },
     "execution_count": 151,
     "metadata": {},
     "output_type": "execute_result"
    }
   ],
   "source": [
    "d1"
   ]
  },
  {
   "cell_type": "code",
   "execution_count": 152,
   "id": "49d18274",
   "metadata": {},
   "outputs": [],
   "source": [
    "d2=np.arange(20,26)"
   ]
  },
  {
   "cell_type": "code",
   "execution_count": 153,
   "id": "903825fc",
   "metadata": {},
   "outputs": [
    {
     "data": {
      "text/plain": [
       "array([20, 21, 22, 23, 24, 25])"
      ]
     },
     "execution_count": 153,
     "metadata": {},
     "output_type": "execute_result"
    }
   ],
   "source": [
    "d2"
   ]
  },
  {
   "cell_type": "code",
   "execution_count": 154,
   "id": "0be5a315",
   "metadata": {},
   "outputs": [
    {
     "data": {
      "text/plain": [
       "array([31, 39, 47, 55, 63, 71])"
      ]
     },
     "execution_count": 154,
     "metadata": {},
     "output_type": "execute_result"
    }
   ],
   "source": [
    "d1+d2"
   ]
  },
  {
   "cell_type": "code",
   "execution_count": 156,
   "id": "a50e029e",
   "metadata": {},
   "outputs": [
    {
     "data": {
      "text/plain": [
       "array([11, 18, 25, 32, 39, 46, 20, 21, 22, 23, 24, 25])"
      ]
     },
     "execution_count": 156,
     "metadata": {},
     "output_type": "execute_result"
    }
   ],
   "source": [
    "np.concatenate((d1,d2)) # double parenthesis"
   ]
  },
  {
   "cell_type": "code",
   "execution_count": 157,
   "id": "f5d76495",
   "metadata": {},
   "outputs": [
    {
     "data": {
      "text/plain": [
       "(6,)"
      ]
     },
     "execution_count": 157,
     "metadata": {},
     "output_type": "execute_result"
    }
   ],
   "source": [
    "d1.shape"
   ]
  },
  {
   "cell_type": "code",
   "execution_count": 158,
   "id": "668ae07a",
   "metadata": {},
   "outputs": [
    {
     "data": {
      "text/plain": [
       "(6,)"
      ]
     },
     "execution_count": 158,
     "metadata": {},
     "output_type": "execute_result"
    }
   ],
   "source": [
    "d2.shape"
   ]
  },
  {
   "cell_type": "code",
   "execution_count": 159,
   "id": "c186690e",
   "metadata": {},
   "outputs": [],
   "source": [
    "d3=np.arange(10,19)"
   ]
  },
  {
   "cell_type": "code",
   "execution_count": 160,
   "id": "7c884403",
   "metadata": {},
   "outputs": [
    {
     "data": {
      "text/plain": [
       "array([10, 11, 12, 13, 14, 15, 16, 17, 18])"
      ]
     },
     "execution_count": 160,
     "metadata": {},
     "output_type": "execute_result"
    }
   ],
   "source": [
    "d3"
   ]
  },
  {
   "cell_type": "code",
   "execution_count": 161,
   "id": "cb62f93f",
   "metadata": {},
   "outputs": [
    {
     "data": {
      "text/plain": [
       "(9,)"
      ]
     },
     "execution_count": 161,
     "metadata": {},
     "output_type": "execute_result"
    }
   ],
   "source": [
    "d3.shape"
   ]
  },
  {
   "cell_type": "code",
   "execution_count": 163,
   "id": "ec07cb06",
   "metadata": {},
   "outputs": [
    {
     "data": {
      "text/plain": [
       "array([11, 18, 25, 32, 39, 46, 10, 11, 12, 13, 14, 15, 16, 17, 18])"
      ]
     },
     "execution_count": 163,
     "metadata": {},
     "output_type": "execute_result"
    }
   ],
   "source": [
    "np.concatenate((d1,d3))"
   ]
  },
  {
   "cell_type": "code",
   "execution_count": 164,
   "id": "1634803c",
   "metadata": {},
   "outputs": [],
   "source": [
    "n1=np.arange(1,5).reshape(2,2)"
   ]
  },
  {
   "cell_type": "code",
   "execution_count": 165,
   "id": "9ab07cbc",
   "metadata": {},
   "outputs": [
    {
     "data": {
      "text/plain": [
       "array([[1, 2],\n",
       "       [3, 4]])"
      ]
     },
     "execution_count": 165,
     "metadata": {},
     "output_type": "execute_result"
    }
   ],
   "source": [
    "n1"
   ]
  },
  {
   "cell_type": "code",
   "execution_count": 166,
   "id": "3e315c1e",
   "metadata": {},
   "outputs": [],
   "source": [
    "n2=np.arange(11,15).reshape(2,2)"
   ]
  },
  {
   "cell_type": "code",
   "execution_count": 167,
   "id": "d8e9eaaa",
   "metadata": {},
   "outputs": [
    {
     "data": {
      "text/plain": [
       "array([[11, 12],\n",
       "       [13, 14]])"
      ]
     },
     "execution_count": 167,
     "metadata": {},
     "output_type": "execute_result"
    }
   ],
   "source": [
    "n2"
   ]
  },
  {
   "cell_type": "code",
   "execution_count": 168,
   "id": "75af308e",
   "metadata": {},
   "outputs": [
    {
     "data": {
      "text/plain": [
       "array([[ 1,  2],\n",
       "       [ 3,  4],\n",
       "       [11, 12],\n",
       "       [13, 14]])"
      ]
     },
     "execution_count": 168,
     "metadata": {},
     "output_type": "execute_result"
    }
   ],
   "source": [
    "np.concatenate((n1,n2)) # one above the other for axis=0(default). There is no any concept of axis=None so don't be confused"
   ]
  },
  {
   "cell_type": "code",
   "execution_count": 169,
   "id": "67f132cc",
   "metadata": {},
   "outputs": [
    {
     "data": {
      "text/plain": [
       "array([[ 1,  2, 11, 12],\n",
       "       [ 3,  4, 13, 14]])"
      ]
     },
     "execution_count": 169,
     "metadata": {},
     "output_type": "execute_result"
    }
   ],
   "source": [
    "np.concatenate((n1,n2),axis=1) # side by side for axis=1."
   ]
  },
  {
   "cell_type": "code",
   "execution_count": 170,
   "id": "d87a9f13",
   "metadata": {},
   "outputs": [],
   "source": [
    "n3=np.random.randint(1,5,(2,3))"
   ]
  },
  {
   "cell_type": "code",
   "execution_count": 171,
   "id": "17e7d8a8",
   "metadata": {},
   "outputs": [
    {
     "data": {
      "text/plain": [
       "array([[3, 1, 2],\n",
       "       [3, 1, 3]])"
      ]
     },
     "execution_count": 171,
     "metadata": {},
     "output_type": "execute_result"
    }
   ],
   "source": [
    "n3"
   ]
  },
  {
   "cell_type": "code",
   "execution_count": 172,
   "id": "ef80b605",
   "metadata": {},
   "outputs": [
    {
     "data": {
      "text/plain": [
       "(2, 3)"
      ]
     },
     "execution_count": 172,
     "metadata": {},
     "output_type": "execute_result"
    }
   ],
   "source": [
    "n3.shape"
   ]
  },
  {
   "cell_type": "code",
   "execution_count": 173,
   "id": "dfec213f",
   "metadata": {},
   "outputs": [
    {
     "data": {
      "text/plain": [
       "(2, 2)"
      ]
     },
     "execution_count": 173,
     "metadata": {},
     "output_type": "execute_result"
    }
   ],
   "source": [
    "n2.shape"
   ]
  },
  {
   "cell_type": "code",
   "execution_count": 175,
   "id": "eeb4a691",
   "metadata": {},
   "outputs": [
    {
     "ename": "ValueError",
     "evalue": "all the input array dimensions for the concatenation axis must match exactly, but along dimension 1, the array at index 0 has size 2 and the array at index 1 has size 3",
     "output_type": "error",
     "traceback": [
      "\u001b[1;31m---------------------------------------------------------------------------\u001b[0m",
      "\u001b[1;31mValueError\u001b[0m                                Traceback (most recent call last)",
      "\u001b[1;32m~\\AppData\\Local\\Temp/ipykernel_10236/2742078589.py\u001b[0m in \u001b[0;36m<module>\u001b[1;34m\u001b[0m\n\u001b[1;32m----> 1\u001b[1;33m \u001b[0mnp\u001b[0m\u001b[1;33m.\u001b[0m\u001b[0mconcatenate\u001b[0m\u001b[1;33m(\u001b[0m\u001b[1;33m(\u001b[0m\u001b[0mn2\u001b[0m\u001b[1;33m,\u001b[0m\u001b[0mn3\u001b[0m\u001b[1;33m)\u001b[0m\u001b[1;33m,\u001b[0m\u001b[0maxis\u001b[0m\u001b[1;33m=\u001b[0m\u001b[1;36m0\u001b[0m\u001b[1;33m)\u001b[0m\u001b[1;33m\u001b[0m\u001b[1;33m\u001b[0m\u001b[0m\n\u001b[0m",
      "\u001b[1;32m<__array_function__ internals>\u001b[0m in \u001b[0;36mconcatenate\u001b[1;34m(*args, **kwargs)\u001b[0m\n",
      "\u001b[1;31mValueError\u001b[0m: all the input array dimensions for the concatenation axis must match exactly, but along dimension 1, the array at index 0 has size 2 and the array at index 1 has size 3"
     ]
    }
   ],
   "source": [
    "np.concatenate((n2,n3),axis=0)"
   ]
  },
  {
   "cell_type": "code",
   "execution_count": 176,
   "id": "91f79d52",
   "metadata": {},
   "outputs": [
    {
     "data": {
      "text/plain": [
       "array([[11, 12,  3,  1,  2],\n",
       "       [13, 14,  3,  1,  3]])"
      ]
     },
     "execution_count": 176,
     "metadata": {},
     "output_type": "execute_result"
    }
   ],
   "source": [
    "np.concatenate((n2,n3),axis=1) # possible here"
   ]
  },
  {
   "cell_type": "code",
   "execution_count": null,
   "id": "69b868a7",
   "metadata": {},
   "outputs": [],
   "source": []
  }
 ],
 "metadata": {
  "kernelspec": {
   "display_name": "Python 3 (ipykernel)",
   "language": "python",
   "name": "python3"
  },
  "language_info": {
   "codemirror_mode": {
    "name": "ipython",
    "version": 3
   },
   "file_extension": ".py",
   "mimetype": "text/x-python",
   "name": "python",
   "nbconvert_exporter": "python",
   "pygments_lexer": "ipython3",
   "version": "3.9.7"
  }
 },
 "nbformat": 4,
 "nbformat_minor": 5
}
