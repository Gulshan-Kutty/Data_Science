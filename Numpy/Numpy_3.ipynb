{
 "cells": [
  {
   "cell_type": "markdown",
   "id": "f56be746",
   "metadata": {},
   "source": [
    "## Numpy occupies less memory compared to that of list"
   ]
  },
  {
   "cell_type": "code",
   "execution_count": 1,
   "id": "6a8b6140",
   "metadata": {},
   "outputs": [],
   "source": [
    "import numpy as np\n",
    "import sys"
   ]
  },
  {
   "cell_type": "code",
   "execution_count": 2,
   "id": "30ce1742",
   "metadata": {},
   "outputs": [
    {
     "data": {
      "text/plain": [
       "28"
      ]
     },
     "execution_count": 2,
     "metadata": {},
     "output_type": "execute_result"
    }
   ],
   "source": [
    "sys.getsizeof(5)"
   ]
  },
  {
   "cell_type": "code",
   "execution_count": 3,
   "id": "ae516fc7",
   "metadata": {},
   "outputs": [],
   "source": [
    "ary1=np.array([10,20])"
   ]
  },
  {
   "cell_type": "code",
   "execution_count": 4,
   "id": "a8930240",
   "metadata": {},
   "outputs": [
    {
     "data": {
      "text/plain": [
       "2"
      ]
     },
     "execution_count": 4,
     "metadata": {},
     "output_type": "execute_result"
    }
   ],
   "source": [
    "ary1.size"
   ]
  },
  {
   "cell_type": "code",
   "execution_count": 5,
   "id": "d370843f",
   "metadata": {},
   "outputs": [
    {
     "data": {
      "text/plain": [
       "4"
      ]
     },
     "execution_count": 5,
     "metadata": {},
     "output_type": "execute_result"
    }
   ],
   "source": [
    "ary1.itemsize # it will give the size of each element of ary1"
   ]
  },
  {
   "cell_type": "code",
   "execution_count": 6,
   "id": "225f79d5",
   "metadata": {},
   "outputs": [],
   "source": [
    "list1=[100,200,300,400]"
   ]
  },
  {
   "cell_type": "code",
   "execution_count": 7,
   "id": "ef572857",
   "metadata": {},
   "outputs": [
    {
     "data": {
      "text/plain": [
       "[100, 200, 300, 400]"
      ]
     },
     "execution_count": 7,
     "metadata": {},
     "output_type": "execute_result"
    }
   ],
   "source": [
    "list1"
   ]
  },
  {
   "cell_type": "code",
   "execution_count": 8,
   "id": "05cc5116",
   "metadata": {},
   "outputs": [
    {
     "data": {
      "text/plain": [
       "100"
      ]
     },
     "execution_count": 8,
     "metadata": {},
     "output_type": "execute_result"
    }
   ],
   "source": [
    "list1[0]"
   ]
  },
  {
   "cell_type": "code",
   "execution_count": 9,
   "id": "77f35886",
   "metadata": {},
   "outputs": [
    {
     "data": {
      "text/plain": [
       "28"
      ]
     },
     "execution_count": 9,
     "metadata": {},
     "output_type": "execute_result"
    }
   ],
   "source": [
    "sys.getsizeof(list1[0])"
   ]
  },
  {
   "cell_type": "code",
   "execution_count": 10,
   "id": "fd42bca5",
   "metadata": {},
   "outputs": [],
   "source": [
    "var1=list(range(0,1000))"
   ]
  },
  {
   "cell_type": "code",
   "execution_count": 11,
   "id": "5f46bc89",
   "metadata": {},
   "outputs": [
    {
     "data": {
      "text/plain": [
       "1000"
      ]
     },
     "execution_count": 11,
     "metadata": {},
     "output_type": "execute_result"
    }
   ],
   "source": [
    "len(var1)"
   ]
  },
  {
   "cell_type": "code",
   "execution_count": 12,
   "id": "9c6938a4",
   "metadata": {},
   "outputs": [
    {
     "data": {
      "text/plain": [
       "28"
      ]
     },
     "execution_count": 12,
     "metadata": {},
     "output_type": "execute_result"
    }
   ],
   "source": [
    "sys.getsizeof(3)"
   ]
  },
  {
   "cell_type": "code",
   "execution_count": 13,
   "id": "395a8615",
   "metadata": {},
   "outputs": [
    {
     "data": {
      "text/plain": [
       "28000"
      ]
     },
     "execution_count": 13,
     "metadata": {},
     "output_type": "execute_result"
    }
   ],
   "source": [
    "sys.getsizeof(3)*len(var1)"
   ]
  },
  {
   "cell_type": "code",
   "execution_count": 14,
   "id": "0b22069d",
   "metadata": {},
   "outputs": [],
   "source": [
    "ary1=np.arange(0,1000)"
   ]
  },
  {
   "cell_type": "code",
   "execution_count": 15,
   "id": "952f478e",
   "metadata": {},
   "outputs": [
    {
     "data": {
      "text/plain": [
       "1000"
      ]
     },
     "execution_count": 15,
     "metadata": {},
     "output_type": "execute_result"
    }
   ],
   "source": [
    "ary1.size"
   ]
  },
  {
   "cell_type": "code",
   "execution_count": 16,
   "id": "c84627e0",
   "metadata": {},
   "outputs": [
    {
     "data": {
      "text/plain": [
       "4"
      ]
     },
     "execution_count": 16,
     "metadata": {},
     "output_type": "execute_result"
    }
   ],
   "source": [
    "ary1.itemsize"
   ]
  },
  {
   "cell_type": "code",
   "execution_count": 17,
   "id": "96894aaa",
   "metadata": {},
   "outputs": [
    {
     "data": {
      "text/plain": [
       "4000"
      ]
     },
     "execution_count": 17,
     "metadata": {},
     "output_type": "execute_result"
    }
   ],
   "source": [
    "ary1.itemsize*ary1.size"
   ]
  },
  {
   "cell_type": "markdown",
   "id": "4e9ad406",
   "metadata": {},
   "source": [
    "## Numpy is very fast in execution"
   ]
  },
  {
   "cell_type": "code",
   "execution_count": 18,
   "id": "03230332",
   "metadata": {},
   "outputs": [],
   "source": [
    "import time"
   ]
  },
  {
   "cell_type": "code",
   "execution_count": 19,
   "id": "aa08e4de",
   "metadata": {},
   "outputs": [],
   "source": [
    "l1=list(range(100000))"
   ]
  },
  {
   "cell_type": "code",
   "execution_count": 20,
   "id": "27dcb06b",
   "metadata": {},
   "outputs": [
    {
     "data": {
      "text/plain": [
       "100000"
      ]
     },
     "execution_count": 20,
     "metadata": {},
     "output_type": "execute_result"
    }
   ],
   "source": [
    "len(l1)"
   ]
  },
  {
   "cell_type": "code",
   "execution_count": 21,
   "id": "8778f91f",
   "metadata": {},
   "outputs": [],
   "source": [
    "l2=list(range(100000))"
   ]
  },
  {
   "cell_type": "code",
   "execution_count": 22,
   "id": "d0653360",
   "metadata": {},
   "outputs": [
    {
     "data": {
      "text/plain": [
       "100000"
      ]
     },
     "execution_count": 22,
     "metadata": {},
     "output_type": "execute_result"
    }
   ],
   "source": [
    "len(l2)"
   ]
  },
  {
   "cell_type": "code",
   "execution_count": 23,
   "id": "de25e926",
   "metadata": {},
   "outputs": [
    {
     "name": "stdout",
     "output_type": "stream",
     "text": [
      "Time taken by list: 0.026273727416992188\n"
     ]
    }
   ],
   "source": [
    "l3=[]\n",
    "st=time.time()\n",
    "for i in range(100000):\n",
    "    res=l1[i]+l2[i]\n",
    "    l3.append(res)\n",
    "et=time.time()\n",
    "print('Time taken by list:',(et-st))"
   ]
  },
  {
   "cell_type": "code",
   "execution_count": 24,
   "id": "eae8679d",
   "metadata": {},
   "outputs": [],
   "source": [
    "np1=np.arange(100000)"
   ]
  },
  {
   "cell_type": "code",
   "execution_count": 25,
   "id": "176c03c7",
   "metadata": {},
   "outputs": [
    {
     "data": {
      "text/plain": [
       "100000"
      ]
     },
     "execution_count": 25,
     "metadata": {},
     "output_type": "execute_result"
    }
   ],
   "source": [
    "len(np1)"
   ]
  },
  {
   "cell_type": "code",
   "execution_count": 26,
   "id": "ca3a2776",
   "metadata": {},
   "outputs": [],
   "source": [
    "np2=np.arange(100000)"
   ]
  },
  {
   "cell_type": "code",
   "execution_count": 27,
   "id": "5ae16dfb",
   "metadata": {},
   "outputs": [
    {
     "data": {
      "text/plain": [
       "100000"
      ]
     },
     "execution_count": 27,
     "metadata": {},
     "output_type": "execute_result"
    }
   ],
   "source": [
    "len(np2)"
   ]
  },
  {
   "cell_type": "code",
   "execution_count": 28,
   "id": "427c1f9f",
   "metadata": {},
   "outputs": [
    {
     "name": "stdout",
     "output_type": "stream",
     "text": [
      "Time taken by numpy array: 0.0009691715240478516\n"
     ]
    }
   ],
   "source": [
    "st1=time.time()\n",
    "npres=np1+np2\n",
    "et1=time.time()\n",
    "print('Time taken by numpy array:',(et1-st1))"
   ]
  },
  {
   "cell_type": "markdown",
   "id": "72e59c05",
   "metadata": {},
   "source": [
    "# Advanced indexing\n",
    "## One dimension"
   ]
  },
  {
   "cell_type": "code",
   "execution_count": 29,
   "id": "34f368b1",
   "metadata": {},
   "outputs": [],
   "source": [
    "a1=np.random.randint(10,50,(8))"
   ]
  },
  {
   "cell_type": "code",
   "execution_count": 30,
   "id": "4dadb03c",
   "metadata": {},
   "outputs": [
    {
     "data": {
      "text/plain": [
       "array([36, 18, 13, 11, 19, 47, 24, 32])"
      ]
     },
     "execution_count": 30,
     "metadata": {},
     "output_type": "execute_result"
    }
   ],
   "source": [
    "a1"
   ]
  },
  {
   "cell_type": "code",
   "execution_count": 31,
   "id": "3e888bb3",
   "metadata": {},
   "outputs": [],
   "source": [
    "#37,36,41,26"
   ]
  },
  {
   "cell_type": "code",
   "execution_count": 32,
   "id": "1444dd7f",
   "metadata": {},
   "outputs": [],
   "source": [
    "ind=[1,3,4,7]"
   ]
  },
  {
   "cell_type": "code",
   "execution_count": 33,
   "id": "72980b27",
   "metadata": {},
   "outputs": [
    {
     "data": {
      "text/plain": [
       "array([18, 11, 19, 32])"
      ]
     },
     "execution_count": 33,
     "metadata": {},
     "output_type": "execute_result"
    }
   ],
   "source": [
    "a1[ind]"
   ]
  },
  {
   "cell_type": "code",
   "execution_count": 34,
   "id": "ff6deea1",
   "metadata": {},
   "outputs": [
    {
     "data": {
      "text/plain": [
       "array([18, 11, 19, 32])"
      ]
     },
     "execution_count": 34,
     "metadata": {},
     "output_type": "execute_result"
    }
   ],
   "source": [
    "a1[[1,3,4,7]]"
   ]
  },
  {
   "cell_type": "markdown",
   "id": "6ecb1661",
   "metadata": {},
   "source": [
    "## Two dimension"
   ]
  },
  {
   "cell_type": "code",
   "execution_count": 35,
   "id": "4603e1da",
   "metadata": {},
   "outputs": [],
   "source": [
    "a2=np.random.randint(100,200,(4,6))"
   ]
  },
  {
   "cell_type": "code",
   "execution_count": 36,
   "id": "889d54ae",
   "metadata": {},
   "outputs": [
    {
     "data": {
      "text/plain": [
       "array([[143, 100, 158, 101, 105, 175],\n",
       "       [141, 120, 196, 189, 130, 155],\n",
       "       [153, 110, 196, 104, 163, 180],\n",
       "       [103, 192, 185, 101, 130, 148]])"
      ]
     },
     "execution_count": 36,
     "metadata": {},
     "output_type": "execute_result"
    }
   ],
   "source": [
    "a2"
   ]
  },
  {
   "cell_type": "code",
   "execution_count": 37,
   "id": "2268c690",
   "metadata": {},
   "outputs": [],
   "source": [
    "# to extract 165,125,146,109,127"
   ]
  },
  {
   "cell_type": "code",
   "execution_count": 38,
   "id": "5b3cc644",
   "metadata": {},
   "outputs": [
    {
     "data": {
      "text/plain": [
       "array([100, 196, 163, 103, 185])"
      ]
     },
     "execution_count": 38,
     "metadata": {},
     "output_type": "execute_result"
    }
   ],
   "source": [
    "a2[[0,1,2,3,3],[1,2,4,0,2]]"
   ]
  },
  {
   "cell_type": "code",
   "execution_count": 39,
   "id": "45e5e0f3",
   "metadata": {},
   "outputs": [],
   "source": [
    "rind=[0,1,2,3,3]"
   ]
  },
  {
   "cell_type": "code",
   "execution_count": 40,
   "id": "6bb07c1b",
   "metadata": {},
   "outputs": [],
   "source": [
    "cind=[1,2,4,0,2]"
   ]
  },
  {
   "cell_type": "code",
   "execution_count": 41,
   "id": "148a0f9a",
   "metadata": {},
   "outputs": [
    {
     "data": {
      "text/plain": [
       "array([100, 196, 163, 103, 185])"
      ]
     },
     "execution_count": 41,
     "metadata": {},
     "output_type": "execute_result"
    }
   ],
   "source": [
    "a2[rind,cind]"
   ]
  },
  {
   "cell_type": "markdown",
   "id": "8308fed1",
   "metadata": {},
   "source": [
    "## Three dimension"
   ]
  },
  {
   "cell_type": "markdown",
   "id": "a34a2307",
   "metadata": {},
   "source": [
    "### "
   ]
  },
  {
   "cell_type": "code",
   "execution_count": 42,
   "id": "9e14f7b9",
   "metadata": {},
   "outputs": [],
   "source": [
    "a3=np.random.randint(20,100,(2,4,6))"
   ]
  },
  {
   "cell_type": "code",
   "execution_count": 43,
   "id": "5215df73",
   "metadata": {},
   "outputs": [
    {
     "data": {
      "text/plain": [
       "array([[[80, 70, 78, 93, 77, 69],\n",
       "        [92, 83, 42, 68, 67, 24],\n",
       "        [24, 85, 37, 91, 72, 84],\n",
       "        [42, 97, 53, 89, 70, 35]],\n",
       "\n",
       "       [[61, 88, 68, 31, 91, 74],\n",
       "        [61, 57, 42, 49, 73, 32],\n",
       "        [77, 60, 83, 67, 40, 24],\n",
       "        [62, 99, 45, 27, 94, 32]]])"
      ]
     },
     "execution_count": 43,
     "metadata": {},
     "output_type": "execute_result"
    }
   ],
   "source": [
    "a3"
   ]
  },
  {
   "cell_type": "code",
   "execution_count": 44,
   "id": "d31d230f",
   "metadata": {},
   "outputs": [],
   "source": [
    "# to extract 82,39,43,73,26,49"
   ]
  },
  {
   "cell_type": "code",
   "execution_count": 45,
   "id": "280b068d",
   "metadata": {},
   "outputs": [
    {
     "data": {
      "text/plain": [
       "array([80, 68, 37, 60, 70, 24])"
      ]
     },
     "execution_count": 45,
     "metadata": {},
     "output_type": "execute_result"
    }
   ],
   "source": [
    "a3[[0,1,0,1,0,1],[0,0,2,2,3,2],[0,2,2,1,4,5]]"
   ]
  },
  {
   "cell_type": "markdown",
   "id": "4f4a81b4",
   "metadata": {},
   "source": [
    "# Boolean indexing"
   ]
  },
  {
   "cell_type": "code",
   "execution_count": 46,
   "id": "087c5382",
   "metadata": {},
   "outputs": [],
   "source": [
    "ary2=np.random.randint(10,200,(4,6))"
   ]
  },
  {
   "cell_type": "code",
   "execution_count": 47,
   "id": "162981f8",
   "metadata": {},
   "outputs": [
    {
     "data": {
      "text/plain": [
       "array([[106,  20,  93,  83, 183, 199],\n",
       "       [ 27,  96,  88, 116, 151, 156],\n",
       "       [ 39,  88, 166, 158, 106,  22],\n",
       "       [178, 116,  74,  59, 115, 165]])"
      ]
     },
     "execution_count": 47,
     "metadata": {},
     "output_type": "execute_result"
    }
   ],
   "source": [
    "ary2"
   ]
  },
  {
   "cell_type": "code",
   "execution_count": 48,
   "id": "b5dc8963",
   "metadata": {},
   "outputs": [
    {
     "data": {
      "text/plain": [
       "array([[ True, False, False, False,  True,  True],\n",
       "       [False, False, False,  True,  True,  True],\n",
       "       [False, False,  True,  True,  True, False],\n",
       "       [ True,  True, False, False,  True,  True]])"
      ]
     },
     "execution_count": 48,
     "metadata": {},
     "output_type": "execute_result"
    }
   ],
   "source": [
    "ary2>100"
   ]
  },
  {
   "cell_type": "code",
   "execution_count": 49,
   "id": "cd4fb85c",
   "metadata": {},
   "outputs": [
    {
     "data": {
      "text/plain": [
       "array([106, 183, 199, 116, 151, 156, 166, 158, 106, 178, 116, 115, 165])"
      ]
     },
     "execution_count": 49,
     "metadata": {},
     "output_type": "execute_result"
    }
   ],
   "source": [
    "ary2[ary2>100]"
   ]
  },
  {
   "cell_type": "code",
   "execution_count": 50,
   "id": "579e134b",
   "metadata": {},
   "outputs": [
    {
     "ename": "ValueError",
     "evalue": "The truth value of an array with more than one element is ambiguous. Use a.any() or a.all()",
     "output_type": "error",
     "traceback": [
      "\u001b[1;31m---------------------------------------------------------------------------\u001b[0m",
      "\u001b[1;31mValueError\u001b[0m                                Traceback (most recent call last)",
      "\u001b[1;32m~\\AppData\\Local\\Temp/ipykernel_6564/483790525.py\u001b[0m in \u001b[0;36m<module>\u001b[1;34m\u001b[0m\n\u001b[1;32m----> 1\u001b[1;33m \u001b[0mary2\u001b[0m\u001b[1;33m>\u001b[0m\u001b[1;36m50\u001b[0m \u001b[1;33m&\u001b[0m \u001b[0mary2\u001b[0m\u001b[1;33m<\u001b[0m\u001b[1;36m150\u001b[0m\u001b[1;33m\u001b[0m\u001b[1;33m\u001b[0m\u001b[0m\n\u001b[0m",
      "\u001b[1;31mValueError\u001b[0m: The truth value of an array with more than one element is ambiguous. Use a.any() or a.all()"
     ]
    }
   ],
   "source": [
    "ary2>50 & ary2<150"
   ]
  },
  {
   "cell_type": "code",
   "execution_count": 51,
   "id": "51528e91",
   "metadata": {},
   "outputs": [
    {
     "ename": "ValueError",
     "evalue": "The truth value of an array with more than one element is ambiguous. Use a.any() or a.all()",
     "output_type": "error",
     "traceback": [
      "\u001b[1;31m---------------------------------------------------------------------------\u001b[0m",
      "\u001b[1;31mValueError\u001b[0m                                Traceback (most recent call last)",
      "\u001b[1;32m~\\AppData\\Local\\Temp/ipykernel_6564/504096866.py\u001b[0m in \u001b[0;36m<module>\u001b[1;34m\u001b[0m\n\u001b[1;32m----> 1\u001b[1;33m \u001b[0mary2\u001b[0m\u001b[1;33m>\u001b[0m\u001b[1;36m50\u001b[0m \u001b[1;32mand\u001b[0m \u001b[0mary2\u001b[0m\u001b[1;33m<\u001b[0m\u001b[1;36m150\u001b[0m\u001b[1;33m\u001b[0m\u001b[1;33m\u001b[0m\u001b[0m\n\u001b[0m",
      "\u001b[1;31mValueError\u001b[0m: The truth value of an array with more than one element is ambiguous. Use a.any() or a.all()"
     ]
    }
   ],
   "source": [
    "ary2>50 and ary2<150"
   ]
  },
  {
   "cell_type": "code",
   "execution_count": 52,
   "id": "87fe47aa",
   "metadata": {},
   "outputs": [
    {
     "ename": "ValueError",
     "evalue": "The truth value of an array with more than one element is ambiguous. Use a.any() or a.all()",
     "output_type": "error",
     "traceback": [
      "\u001b[1;31m---------------------------------------------------------------------------\u001b[0m",
      "\u001b[1;31mValueError\u001b[0m                                Traceback (most recent call last)",
      "\u001b[1;32m~\\AppData\\Local\\Temp/ipykernel_6564/3435805089.py\u001b[0m in \u001b[0;36m<module>\u001b[1;34m\u001b[0m\n\u001b[1;32m----> 1\u001b[1;33m \u001b[1;33m(\u001b[0m\u001b[0mary2\u001b[0m\u001b[1;33m>\u001b[0m\u001b[1;36m50\u001b[0m\u001b[1;33m)\u001b[0m \u001b[1;32mand\u001b[0m \u001b[1;33m(\u001b[0m\u001b[0mary2\u001b[0m\u001b[1;33m<\u001b[0m\u001b[1;36m1500\u001b[0m\u001b[1;33m)\u001b[0m\u001b[1;33m\u001b[0m\u001b[1;33m\u001b[0m\u001b[0m\n\u001b[0m",
      "\u001b[1;31mValueError\u001b[0m: The truth value of an array with more than one element is ambiguous. Use a.any() or a.all()"
     ]
    }
   ],
   "source": [
    "(ary2>50) and (ary2<1500)"
   ]
  },
  {
   "cell_type": "code",
   "execution_count": 53,
   "id": "72ff2e00",
   "metadata": {},
   "outputs": [
    {
     "data": {
      "text/plain": [
       "array([[ True, False,  True,  True,  True,  True],\n",
       "       [False,  True,  True,  True,  True,  True],\n",
       "       [False,  True,  True,  True,  True, False],\n",
       "       [ True,  True,  True,  True,  True,  True]])"
      ]
     },
     "execution_count": 53,
     "metadata": {},
     "output_type": "execute_result"
    }
   ],
   "source": [
    "(ary2>50) & (ary2<1500)"
   ]
  },
  {
   "cell_type": "code",
   "execution_count": 54,
   "id": "32f92ef4",
   "metadata": {},
   "outputs": [
    {
     "data": {
      "text/plain": [
       "array([106,  93,  83, 183, 199,  96,  88, 116, 151, 156,  88, 166, 158,\n",
       "       106, 178, 116,  74,  59, 115, 165])"
      ]
     },
     "execution_count": 54,
     "metadata": {},
     "output_type": "execute_result"
    }
   ],
   "source": [
    "ary2[(ary2>50) & (ary2<1500)]"
   ]
  },
  {
   "cell_type": "code",
   "execution_count": 55,
   "id": "089fa860",
   "metadata": {},
   "outputs": [
    {
     "data": {
      "text/plain": [
       "array([36, 18, 13, 11, 19, 47, 24, 32])"
      ]
     },
     "execution_count": 55,
     "metadata": {},
     "output_type": "execute_result"
    }
   ],
   "source": [
    "a1"
   ]
  },
  {
   "cell_type": "code",
   "execution_count": 56,
   "id": "00daabfe",
   "metadata": {},
   "outputs": [
    {
     "name": "stdout",
     "output_type": "stream",
     "text": [
      "36\n",
      "18\n",
      "13\n",
      "11\n",
      "19\n",
      "47\n",
      "24\n",
      "32\n"
     ]
    }
   ],
   "source": [
    "import time\n",
    "for i in a1:\n",
    "    print(i)\n",
    "    time.sleep(0.5)"
   ]
  },
  {
   "cell_type": "code",
   "execution_count": 57,
   "id": "bba59903",
   "metadata": {},
   "outputs": [
    {
     "data": {
      "text/plain": [
       "array([[143, 100, 158, 101, 105, 175],\n",
       "       [141, 120, 196, 189, 130, 155],\n",
       "       [153, 110, 196, 104, 163, 180],\n",
       "       [103, 192, 185, 101, 130, 148]])"
      ]
     },
     "execution_count": 57,
     "metadata": {},
     "output_type": "execute_result"
    }
   ],
   "source": [
    "a2"
   ]
  },
  {
   "cell_type": "code",
   "execution_count": 58,
   "id": "e830420d",
   "metadata": {},
   "outputs": [
    {
     "name": "stdout",
     "output_type": "stream",
     "text": [
      "[143 100 158 101 105 175]\n",
      "143\n",
      "100\n",
      "158\n",
      "101\n",
      "105\n",
      "175\n",
      "[141 120 196 189 130 155]\n",
      "141\n",
      "120\n",
      "196\n",
      "189\n",
      "130\n",
      "155\n",
      "[153 110 196 104 163 180]\n",
      "153\n",
      "110\n",
      "196\n",
      "104\n",
      "163\n",
      "180\n",
      "[103 192 185 101 130 148]\n",
      "103\n",
      "192\n",
      "185\n",
      "101\n",
      "130\n",
      "148\n"
     ]
    }
   ],
   "source": [
    "for x in a2:\n",
    "    print(x)\n",
    "    time.sleep(0.5)\n",
    "    for y in x:\n",
    "        print(y)\n",
    "        time.sleep(0.5)"
   ]
  },
  {
   "cell_type": "markdown",
   "id": "ab178d7c",
   "metadata": {},
   "source": [
    "# Arithmetic operations"
   ]
  },
  {
   "cell_type": "code",
   "execution_count": 59,
   "id": "cff62d5e",
   "metadata": {},
   "outputs": [],
   "source": [
    "a1=np.arange(11,16)"
   ]
  },
  {
   "cell_type": "code",
   "execution_count": 60,
   "id": "1b5a1ef8",
   "metadata": {},
   "outputs": [
    {
     "data": {
      "text/plain": [
       "array([11, 12, 13, 14, 15])"
      ]
     },
     "execution_count": 60,
     "metadata": {},
     "output_type": "execute_result"
    }
   ],
   "source": [
    "a1"
   ]
  },
  {
   "cell_type": "code",
   "execution_count": 61,
   "id": "60bbd3e2",
   "metadata": {},
   "outputs": [],
   "source": [
    "a2=np.arange(1,6)"
   ]
  },
  {
   "cell_type": "code",
   "execution_count": 62,
   "id": "5778f4fa",
   "metadata": {},
   "outputs": [
    {
     "data": {
      "text/plain": [
       "array([1, 2, 3, 4, 5])"
      ]
     },
     "execution_count": 62,
     "metadata": {},
     "output_type": "execute_result"
    }
   ],
   "source": [
    "a2"
   ]
  },
  {
   "cell_type": "code",
   "execution_count": 63,
   "id": "9540fe92",
   "metadata": {},
   "outputs": [
    {
     "data": {
      "text/plain": [
       "array([12, 14, 16, 18, 20])"
      ]
     },
     "execution_count": 63,
     "metadata": {},
     "output_type": "execute_result"
    }
   ],
   "source": [
    "a1+a2"
   ]
  },
  {
   "cell_type": "code",
   "execution_count": 64,
   "id": "f78bfb59",
   "metadata": {},
   "outputs": [
    {
     "data": {
      "text/plain": [
       "array([10, 10, 10, 10, 10])"
      ]
     },
     "execution_count": 64,
     "metadata": {},
     "output_type": "execute_result"
    }
   ],
   "source": [
    "a1-a2"
   ]
  },
  {
   "cell_type": "code",
   "execution_count": 65,
   "id": "2f99d517",
   "metadata": {},
   "outputs": [
    {
     "data": {
      "text/plain": [
       "array([11, 24, 39, 56, 75])"
      ]
     },
     "execution_count": 65,
     "metadata": {},
     "output_type": "execute_result"
    }
   ],
   "source": [
    "a1*a2"
   ]
  },
  {
   "cell_type": "code",
   "execution_count": 66,
   "id": "bff66d93",
   "metadata": {},
   "outputs": [
    {
     "data": {
      "text/plain": [
       "array([11.        ,  6.        ,  4.33333333,  3.5       ,  3.        ])"
      ]
     },
     "execution_count": 66,
     "metadata": {},
     "output_type": "execute_result"
    }
   ],
   "source": [
    "a1/a2"
   ]
  },
  {
   "cell_type": "code",
   "execution_count": 67,
   "id": "ed8ee5df",
   "metadata": {},
   "outputs": [
    {
     "data": {
      "text/plain": [
       "array([12, 14, 16, 18, 20])"
      ]
     },
     "execution_count": 67,
     "metadata": {},
     "output_type": "execute_result"
    }
   ],
   "source": [
    "np.add(a1,a2)"
   ]
  },
  {
   "cell_type": "code",
   "execution_count": 68,
   "id": "63dc1dfe",
   "metadata": {},
   "outputs": [
    {
     "data": {
      "text/plain": [
       "array([12, 14, 16, 18, 20])"
      ]
     },
     "execution_count": 68,
     "metadata": {},
     "output_type": "execute_result"
    }
   ],
   "source": [
    "a1+a2"
   ]
  },
  {
   "cell_type": "code",
   "execution_count": 69,
   "id": "1e6fabba",
   "metadata": {},
   "outputs": [
    {
     "data": {
      "text/plain": [
       "array([10, 10, 10, 10, 10])"
      ]
     },
     "execution_count": 69,
     "metadata": {},
     "output_type": "execute_result"
    }
   ],
   "source": [
    "np.subtract(a1,a2)"
   ]
  },
  {
   "cell_type": "code",
   "execution_count": 70,
   "id": "b7602ba9",
   "metadata": {},
   "outputs": [
    {
     "data": {
      "text/plain": [
       "array([10, 10, 10, 10, 10])"
      ]
     },
     "execution_count": 70,
     "metadata": {},
     "output_type": "execute_result"
    }
   ],
   "source": [
    "a1-a2"
   ]
  },
  {
   "cell_type": "code",
   "execution_count": 71,
   "id": "3e5d5641",
   "metadata": {},
   "outputs": [
    {
     "data": {
      "text/plain": [
       "array([11, 24, 39, 56, 75])"
      ]
     },
     "execution_count": 71,
     "metadata": {},
     "output_type": "execute_result"
    }
   ],
   "source": [
    "np.multiply(a1,a2)"
   ]
  },
  {
   "cell_type": "code",
   "execution_count": 72,
   "id": "3ade53e5",
   "metadata": {},
   "outputs": [
    {
     "data": {
      "text/plain": [
       "array([11, 24, 39, 56, 75])"
      ]
     },
     "execution_count": 72,
     "metadata": {},
     "output_type": "execute_result"
    }
   ],
   "source": [
    "a1*a2"
   ]
  },
  {
   "cell_type": "code",
   "execution_count": 73,
   "id": "b2cce81d",
   "metadata": {},
   "outputs": [
    {
     "data": {
      "text/plain": [
       "array([11.        ,  6.        ,  4.33333333,  3.5       ,  3.        ])"
      ]
     },
     "execution_count": 73,
     "metadata": {},
     "output_type": "execute_result"
    }
   ],
   "source": [
    "np.divide(a1,a2)"
   ]
  },
  {
   "cell_type": "code",
   "execution_count": 74,
   "id": "53f5263f",
   "metadata": {},
   "outputs": [
    {
     "data": {
      "text/plain": [
       "array([11.        ,  6.        ,  4.33333333,  3.5       ,  3.        ])"
      ]
     },
     "execution_count": 74,
     "metadata": {},
     "output_type": "execute_result"
    }
   ],
   "source": [
    "a1/a2"
   ]
  },
  {
   "cell_type": "markdown",
   "id": "071107ac",
   "metadata": {},
   "source": [
    "## operations on 2D array"
   ]
  },
  {
   "cell_type": "code",
   "execution_count": 75,
   "id": "375f5b98",
   "metadata": {},
   "outputs": [],
   "source": [
    "np2=np.array([[1,2],[3,4]])"
   ]
  },
  {
   "cell_type": "code",
   "execution_count": 76,
   "id": "695633b1",
   "metadata": {},
   "outputs": [],
   "source": [
    "b2=np.array([[10,20],[10,10]])"
   ]
  },
  {
   "cell_type": "code",
   "execution_count": 77,
   "id": "d2b9a116",
   "metadata": {},
   "outputs": [
    {
     "data": {
      "text/plain": [
       "array([[1, 2],\n",
       "       [3, 4]])"
      ]
     },
     "metadata": {},
     "output_type": "display_data"
    },
    {
     "data": {
      "text/plain": [
       "array([[10, 20],\n",
       "       [10, 10]])"
      ]
     },
     "metadata": {},
     "output_type": "display_data"
    }
   ],
   "source": [
    "display(np2,b2)"
   ]
  },
  {
   "cell_type": "code",
   "execution_count": 78,
   "id": "8dd9f5d5",
   "metadata": {},
   "outputs": [
    {
     "data": {
      "text/plain": [
       "array([[11, 22],\n",
       "       [13, 14]])"
      ]
     },
     "execution_count": 78,
     "metadata": {},
     "output_type": "execute_result"
    }
   ],
   "source": [
    "np2+b2"
   ]
  },
  {
   "cell_type": "code",
   "execution_count": 79,
   "id": "432b03fa",
   "metadata": {},
   "outputs": [
    {
     "data": {
      "text/plain": [
       "array([[ -9, -18],\n",
       "       [ -7,  -6]])"
      ]
     },
     "execution_count": 79,
     "metadata": {},
     "output_type": "execute_result"
    }
   ],
   "source": [
    "np2-b2"
   ]
  },
  {
   "cell_type": "code",
   "execution_count": 80,
   "id": "e53e217a",
   "metadata": {},
   "outputs": [
    {
     "data": {
      "text/plain": [
       "array([11, 12, 13, 14, 15])"
      ]
     },
     "execution_count": 80,
     "metadata": {},
     "output_type": "execute_result"
    }
   ],
   "source": [
    "a1"
   ]
  },
  {
   "cell_type": "code",
   "execution_count": 81,
   "id": "598c505e",
   "metadata": {
    "scrolled": true
   },
   "outputs": [
    {
     "data": {
      "text/plain": [
       "array([21, 22, 23, 24, 25])"
      ]
     },
     "execution_count": 81,
     "metadata": {},
     "output_type": "execute_result"
    }
   ],
   "source": [
    "a1+10"
   ]
  },
  {
   "cell_type": "code",
   "execution_count": 82,
   "id": "385a3f66",
   "metadata": {},
   "outputs": [
    {
     "data": {
      "text/plain": [
       "array([22, 24, 26, 28, 30])"
      ]
     },
     "execution_count": 82,
     "metadata": {},
     "output_type": "execute_result"
    }
   ],
   "source": [
    "a1*2"
   ]
  },
  {
   "cell_type": "markdown",
   "id": "232ba7e3",
   "metadata": {},
   "source": [
    "## Different shapes"
   ]
  },
  {
   "cell_type": "code",
   "execution_count": 83,
   "id": "0387acbd",
   "metadata": {},
   "outputs": [
    {
     "data": {
      "text/plain": [
       "array([11, 12, 13, 14, 15])"
      ]
     },
     "execution_count": 83,
     "metadata": {},
     "output_type": "execute_result"
    }
   ],
   "source": [
    "a1"
   ]
  },
  {
   "cell_type": "code",
   "execution_count": 84,
   "id": "7b66745d",
   "metadata": {},
   "outputs": [],
   "source": [
    "a2=np.arange(21,28)"
   ]
  },
  {
   "cell_type": "code",
   "execution_count": 85,
   "id": "94ddb67c",
   "metadata": {},
   "outputs": [
    {
     "data": {
      "text/plain": [
       "array([21, 22, 23, 24, 25, 26, 27])"
      ]
     },
     "execution_count": 85,
     "metadata": {},
     "output_type": "execute_result"
    }
   ],
   "source": [
    "a2"
   ]
  },
  {
   "cell_type": "code",
   "execution_count": 86,
   "id": "4314e21b",
   "metadata": {},
   "outputs": [
    {
     "ename": "ValueError",
     "evalue": "operands could not be broadcast together with shapes (5,) (7,) ",
     "output_type": "error",
     "traceback": [
      "\u001b[1;31m---------------------------------------------------------------------------\u001b[0m",
      "\u001b[1;31mValueError\u001b[0m                                Traceback (most recent call last)",
      "\u001b[1;32m~\\AppData\\Local\\Temp/ipykernel_6564/4064069160.py\u001b[0m in \u001b[0;36m<module>\u001b[1;34m\u001b[0m\n\u001b[1;32m----> 1\u001b[1;33m \u001b[0ma1\u001b[0m\u001b[1;33m+\u001b[0m\u001b[0ma2\u001b[0m\u001b[1;33m\u001b[0m\u001b[1;33m\u001b[0m\u001b[0m\n\u001b[0m",
      "\u001b[1;31mValueError\u001b[0m: operands could not be broadcast together with shapes (5,) (7,) "
     ]
    }
   ],
   "source": [
    "a1+a2"
   ]
  },
  {
   "cell_type": "code",
   "execution_count": 87,
   "id": "9406e13a",
   "metadata": {},
   "outputs": [
    {
     "data": {
      "text/plain": [
       "array([11, 12, 13, 14, 15])"
      ]
     },
     "execution_count": 87,
     "metadata": {},
     "output_type": "execute_result"
    }
   ],
   "source": [
    "a1"
   ]
  },
  {
   "cell_type": "code",
   "execution_count": 88,
   "id": "69756dee",
   "metadata": {},
   "outputs": [
    {
     "data": {
      "text/plain": [
       "10"
      ]
     },
     "execution_count": 88,
     "metadata": {},
     "output_type": "execute_result"
    }
   ],
   "source": [
    "10"
   ]
  },
  {
   "cell_type": "code",
   "execution_count": 89,
   "id": "54d84fdf",
   "metadata": {},
   "outputs": [
    {
     "data": {
      "text/plain": [
       "array([21, 22, 23, 24, 25])"
      ]
     },
     "execution_count": 89,
     "metadata": {},
     "output_type": "execute_result"
    }
   ],
   "source": [
    "a1+10"
   ]
  },
  {
   "cell_type": "code",
   "execution_count": 90,
   "id": "37d36ebf",
   "metadata": {},
   "outputs": [
    {
     "data": {
      "text/plain": [
       "array([[1, 2],\n",
       "       [3, 4]])"
      ]
     },
     "execution_count": 90,
     "metadata": {},
     "output_type": "execute_result"
    }
   ],
   "source": [
    "np2"
   ]
  },
  {
   "cell_type": "code",
   "execution_count": 91,
   "id": "bd277e45",
   "metadata": {},
   "outputs": [
    {
     "data": {
      "text/plain": [
       "array([[10, 20],\n",
       "       [10, 10]])"
      ]
     },
     "execution_count": 91,
     "metadata": {},
     "output_type": "execute_result"
    }
   ],
   "source": [
    "b2"
   ]
  },
  {
   "cell_type": "code",
   "execution_count": 92,
   "id": "83470228",
   "metadata": {},
   "outputs": [
    {
     "data": {
      "text/plain": [
       "(2, 2)"
      ]
     },
     "execution_count": 92,
     "metadata": {},
     "output_type": "execute_result"
    }
   ],
   "source": [
    "np2.shape"
   ]
  },
  {
   "cell_type": "code",
   "execution_count": 93,
   "id": "130b123f",
   "metadata": {},
   "outputs": [
    {
     "data": {
      "text/plain": [
       "(2, 2)"
      ]
     },
     "execution_count": 93,
     "metadata": {},
     "output_type": "execute_result"
    }
   ],
   "source": [
    "b2.shape"
   ]
  },
  {
   "cell_type": "code",
   "execution_count": 94,
   "id": "ae8ba3fe",
   "metadata": {},
   "outputs": [
    {
     "data": {
      "text/plain": [
       "array([[11, 22],\n",
       "       [13, 14]])"
      ]
     },
     "execution_count": 94,
     "metadata": {},
     "output_type": "execute_result"
    }
   ],
   "source": [
    "np2+b2"
   ]
  },
  {
   "cell_type": "code",
   "execution_count": 95,
   "id": "372ce6ae",
   "metadata": {},
   "outputs": [
    {
     "data": {
      "text/plain": [
       "array([[1, 2],\n",
       "       [3, 4]])"
      ]
     },
     "execution_count": 95,
     "metadata": {},
     "output_type": "execute_result"
    }
   ],
   "source": [
    "np2"
   ]
  },
  {
   "cell_type": "code",
   "execution_count": 96,
   "id": "632b6cf7",
   "metadata": {},
   "outputs": [],
   "source": [
    "c2=np.array([[10,20,30],[1,2,3]])"
   ]
  },
  {
   "cell_type": "code",
   "execution_count": 97,
   "id": "27337b89",
   "metadata": {},
   "outputs": [
    {
     "data": {
      "text/plain": [
       "array([[10, 20, 30],\n",
       "       [ 1,  2,  3]])"
      ]
     },
     "execution_count": 97,
     "metadata": {},
     "output_type": "execute_result"
    }
   ],
   "source": [
    "c2"
   ]
  },
  {
   "cell_type": "code",
   "execution_count": 98,
   "id": "fc15152e",
   "metadata": {},
   "outputs": [
    {
     "data": {
      "text/plain": [
       "2"
      ]
     },
     "execution_count": 98,
     "metadata": {},
     "output_type": "execute_result"
    }
   ],
   "source": [
    "np2.ndim"
   ]
  },
  {
   "cell_type": "code",
   "execution_count": 99,
   "id": "89989f54",
   "metadata": {},
   "outputs": [
    {
     "data": {
      "text/plain": [
       "2"
      ]
     },
     "execution_count": 99,
     "metadata": {},
     "output_type": "execute_result"
    }
   ],
   "source": [
    "c2.ndim"
   ]
  },
  {
   "cell_type": "code",
   "execution_count": 100,
   "id": "b90d76f3",
   "metadata": {},
   "outputs": [
    {
     "data": {
      "text/plain": [
       "(2, 2)"
      ]
     },
     "execution_count": 100,
     "metadata": {},
     "output_type": "execute_result"
    }
   ],
   "source": [
    "np2.shape"
   ]
  },
  {
   "cell_type": "code",
   "execution_count": 101,
   "id": "5c433f95",
   "metadata": {},
   "outputs": [
    {
     "data": {
      "text/plain": [
       "(2, 3)"
      ]
     },
     "execution_count": 101,
     "metadata": {},
     "output_type": "execute_result"
    }
   ],
   "source": [
    "c2.shape"
   ]
  },
  {
   "cell_type": "code",
   "execution_count": 102,
   "id": "c4361f22",
   "metadata": {},
   "outputs": [
    {
     "ename": "ValueError",
     "evalue": "operands could not be broadcast together with shapes (2,2) (2,3) ",
     "output_type": "error",
     "traceback": [
      "\u001b[1;31m---------------------------------------------------------------------------\u001b[0m",
      "\u001b[1;31mValueError\u001b[0m                                Traceback (most recent call last)",
      "\u001b[1;32m~\\AppData\\Local\\Temp/ipykernel_6564/867636297.py\u001b[0m in \u001b[0;36m<module>\u001b[1;34m\u001b[0m\n\u001b[1;32m----> 1\u001b[1;33m \u001b[0mnp2\u001b[0m\u001b[1;33m+\u001b[0m\u001b[0mc2\u001b[0m\u001b[1;33m\u001b[0m\u001b[1;33m\u001b[0m\u001b[0m\n\u001b[0m",
      "\u001b[1;31mValueError\u001b[0m: operands could not be broadcast together with shapes (2,2) (2,3) "
     ]
    }
   ],
   "source": [
    "np2+c2"
   ]
  },
  {
   "cell_type": "code",
   "execution_count": 103,
   "id": "d3a78d28",
   "metadata": {},
   "outputs": [],
   "source": [
    "d2=np.array([[100,200]])"
   ]
  },
  {
   "cell_type": "code",
   "execution_count": 104,
   "id": "75506a3d",
   "metadata": {},
   "outputs": [
    {
     "data": {
      "text/plain": [
       "array([[100, 200]])"
      ]
     },
     "execution_count": 104,
     "metadata": {},
     "output_type": "execute_result"
    }
   ],
   "source": [
    "d2"
   ]
  },
  {
   "cell_type": "code",
   "execution_count": 105,
   "id": "3f5bd9e7",
   "metadata": {},
   "outputs": [
    {
     "data": {
      "text/plain": [
       "(1, 2)"
      ]
     },
     "execution_count": 105,
     "metadata": {},
     "output_type": "execute_result"
    }
   ],
   "source": [
    "d2.shape"
   ]
  },
  {
   "cell_type": "code",
   "execution_count": 106,
   "id": "3d5a8a26",
   "metadata": {},
   "outputs": [
    {
     "data": {
      "text/plain": [
       "2"
      ]
     },
     "execution_count": 106,
     "metadata": {},
     "output_type": "execute_result"
    }
   ],
   "source": [
    "np2.ndim"
   ]
  },
  {
   "cell_type": "code",
   "execution_count": 107,
   "id": "ce1ab94f",
   "metadata": {},
   "outputs": [
    {
     "data": {
      "text/plain": [
       "2"
      ]
     },
     "execution_count": 107,
     "metadata": {},
     "output_type": "execute_result"
    }
   ],
   "source": [
    "d2.ndim"
   ]
  },
  {
   "cell_type": "code",
   "execution_count": 108,
   "id": "8fa4b9f1",
   "metadata": {},
   "outputs": [
    {
     "data": {
      "text/plain": [
       "(2, 2)"
      ]
     },
     "execution_count": 108,
     "metadata": {},
     "output_type": "execute_result"
    }
   ],
   "source": [
    "np2.shape"
   ]
  },
  {
   "cell_type": "code",
   "execution_count": 109,
   "id": "da2c86b0",
   "metadata": {},
   "outputs": [
    {
     "data": {
      "text/plain": [
       "array([[101, 202],\n",
       "       [103, 204]])"
      ]
     },
     "execution_count": 109,
     "metadata": {},
     "output_type": "execute_result"
    }
   ],
   "source": [
    "np2+d2"
   ]
  },
  {
   "cell_type": "code",
   "execution_count": 110,
   "id": "44316c17",
   "metadata": {},
   "outputs": [
    {
     "data": {
      "text/plain": [
       "array([11, 12, 13, 14, 15])"
      ]
     },
     "execution_count": 110,
     "metadata": {},
     "output_type": "execute_result"
    }
   ],
   "source": [
    "a1"
   ]
  },
  {
   "cell_type": "code",
   "execution_count": 111,
   "id": "f53aad53",
   "metadata": {},
   "outputs": [
    {
     "data": {
      "text/plain": [
       "5"
      ]
     },
     "execution_count": 111,
     "metadata": {},
     "output_type": "execute_result"
    }
   ],
   "source": [
    "5"
   ]
  },
  {
   "cell_type": "code",
   "execution_count": 112,
   "id": "f75780f0",
   "metadata": {},
   "outputs": [
    {
     "data": {
      "text/plain": [
       "array([16, 17, 18, 19, 20])"
      ]
     },
     "execution_count": 112,
     "metadata": {},
     "output_type": "execute_result"
    }
   ],
   "source": [
    "a1+5"
   ]
  },
  {
   "cell_type": "code",
   "execution_count": 113,
   "id": "60d742ce",
   "metadata": {},
   "outputs": [],
   "source": [
    "n1=np.random.randint(10,50,(2,4,6))"
   ]
  },
  {
   "cell_type": "code",
   "execution_count": 114,
   "id": "2d48d118",
   "metadata": {},
   "outputs": [
    {
     "data": {
      "text/plain": [
       "array([[[27, 39, 37, 31, 44, 42],\n",
       "        [48, 38, 29, 23, 27, 12],\n",
       "        [28, 30, 25, 16, 11, 41],\n",
       "        [46, 30, 22, 31, 37, 41]],\n",
       "\n",
       "       [[34, 46, 34, 25, 19, 44],\n",
       "        [46, 38, 30, 13, 22, 25],\n",
       "        [40, 11, 23, 49, 19, 49],\n",
       "        [20, 29, 37, 32, 14, 19]]])"
      ]
     },
     "execution_count": 114,
     "metadata": {},
     "output_type": "execute_result"
    }
   ],
   "source": [
    "n1"
   ]
  },
  {
   "cell_type": "code",
   "execution_count": 115,
   "id": "3110b84f",
   "metadata": {},
   "outputs": [
    {
     "data": {
      "text/plain": [
       "3"
      ]
     },
     "execution_count": 115,
     "metadata": {},
     "output_type": "execute_result"
    }
   ],
   "source": [
    "n1.ndim"
   ]
  },
  {
   "cell_type": "code",
   "execution_count": 116,
   "id": "bbc6952f",
   "metadata": {},
   "outputs": [
    {
     "data": {
      "text/plain": [
       "(2, 4, 6)"
      ]
     },
     "execution_count": 116,
     "metadata": {},
     "output_type": "execute_result"
    }
   ],
   "source": [
    "n1.shape"
   ]
  },
  {
   "cell_type": "code",
   "execution_count": 117,
   "id": "c9d1f9d3",
   "metadata": {},
   "outputs": [],
   "source": [
    "n2=np.random.randint(10,30,(1,6))"
   ]
  },
  {
   "cell_type": "code",
   "execution_count": 118,
   "id": "5c16840d",
   "metadata": {},
   "outputs": [
    {
     "data": {
      "text/plain": [
       "(2, 4, 6)"
      ]
     },
     "metadata": {},
     "output_type": "display_data"
    },
    {
     "data": {
      "text/plain": [
       "(1, 6)"
      ]
     },
     "metadata": {},
     "output_type": "display_data"
    }
   ],
   "source": [
    "display(n1.shape,n2.shape)"
   ]
  },
  {
   "cell_type": "code",
   "execution_count": 119,
   "id": "25d4770f",
   "metadata": {},
   "outputs": [
    {
     "data": {
      "text/plain": [
       "array([[[49, 49, 47, 56, 66, 67],\n",
       "        [70, 48, 39, 48, 49, 37],\n",
       "        [50, 40, 35, 41, 33, 66],\n",
       "        [68, 40, 32, 56, 59, 66]],\n",
       "\n",
       "       [[56, 56, 44, 50, 41, 69],\n",
       "        [68, 48, 40, 38, 44, 50],\n",
       "        [62, 21, 33, 74, 41, 74],\n",
       "        [42, 39, 47, 57, 36, 44]]])"
      ]
     },
     "execution_count": 119,
     "metadata": {},
     "output_type": "execute_result"
    }
   ],
   "source": [
    "n1+n2"
   ]
  },
  {
   "cell_type": "code",
   "execution_count": 120,
   "id": "ed2db2df",
   "metadata": {},
   "outputs": [],
   "source": [
    "n3=np.random.randint(10,40,(2,3,4))"
   ]
  },
  {
   "cell_type": "code",
   "execution_count": 121,
   "id": "baac3aff",
   "metadata": {},
   "outputs": [],
   "source": [
    "n4=np.random.randint(10,30,(4,4))"
   ]
  },
  {
   "cell_type": "code",
   "execution_count": 122,
   "id": "1b2d93ac",
   "metadata": {},
   "outputs": [
    {
     "data": {
      "text/plain": [
       "(2, 3, 4)"
      ]
     },
     "metadata": {},
     "output_type": "display_data"
    },
    {
     "data": {
      "text/plain": [
       "(4, 4)"
      ]
     },
     "metadata": {},
     "output_type": "display_data"
    }
   ],
   "source": [
    "display(n3.shape,n4.shape)"
   ]
  },
  {
   "cell_type": "code",
   "execution_count": 123,
   "id": "82d463ee",
   "metadata": {},
   "outputs": [
    {
     "ename": "ValueError",
     "evalue": "operands could not be broadcast together with shapes (2,3,4) (4,4) ",
     "output_type": "error",
     "traceback": [
      "\u001b[1;31m---------------------------------------------------------------------------\u001b[0m",
      "\u001b[1;31mValueError\u001b[0m                                Traceback (most recent call last)",
      "\u001b[1;32m~\\AppData\\Local\\Temp/ipykernel_6564/2987766557.py\u001b[0m in \u001b[0;36m<module>\u001b[1;34m\u001b[0m\n\u001b[1;32m----> 1\u001b[1;33m \u001b[0mn3\u001b[0m\u001b[1;33m+\u001b[0m\u001b[0mn4\u001b[0m\u001b[1;33m\u001b[0m\u001b[1;33m\u001b[0m\u001b[0m\n\u001b[0m",
      "\u001b[1;31mValueError\u001b[0m: operands could not be broadcast together with shapes (2,3,4) (4,4) "
     ]
    }
   ],
   "source": [
    "n3+n4"
   ]
  }
 ],
 "metadata": {
  "kernelspec": {
   "display_name": "Python 3 (ipykernel)",
   "language": "python",
   "name": "python3"
  },
  "language_info": {
   "codemirror_mode": {
    "name": "ipython",
    "version": 3
   },
   "file_extension": ".py",
   "mimetype": "text/x-python",
   "name": "python",
   "nbconvert_exporter": "python",
   "pygments_lexer": "ipython3",
   "version": "3.9.7"
  }
 },
 "nbformat": 4,
 "nbformat_minor": 5
}
