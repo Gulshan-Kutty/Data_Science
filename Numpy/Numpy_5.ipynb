{
 "cells": [
  {
   "cell_type": "markdown",
   "id": "3bbcd2aa",
   "metadata": {},
   "source": [
    "## Creating matrix"
   ]
  },
  {
   "cell_type": "code",
   "execution_count": 1,
   "id": "e6fa6c51",
   "metadata": {},
   "outputs": [],
   "source": [
    "import numpy as np"
   ]
  },
  {
   "cell_type": "code",
   "execution_count": 2,
   "id": "10b3f666",
   "metadata": {},
   "outputs": [],
   "source": [
    "ary1=np.array([100,200,300,400])"
   ]
  },
  {
   "cell_type": "code",
   "execution_count": 3,
   "id": "49e32a42",
   "metadata": {},
   "outputs": [
    {
     "data": {
      "text/plain": [
       "array([100, 200, 300, 400])"
      ]
     },
     "execution_count": 3,
     "metadata": {},
     "output_type": "execute_result"
    }
   ],
   "source": [
    "ary1"
   ]
  },
  {
   "cell_type": "code",
   "execution_count": 4,
   "id": "f116362b",
   "metadata": {},
   "outputs": [
    {
     "data": {
      "text/plain": [
       "numpy.ndarray"
      ]
     },
     "execution_count": 4,
     "metadata": {},
     "output_type": "execute_result"
    }
   ],
   "source": [
    "type(ary1)"
   ]
  },
  {
   "cell_type": "code",
   "execution_count": 5,
   "id": "3a5086e3",
   "metadata": {},
   "outputs": [
    {
     "data": {
      "text/plain": [
       "matrix([[100, 200],\n",
       "        [300, 400]])"
      ]
     },
     "execution_count": 5,
     "metadata": {},
     "output_type": "execute_result"
    }
   ],
   "source": [
    "np.matrix([[100,200],[300,400]])"
   ]
  },
  {
   "cell_type": "code",
   "execution_count": 7,
   "id": "eda76258",
   "metadata": {},
   "outputs": [],
   "source": [
    "m1=np.matrix([[1,2],[3,4]])"
   ]
  },
  {
   "cell_type": "code",
   "execution_count": 8,
   "id": "7f366b75",
   "metadata": {},
   "outputs": [],
   "source": [
    "m2=np.matrix([[2,2],[2,2]])"
   ]
  },
  {
   "cell_type": "code",
   "execution_count": 9,
   "id": "db942e6c",
   "metadata": {},
   "outputs": [
    {
     "data": {
      "text/plain": [
       "numpy.matrix"
      ]
     },
     "execution_count": 9,
     "metadata": {},
     "output_type": "execute_result"
    }
   ],
   "source": [
    "type(m1)"
   ]
  },
  {
   "cell_type": "code",
   "execution_count": 10,
   "id": "6dd2a89b",
   "metadata": {},
   "outputs": [],
   "source": [
    "a1=np.array([[1,2],[3,4]])"
   ]
  },
  {
   "cell_type": "code",
   "execution_count": 11,
   "id": "68c0f345",
   "metadata": {},
   "outputs": [],
   "source": [
    "a2=np.array([[2,2],[2,2]])"
   ]
  },
  {
   "cell_type": "code",
   "execution_count": 12,
   "id": "d1c9bd56",
   "metadata": {},
   "outputs": [
    {
     "data": {
      "text/plain": [
       "array([[3, 4],\n",
       "       [5, 6]])"
      ]
     },
     "execution_count": 12,
     "metadata": {},
     "output_type": "execute_result"
    }
   ],
   "source": [
    "a1+a2"
   ]
  },
  {
   "cell_type": "code",
   "execution_count": 13,
   "id": "1bea4847",
   "metadata": {},
   "outputs": [
    {
     "data": {
      "text/plain": [
       "matrix([[3, 4],\n",
       "        [5, 6]])"
      ]
     },
     "execution_count": 13,
     "metadata": {},
     "output_type": "execute_result"
    }
   ],
   "source": [
    "m1+m2"
   ]
  },
  {
   "cell_type": "code",
   "execution_count": 14,
   "id": "24747c69",
   "metadata": {},
   "outputs": [
    {
     "data": {
      "text/plain": [
       "matrix([[-1,  0],\n",
       "        [ 1,  2]])"
      ]
     },
     "execution_count": 14,
     "metadata": {},
     "output_type": "execute_result"
    }
   ],
   "source": [
    "m1-m2"
   ]
  },
  {
   "cell_type": "code",
   "execution_count": 15,
   "id": "7b27f78a",
   "metadata": {},
   "outputs": [
    {
     "data": {
      "text/plain": [
       "array([[1, 2],\n",
       "       [3, 4]])"
      ]
     },
     "metadata": {},
     "output_type": "display_data"
    },
    {
     "data": {
      "text/plain": [
       "array([[2, 2],\n",
       "       [2, 2]])"
      ]
     },
     "metadata": {},
     "output_type": "display_data"
    }
   ],
   "source": [
    "display(a1,a2)"
   ]
  },
  {
   "cell_type": "code",
   "execution_count": 16,
   "id": "272d9f07",
   "metadata": {},
   "outputs": [
    {
     "data": {
      "text/plain": [
       "array([[2, 4],\n",
       "       [6, 8]])"
      ]
     },
     "execution_count": 16,
     "metadata": {},
     "output_type": "execute_result"
    }
   ],
   "source": [
    "a1*a2 # elememt by element multiplication"
   ]
  },
  {
   "cell_type": "code",
   "execution_count": 17,
   "id": "e6d808bc",
   "metadata": {},
   "outputs": [
    {
     "data": {
      "text/plain": [
       "matrix([[ 6,  6],\n",
       "        [14, 14]])"
      ]
     },
     "execution_count": 17,
     "metadata": {},
     "output_type": "execute_result"
    }
   ],
   "source": [
    "m1*m2 # matrix multiplication"
   ]
  },
  {
   "cell_type": "markdown",
   "id": "ef9e1b5c",
   "metadata": {},
   "source": [
    "## Some other functions "
   ]
  },
  {
   "cell_type": "code",
   "execution_count": 20,
   "id": "90e473ac",
   "metadata": {},
   "outputs": [
    {
     "data": {
      "text/plain": [
       "array([[1, 2],\n",
       "       [3, 4]])"
      ]
     },
     "execution_count": 20,
     "metadata": {},
     "output_type": "execute_result"
    }
   ],
   "source": [
    "a1"
   ]
  },
  {
   "cell_type": "code",
   "execution_count": 21,
   "id": "a39821c7",
   "metadata": {},
   "outputs": [
    {
     "data": {
      "text/plain": [
       "-2.0000000000000004"
      ]
     },
     "execution_count": 21,
     "metadata": {},
     "output_type": "execute_result"
    }
   ],
   "source": [
    "np.linalg.det(a1)"
   ]
  },
  {
   "cell_type": "code",
   "execution_count": 25,
   "id": "4e3e2930",
   "metadata": {},
   "outputs": [],
   "source": [
    "ary2=np.array([100, 200,'NaN', 400])"
   ]
  },
  {
   "cell_type": "code",
   "execution_count": 26,
   "id": "71395b33",
   "metadata": {},
   "outputs": [
    {
     "data": {
      "text/plain": [
       "array(['100', '200', 'NaN', '400'], dtype='<U11')"
      ]
     },
     "execution_count": 26,
     "metadata": {},
     "output_type": "execute_result"
    }
   ],
   "source": [
    "ary2 # every element converted to string"
   ]
  },
  {
   "cell_type": "code",
   "execution_count": 29,
   "id": "f34db85b",
   "metadata": {},
   "outputs": [],
   "source": [
    "ary3=np.array([100, 200,np.nan, 400])"
   ]
  },
  {
   "cell_type": "code",
   "execution_count": 30,
   "id": "d25e7f85",
   "metadata": {},
   "outputs": [
    {
     "data": {
      "text/plain": [
       "array([100., 200.,  nan, 400.])"
      ]
     },
     "execution_count": 30,
     "metadata": {},
     "output_type": "execute_result"
    }
   ],
   "source": [
    "ary3"
   ]
  },
  {
   "cell_type": "code",
   "execution_count": null,
   "id": "1707993b",
   "metadata": {},
   "outputs": [],
   "source": []
  }
 ],
 "metadata": {
  "kernelspec": {
   "display_name": "Python 3 (ipykernel)",
   "language": "python",
   "name": "python3"
  },
  "language_info": {
   "codemirror_mode": {
    "name": "ipython",
    "version": 3
   },
   "file_extension": ".py",
   "mimetype": "text/x-python",
   "name": "python",
   "nbconvert_exporter": "python",
   "pygments_lexer": "ipython3",
   "version": "3.9.7"
  }
 },
 "nbformat": 4,
 "nbformat_minor": 5
}
