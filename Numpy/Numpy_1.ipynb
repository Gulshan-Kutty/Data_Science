{
 "cells": [
  {
   "cell_type": "markdown",
   "id": "91b9c104",
   "metadata": {},
   "source": [
    "## Indexing two dimension array"
   ]
  },
  {
   "cell_type": "code",
   "execution_count": 2,
   "id": "eed89aa7",
   "metadata": {},
   "outputs": [],
   "source": [
    "import numpy as np"
   ]
  },
  {
   "cell_type": "code",
   "execution_count": 3,
   "id": "dfde3a33",
   "metadata": {},
   "outputs": [],
   "source": [
    "a1=np.random.randint(100,200,(4,6))"
   ]
  },
  {
   "cell_type": "code",
   "execution_count": 4,
   "id": "94781a84",
   "metadata": {},
   "outputs": [
    {
     "data": {
      "text/plain": [
       "array([[110, 158, 166, 170, 130, 153],\n",
       "       [124, 154, 126, 129, 158, 155],\n",
       "       [197, 123, 141, 152, 173, 188],\n",
       "       [160, 100, 110, 104, 109, 131]])"
      ]
     },
     "execution_count": 4,
     "metadata": {},
     "output_type": "execute_result"
    }
   ],
   "source": [
    "a1"
   ]
  },
  {
   "cell_type": "code",
   "execution_count": 5,
   "id": "d4af2bf6",
   "metadata": {},
   "outputs": [],
   "source": [
    "# To extract 152,109 and 100"
   ]
  },
  {
   "cell_type": "code",
   "execution_count": 6,
   "id": "60e4c7a7",
   "metadata": {},
   "outputs": [
    {
     "data": {
      "text/plain": [
       "152"
      ]
     },
     "execution_count": 6,
     "metadata": {},
     "output_type": "execute_result"
    }
   ],
   "source": [
    "a1[2,3]"
   ]
  },
  {
   "cell_type": "code",
   "execution_count": 7,
   "id": "f04468c0",
   "metadata": {},
   "outputs": [
    {
     "data": {
      "text/plain": [
       "109"
      ]
     },
     "execution_count": 7,
     "metadata": {},
     "output_type": "execute_result"
    }
   ],
   "source": [
    "a1[3,4]"
   ]
  },
  {
   "cell_type": "code",
   "execution_count": 8,
   "id": "d0e9aa6d",
   "metadata": {},
   "outputs": [
    {
     "data": {
      "text/plain": [
       "100"
      ]
     },
     "execution_count": 8,
     "metadata": {},
     "output_type": "execute_result"
    }
   ],
   "source": [
    "a1[3,1]"
   ]
  },
  {
   "cell_type": "markdown",
   "id": "51dc5aca",
   "metadata": {},
   "source": [
    "## Indexing three dimension array"
   ]
  },
  {
   "cell_type": "code",
   "execution_count": 9,
   "id": "b0e3f456",
   "metadata": {},
   "outputs": [],
   "source": [
    "a2=np.random.randint(100,200,(2,3,4))"
   ]
  },
  {
   "cell_type": "code",
   "execution_count": 10,
   "id": "24e5854e",
   "metadata": {},
   "outputs": [
    {
     "data": {
      "text/plain": [
       "array([[[172, 150, 166, 124],\n",
       "        [199, 129, 114, 139],\n",
       "        [161, 152, 117, 179]],\n",
       "\n",
       "       [[106, 133, 104, 177],\n",
       "        [193, 107, 132, 137],\n",
       "        [183, 141, 126, 107]]])"
      ]
     },
     "execution_count": 10,
     "metadata": {},
     "output_type": "execute_result"
    }
   ],
   "source": [
    "a2"
   ]
  },
  {
   "cell_type": "code",
   "execution_count": 11,
   "id": "7bb6146a",
   "metadata": {},
   "outputs": [],
   "source": [
    "# To extract 117 and 132"
   ]
  },
  {
   "cell_type": "code",
   "execution_count": 12,
   "id": "f1311f0a",
   "metadata": {},
   "outputs": [
    {
     "data": {
      "text/plain": [
       "117"
      ]
     },
     "execution_count": 12,
     "metadata": {},
     "output_type": "execute_result"
    }
   ],
   "source": [
    "a2[0,2,2]"
   ]
  },
  {
   "cell_type": "code",
   "execution_count": 13,
   "id": "21819452",
   "metadata": {},
   "outputs": [
    {
     "data": {
      "text/plain": [
       "132"
      ]
     },
     "execution_count": 13,
     "metadata": {},
     "output_type": "execute_result"
    }
   ],
   "source": [
    "a2[1,1,2]"
   ]
  },
  {
   "cell_type": "markdown",
   "id": "afbb0b9a",
   "metadata": {},
   "source": [
    "## Slicing two dimension array"
   ]
  },
  {
   "cell_type": "code",
   "execution_count": 14,
   "id": "74ec4c70",
   "metadata": {},
   "outputs": [
    {
     "data": {
      "text/plain": [
       "array([[110, 158, 166, 170, 130, 153],\n",
       "       [124, 154, 126, 129, 158, 155],\n",
       "       [197, 123, 141, 152, 173, 188],\n",
       "       [160, 100, 110, 104, 109, 131]])"
      ]
     },
     "execution_count": 14,
     "metadata": {},
     "output_type": "execute_result"
    }
   ],
   "source": [
    "a1"
   ]
  },
  {
   "cell_type": "code",
   "execution_count": null,
   "id": "a7efafff",
   "metadata": {},
   "outputs": [],
   "source": [
    "'''To extract 126,129,158\n",
    "              141,152,173'''"
   ]
  },
  {
   "cell_type": "code",
   "execution_count": 1,
   "id": "441ac158",
   "metadata": {},
   "outputs": [
    {
     "ename": "NameError",
     "evalue": "name 'a1' is not defined",
     "output_type": "error",
     "traceback": [
      "\u001b[1;31m---------------------------------------------------------------------------\u001b[0m",
      "\u001b[1;31mNameError\u001b[0m                                 Traceback (most recent call last)",
      "\u001b[1;32m~\\AppData\\Local\\Temp/ipykernel_12100/1852189663.py\u001b[0m in \u001b[0;36m<module>\u001b[1;34m\u001b[0m\n\u001b[1;32m----> 1\u001b[1;33m \u001b[0ma1\u001b[0m\u001b[1;33m[\u001b[0m\u001b[1;36m1\u001b[0m\u001b[1;33m:\u001b[0m\u001b[1;36m3\u001b[0m\u001b[1;33m:\u001b[0m\u001b[1;36m1\u001b[0m\u001b[1;33m,\u001b[0m\u001b[1;36m2\u001b[0m\u001b[1;33m:\u001b[0m\u001b[1;36m5\u001b[0m\u001b[1;33m:\u001b[0m\u001b[1;36m1\u001b[0m\u001b[1;33m]\u001b[0m\u001b[1;33m\u001b[0m\u001b[1;33m\u001b[0m\u001b[0m\n\u001b[0m",
      "\u001b[1;31mNameError\u001b[0m: name 'a1' is not defined"
     ]
    }
   ],
   "source": [
    "a1[1:3:1,2:5:1]"
   ]
  },
  {
   "cell_type": "markdown",
   "id": "a95c485f",
   "metadata": {},
   "source": [
    "## Slicing three dimension array"
   ]
  },
  {
   "cell_type": "code",
   "execution_count": 17,
   "id": "575dce74",
   "metadata": {},
   "outputs": [
    {
     "data": {
      "text/plain": [
       "array([[[172, 150, 166, 124],\n",
       "        [199, 129, 114, 139],\n",
       "        [161, 152, 117, 179]],\n",
       "\n",
       "       [[106, 133, 104, 177],\n",
       "        [193, 107, 132, 137],\n",
       "        [183, 141, 126, 107]]])"
      ]
     },
     "execution_count": 17,
     "metadata": {},
     "output_type": "execute_result"
    }
   ],
   "source": [
    "a2"
   ]
  },
  {
   "cell_type": "code",
   "execution_count": 21,
   "id": "4305cc9f",
   "metadata": {},
   "outputs": [
    {
     "data": {
      "text/plain": [
       "' To extract 129,114\\n               152,117\\n               107,132\\n               141,126'"
      ]
     },
     "execution_count": 21,
     "metadata": {},
     "output_type": "execute_result"
    }
   ],
   "source": [
    "''' To extract 129,114\n",
    "               152,117\n",
    "               107,132\n",
    "               141,126'''"
   ]
  },
  {
   "cell_type": "code",
   "execution_count": 22,
   "id": "e3f94291",
   "metadata": {},
   "outputs": [
    {
     "data": {
      "text/plain": [
       "array([[[129, 114],\n",
       "        [152, 117]],\n",
       "\n",
       "       [[107, 132],\n",
       "        [141, 126]]])"
      ]
     },
     "execution_count": 22,
     "metadata": {},
     "output_type": "execute_result"
    }
   ],
   "source": [
    "a2[:,1:3:1,1:3:1]"
   ]
  },
  {
   "cell_type": "markdown",
   "id": "5dcdf857",
   "metadata": {},
   "source": [
    "## Slicing four dimension array"
   ]
  },
  {
   "cell_type": "code",
   "execution_count": 23,
   "id": "4adfb9e6",
   "metadata": {},
   "outputs": [],
   "source": [
    "a3=np.random.randint(100,200,(2,2,4,5))"
   ]
  },
  {
   "cell_type": "code",
   "execution_count": 24,
   "id": "3dd70265",
   "metadata": {},
   "outputs": [
    {
     "data": {
      "text/plain": [
       "array([[[[170, 162, 167, 104, 114],\n",
       "         [171, 185, 129, 157, 176],\n",
       "         [174, 104, 139, 109, 173],\n",
       "         [143, 133, 168, 145, 149]],\n",
       "\n",
       "        [[126, 140, 129, 106, 134],\n",
       "         [157, 189, 129, 113, 152],\n",
       "         [165, 142, 197, 100, 168],\n",
       "         [134, 195, 182, 194, 185]]],\n",
       "\n",
       "\n",
       "       [[[194, 154, 120, 191, 179],\n",
       "         [199, 108, 198, 116, 177],\n",
       "         [130, 177, 149, 140, 121],\n",
       "         [101, 111, 156, 148, 193]],\n",
       "\n",
       "        [[100, 136, 122, 126, 188],\n",
       "         [136, 146, 192, 137, 110],\n",
       "         [133, 165, 129, 169, 135],\n",
       "         [188, 180, 100, 105, 149]]]])"
      ]
     },
     "execution_count": 24,
     "metadata": {},
     "output_type": "execute_result"
    }
   ],
   "source": [
    "a3"
   ]
  },
  {
   "cell_type": "code",
   "execution_count": 25,
   "id": "16c76969",
   "metadata": {},
   "outputs": [
    {
     "data": {
      "text/plain": [
       "'To extract 185,129,157\\n             104,139,109\\n             108,198,116\\n             177,149,140'"
      ]
     },
     "execution_count": 25,
     "metadata": {},
     "output_type": "execute_result"
    }
   ],
   "source": [
    "'''To extract 185,129,157\n",
    "             104,139,109\n",
    "             108,198,116\n",
    "             177,149,140'''"
   ]
  },
  {
   "cell_type": "code",
   "execution_count": 26,
   "id": "8f492a06",
   "metadata": {},
   "outputs": [
    {
     "data": {
      "text/plain": [
       "array([[[[185, 129, 157],\n",
       "         [104, 139, 109]]],\n",
       "\n",
       "\n",
       "       [[[108, 198, 116],\n",
       "         [177, 149, 140]]]])"
      ]
     },
     "execution_count": 26,
     "metadata": {},
     "output_type": "execute_result"
    }
   ],
   "source": [
    "a3[0:2:1,0:1:1,1:3:1,1:4:1]"
   ]
  },
  {
   "cell_type": "code",
   "execution_count": null,
   "id": "72277a6a",
   "metadata": {},
   "outputs": [],
   "source": []
  }
 ],
 "metadata": {
  "kernelspec": {
   "display_name": "Python 3 (ipykernel)",
   "language": "python",
   "name": "python3"
  },
  "language_info": {
   "codemirror_mode": {
    "name": "ipython",
    "version": 3
   },
   "file_extension": ".py",
   "mimetype": "text/x-python",
   "name": "python",
   "nbconvert_exporter": "python",
   "pygments_lexer": "ipython3",
   "version": "3.9.7"
  }
 },
 "nbformat": 4,
 "nbformat_minor": 5
}
