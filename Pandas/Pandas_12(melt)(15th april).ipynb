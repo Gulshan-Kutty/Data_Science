{
 "cells": [
  {
   "cell_type": "code",
   "execution_count": 1,
   "id": "2a180a1b",
   "metadata": {},
   "outputs": [],
   "source": [
    "import pandas as pd"
   ]
  },
  {
   "cell_type": "code",
   "execution_count": 3,
   "id": "fff80d1c",
   "metadata": {},
   "outputs": [],
   "source": [
    "dfmelt=pd.read_csv(r\"C:\\Users\\User\\Downloads\\DATASETS\\Melt\\meltdb.csv\")"
   ]
  },
  {
   "cell_type": "code",
   "execution_count": 4,
   "id": "bb9fa402",
   "metadata": {},
   "outputs": [
    {
     "data": {
      "text/html": [
       "<div>\n",
       "<style scoped>\n",
       "    .dataframe tbody tr th:only-of-type {\n",
       "        vertical-align: middle;\n",
       "    }\n",
       "\n",
       "    .dataframe tbody tr th {\n",
       "        vertical-align: top;\n",
       "    }\n",
       "\n",
       "    .dataframe thead th {\n",
       "        text-align: right;\n",
       "    }\n",
       "</style>\n",
       "<table border=\"1\" class=\"dataframe\">\n",
       "  <thead>\n",
       "    <tr style=\"text-align: right;\">\n",
       "      <th></th>\n",
       "      <th>WeekDays</th>\n",
       "      <th>Hyderabad</th>\n",
       "      <th>Delhi</th>\n",
       "      <th>Vizag</th>\n",
       "      <th>Chennai</th>\n",
       "    </tr>\n",
       "  </thead>\n",
       "  <tbody>\n",
       "    <tr>\n",
       "      <th>0</th>\n",
       "      <td>Monday</td>\n",
       "      <td>35</td>\n",
       "      <td>34</td>\n",
       "      <td>38</td>\n",
       "      <td>39</td>\n",
       "    </tr>\n",
       "    <tr>\n",
       "      <th>1</th>\n",
       "      <td>Tuesday</td>\n",
       "      <td>36</td>\n",
       "      <td>32</td>\n",
       "      <td>37</td>\n",
       "      <td>38</td>\n",
       "    </tr>\n",
       "    <tr>\n",
       "      <th>2</th>\n",
       "      <td>Wednesday</td>\n",
       "      <td>33</td>\n",
       "      <td>31</td>\n",
       "      <td>35</td>\n",
       "      <td>37</td>\n",
       "    </tr>\n",
       "    <tr>\n",
       "      <th>3</th>\n",
       "      <td>Thursday</td>\n",
       "      <td>35</td>\n",
       "      <td>33</td>\n",
       "      <td>36</td>\n",
       "      <td>38</td>\n",
       "    </tr>\n",
       "    <tr>\n",
       "      <th>4</th>\n",
       "      <td>Friday</td>\n",
       "      <td>38</td>\n",
       "      <td>35</td>\n",
       "      <td>38</td>\n",
       "      <td>37</td>\n",
       "    </tr>\n",
       "    <tr>\n",
       "      <th>5</th>\n",
       "      <td>Saturday</td>\n",
       "      <td>37</td>\n",
       "      <td>32</td>\n",
       "      <td>37</td>\n",
       "      <td>35</td>\n",
       "    </tr>\n",
       "    <tr>\n",
       "      <th>6</th>\n",
       "      <td>Sunday</td>\n",
       "      <td>35</td>\n",
       "      <td>33</td>\n",
       "      <td>35</td>\n",
       "      <td>36</td>\n",
       "    </tr>\n",
       "  </tbody>\n",
       "</table>\n",
       "</div>"
      ],
      "text/plain": [
       "    WeekDays  Hyderabad  Delhi  Vizag  Chennai\n",
       "0     Monday         35     34     38       39\n",
       "1    Tuesday         36     32     37       38\n",
       "2  Wednesday         33     31     35       37\n",
       "3   Thursday         35     33     36       38\n",
       "4     Friday         38     35     38       37\n",
       "5   Saturday         37     32     37       35\n",
       "6     Sunday         35     33     35       36"
      ]
     },
     "execution_count": 4,
     "metadata": {},
     "output_type": "execute_result"
    }
   ],
   "source": [
    "dfmelt"
   ]
  },
  {
   "cell_type": "code",
   "execution_count": 5,
   "id": "fce19ff6",
   "metadata": {},
   "outputs": [
    {
     "data": {
      "text/html": [
       "<div>\n",
       "<style scoped>\n",
       "    .dataframe tbody tr th:only-of-type {\n",
       "        vertical-align: middle;\n",
       "    }\n",
       "\n",
       "    .dataframe tbody tr th {\n",
       "        vertical-align: top;\n",
       "    }\n",
       "\n",
       "    .dataframe thead th {\n",
       "        text-align: right;\n",
       "    }\n",
       "</style>\n",
       "<table border=\"1\" class=\"dataframe\">\n",
       "  <thead>\n",
       "    <tr style=\"text-align: right;\">\n",
       "      <th></th>\n",
       "      <th>variable</th>\n",
       "      <th>value</th>\n",
       "    </tr>\n",
       "  </thead>\n",
       "  <tbody>\n",
       "    <tr>\n",
       "      <th>0</th>\n",
       "      <td>WeekDays</td>\n",
       "      <td>Monday</td>\n",
       "    </tr>\n",
       "    <tr>\n",
       "      <th>1</th>\n",
       "      <td>WeekDays</td>\n",
       "      <td>Tuesday</td>\n",
       "    </tr>\n",
       "    <tr>\n",
       "      <th>2</th>\n",
       "      <td>WeekDays</td>\n",
       "      <td>Wednesday</td>\n",
       "    </tr>\n",
       "    <tr>\n",
       "      <th>3</th>\n",
       "      <td>WeekDays</td>\n",
       "      <td>Thursday</td>\n",
       "    </tr>\n",
       "    <tr>\n",
       "      <th>4</th>\n",
       "      <td>WeekDays</td>\n",
       "      <td>Friday</td>\n",
       "    </tr>\n",
       "    <tr>\n",
       "      <th>5</th>\n",
       "      <td>WeekDays</td>\n",
       "      <td>Saturday</td>\n",
       "    </tr>\n",
       "    <tr>\n",
       "      <th>6</th>\n",
       "      <td>WeekDays</td>\n",
       "      <td>Sunday</td>\n",
       "    </tr>\n",
       "    <tr>\n",
       "      <th>7</th>\n",
       "      <td>Hyderabad</td>\n",
       "      <td>35</td>\n",
       "    </tr>\n",
       "    <tr>\n",
       "      <th>8</th>\n",
       "      <td>Hyderabad</td>\n",
       "      <td>36</td>\n",
       "    </tr>\n",
       "    <tr>\n",
       "      <th>9</th>\n",
       "      <td>Hyderabad</td>\n",
       "      <td>33</td>\n",
       "    </tr>\n",
       "    <tr>\n",
       "      <th>10</th>\n",
       "      <td>Hyderabad</td>\n",
       "      <td>35</td>\n",
       "    </tr>\n",
       "    <tr>\n",
       "      <th>11</th>\n",
       "      <td>Hyderabad</td>\n",
       "      <td>38</td>\n",
       "    </tr>\n",
       "    <tr>\n",
       "      <th>12</th>\n",
       "      <td>Hyderabad</td>\n",
       "      <td>37</td>\n",
       "    </tr>\n",
       "    <tr>\n",
       "      <th>13</th>\n",
       "      <td>Hyderabad</td>\n",
       "      <td>35</td>\n",
       "    </tr>\n",
       "    <tr>\n",
       "      <th>14</th>\n",
       "      <td>Delhi</td>\n",
       "      <td>34</td>\n",
       "    </tr>\n",
       "    <tr>\n",
       "      <th>15</th>\n",
       "      <td>Delhi</td>\n",
       "      <td>32</td>\n",
       "    </tr>\n",
       "    <tr>\n",
       "      <th>16</th>\n",
       "      <td>Delhi</td>\n",
       "      <td>31</td>\n",
       "    </tr>\n",
       "    <tr>\n",
       "      <th>17</th>\n",
       "      <td>Delhi</td>\n",
       "      <td>33</td>\n",
       "    </tr>\n",
       "    <tr>\n",
       "      <th>18</th>\n",
       "      <td>Delhi</td>\n",
       "      <td>35</td>\n",
       "    </tr>\n",
       "    <tr>\n",
       "      <th>19</th>\n",
       "      <td>Delhi</td>\n",
       "      <td>32</td>\n",
       "    </tr>\n",
       "    <tr>\n",
       "      <th>20</th>\n",
       "      <td>Delhi</td>\n",
       "      <td>33</td>\n",
       "    </tr>\n",
       "    <tr>\n",
       "      <th>21</th>\n",
       "      <td>Vizag</td>\n",
       "      <td>38</td>\n",
       "    </tr>\n",
       "    <tr>\n",
       "      <th>22</th>\n",
       "      <td>Vizag</td>\n",
       "      <td>37</td>\n",
       "    </tr>\n",
       "    <tr>\n",
       "      <th>23</th>\n",
       "      <td>Vizag</td>\n",
       "      <td>35</td>\n",
       "    </tr>\n",
       "    <tr>\n",
       "      <th>24</th>\n",
       "      <td>Vizag</td>\n",
       "      <td>36</td>\n",
       "    </tr>\n",
       "    <tr>\n",
       "      <th>25</th>\n",
       "      <td>Vizag</td>\n",
       "      <td>38</td>\n",
       "    </tr>\n",
       "    <tr>\n",
       "      <th>26</th>\n",
       "      <td>Vizag</td>\n",
       "      <td>37</td>\n",
       "    </tr>\n",
       "    <tr>\n",
       "      <th>27</th>\n",
       "      <td>Vizag</td>\n",
       "      <td>35</td>\n",
       "    </tr>\n",
       "    <tr>\n",
       "      <th>28</th>\n",
       "      <td>Chennai</td>\n",
       "      <td>39</td>\n",
       "    </tr>\n",
       "    <tr>\n",
       "      <th>29</th>\n",
       "      <td>Chennai</td>\n",
       "      <td>38</td>\n",
       "    </tr>\n",
       "    <tr>\n",
       "      <th>30</th>\n",
       "      <td>Chennai</td>\n",
       "      <td>37</td>\n",
       "    </tr>\n",
       "    <tr>\n",
       "      <th>31</th>\n",
       "      <td>Chennai</td>\n",
       "      <td>38</td>\n",
       "    </tr>\n",
       "    <tr>\n",
       "      <th>32</th>\n",
       "      <td>Chennai</td>\n",
       "      <td>37</td>\n",
       "    </tr>\n",
       "    <tr>\n",
       "      <th>33</th>\n",
       "      <td>Chennai</td>\n",
       "      <td>35</td>\n",
       "    </tr>\n",
       "    <tr>\n",
       "      <th>34</th>\n",
       "      <td>Chennai</td>\n",
       "      <td>36</td>\n",
       "    </tr>\n",
       "  </tbody>\n",
       "</table>\n",
       "</div>"
      ],
      "text/plain": [
       "     variable      value\n",
       "0    WeekDays     Monday\n",
       "1    WeekDays    Tuesday\n",
       "2    WeekDays  Wednesday\n",
       "3    WeekDays   Thursday\n",
       "4    WeekDays     Friday\n",
       "5    WeekDays   Saturday\n",
       "6    WeekDays     Sunday\n",
       "7   Hyderabad         35\n",
       "8   Hyderabad         36\n",
       "9   Hyderabad         33\n",
       "10  Hyderabad         35\n",
       "11  Hyderabad         38\n",
       "12  Hyderabad         37\n",
       "13  Hyderabad         35\n",
       "14      Delhi         34\n",
       "15      Delhi         32\n",
       "16      Delhi         31\n",
       "17      Delhi         33\n",
       "18      Delhi         35\n",
       "19      Delhi         32\n",
       "20      Delhi         33\n",
       "21      Vizag         38\n",
       "22      Vizag         37\n",
       "23      Vizag         35\n",
       "24      Vizag         36\n",
       "25      Vizag         38\n",
       "26      Vizag         37\n",
       "27      Vizag         35\n",
       "28    Chennai         39\n",
       "29    Chennai         38\n",
       "30    Chennai         37\n",
       "31    Chennai         38\n",
       "32    Chennai         37\n",
       "33    Chennai         35\n",
       "34    Chennai         36"
      ]
     },
     "execution_count": 5,
     "metadata": {},
     "output_type": "execute_result"
    }
   ],
   "source": [
    "pd.melt(dfmelt)"
   ]
  },
  {
   "cell_type": "code",
   "execution_count": 8,
   "id": "10f41fed",
   "metadata": {},
   "outputs": [],
   "source": [
    "df2=pd.melt(dfmelt,id_vars=['WeekDays'])"
   ]
  },
  {
   "cell_type": "code",
   "execution_count": 9,
   "id": "ae51a5c7",
   "metadata": {},
   "outputs": [],
   "source": [
    "dfprof=pd.read_csv(r\"C:\\Users\\User\\Downloads\\DATASETS\\Cond Dataset\\resume.csv\")"
   ]
  },
  {
   "cell_type": "code",
   "execution_count": 10,
   "id": "f3bd69a0",
   "metadata": {},
   "outputs": [
    {
     "data": {
      "text/plain": [
       "0        Arjun Yadav\n",
       "1        Akash Reddy\n",
       "2     Shanti Narayan\n",
       "3        Meena Arjun\n",
       "4        Naren Yadav\n",
       "5        Shiva Kumar\n",
       "6    Srikanth Sharma\n",
       "7         Aman Pandi\n",
       "8      Narayan Reddy\n",
       "Name: Full Name, dtype: object"
      ]
     },
     "execution_count": 10,
     "metadata": {},
     "output_type": "execute_result"
    }
   ],
   "source": [
    "dfprof[\"Full Name\"]"
   ]
  },
  {
   "cell_type": "code",
   "execution_count": 11,
   "id": "d148274c",
   "metadata": {},
   "outputs": [
    {
     "data": {
      "text/plain": [
       "0        [Arjun, Yadav]\n",
       "1        [Akash, Reddy]\n",
       "2     [Shanti, Narayan]\n",
       "3        [Meena, Arjun]\n",
       "4        [Naren, Yadav]\n",
       "5        [Shiva, Kumar]\n",
       "6    [Srikanth, Sharma]\n",
       "7         [Aman, Pandi]\n",
       "8      [Narayan, Reddy]\n",
       "Name: Full Name, dtype: object"
      ]
     },
     "execution_count": 11,
     "metadata": {},
     "output_type": "execute_result"
    }
   ],
   "source": [
    "dfprof[\"Full Name\"].str.split(\" \")"
   ]
  },
  {
   "cell_type": "code",
   "execution_count": 26,
   "id": "200785ff",
   "metadata": {},
   "outputs": [],
   "source": [
    "d=dfprof[\"Full Name\"].str.split(\" \", expand=True).columns =[\"FName\",\"LName\"]"
   ]
  },
  {
   "cell_type": "code",
   "execution_count": 27,
   "id": "33751b80",
   "metadata": {},
   "outputs": [
    {
     "data": {
      "text/plain": [
       "['FName', 'LName']"
      ]
     },
     "execution_count": 27,
     "metadata": {},
     "output_type": "execute_result"
    }
   ],
   "source": [
    "d"
   ]
  },
  {
   "cell_type": "code",
   "execution_count": 22,
   "id": "5ba77b0f",
   "metadata": {},
   "outputs": [
    {
     "data": {
      "text/plain": [
       "0        [Arjun, Yadav]\n",
       "1        [Akash, Reddy]\n",
       "2     [Shanti, Narayan]\n",
       "3        [Meena, Arjun]\n",
       "4        [Naren, Yadav]\n",
       "5        [Shiva, Kumar]\n",
       "6    [Srikanth, Sharma]\n",
       "7         [Aman, Pandi]\n",
       "8      [Narayan, Reddy]\n",
       "Name: Full Name, dtype: object"
      ]
     },
     "execution_count": 22,
     "metadata": {},
     "output_type": "execute_result"
    }
   ],
   "source": [
    "dfprof[\"Full Name\"].map(lambda x : x.split())"
   ]
  },
  {
   "cell_type": "code",
   "execution_count": 30,
   "id": "9fa58288",
   "metadata": {},
   "outputs": [
    {
     "data": {
      "text/plain": [
       "0        ARJUN YADAV\n",
       "1        AKASH REDDY\n",
       "2     SHANTI NARAYAN\n",
       "3        MEENA ARJUN\n",
       "4        NAREN YADAV\n",
       "5        SHIVA KUMAR\n",
       "6    SRIKANTH SHARMA\n",
       "7         AMAN PANDI\n",
       "8      NARAYAN REDDY\n",
       "Name: Full Name, dtype: object"
      ]
     },
     "execution_count": 30,
     "metadata": {},
     "output_type": "execute_result"
    }
   ],
   "source": [
    "dfprof[\"Full Name\"].map(lambda x: x.upper())\n"
   ]
  },
  {
   "cell_type": "code",
   "execution_count": 31,
   "id": "5e6aeff8",
   "metadata": {},
   "outputs": [
    {
     "data": {
      "text/plain": [
       "0        arjun yadav\n",
       "1        akash reddy\n",
       "2     shanti narayan\n",
       "3        meena arjun\n",
       "4        naren yadav\n",
       "5        shiva kumar\n",
       "6    srikanth sharma\n",
       "7         aman pandi\n",
       "8      narayan reddy\n",
       "Name: Full Name, dtype: object"
      ]
     },
     "execution_count": 31,
     "metadata": {},
     "output_type": "execute_result"
    }
   ],
   "source": [
    "dfprof[\"Full Name\"].map(lambda x: x.lower())\n"
   ]
  },
  {
   "cell_type": "code",
   "execution_count": 44,
   "id": "06d82021",
   "metadata": {},
   "outputs": [
    {
     "data": {
      "text/html": [
       "<div>\n",
       "<style scoped>\n",
       "    .dataframe tbody tr th:only-of-type {\n",
       "        vertical-align: middle;\n",
       "    }\n",
       "\n",
       "    .dataframe tbody tr th {\n",
       "        vertical-align: top;\n",
       "    }\n",
       "\n",
       "    .dataframe thead th {\n",
       "        text-align: right;\n",
       "    }\n",
       "</style>\n",
       "<table border=\"1\" class=\"dataframe\">\n",
       "  <thead>\n",
       "    <tr style=\"text-align: right;\">\n",
       "      <th></th>\n",
       "      <th>Full Name</th>\n",
       "      <th>City</th>\n",
       "      <th>State</th>\n",
       "      <th>Technology</th>\n",
       "    </tr>\n",
       "  </thead>\n",
       "  <tbody>\n",
       "    <tr>\n",
       "      <th>2</th>\n",
       "      <td>Shanti Narayan</td>\n",
       "      <td>Secunderabad</td>\n",
       "      <td>TS</td>\n",
       "      <td>JavaPythonOraclePerl</td>\n",
       "    </tr>\n",
       "    <tr>\n",
       "      <th>5</th>\n",
       "      <td>Shiva Kumar</td>\n",
       "      <td>Hyderabad</td>\n",
       "      <td>TS</td>\n",
       "      <td>PythonJavaScriptPerlMongo</td>\n",
       "    </tr>\n",
       "    <tr>\n",
       "      <th>6</th>\n",
       "      <td>Srikanth Sharma</td>\n",
       "      <td>Secunderabad</td>\n",
       "      <td>TS</td>\n",
       "      <td>JavaRubyPerlAngular</td>\n",
       "    </tr>\n",
       "  </tbody>\n",
       "</table>\n",
       "</div>"
      ],
      "text/plain": [
       "         Full Name          City State                 Technology\n",
       "2   Shanti Narayan  Secunderabad    TS       JavaPythonOraclePerl\n",
       "5      Shiva Kumar     Hyderabad    TS  PythonJavaScriptPerlMongo\n",
       "6  Srikanth Sharma  Secunderabad    TS        JavaRubyPerlAngular"
      ]
     },
     "execution_count": 44,
     "metadata": {},
     "output_type": "execute_result"
    }
   ],
   "source": [
    "dfprof[dfprof[\"Full Name\"].str.startswith(\"S\")]"
   ]
  },
  {
   "cell_type": "code",
   "execution_count": null,
   "id": "308fa21c",
   "metadata": {},
   "outputs": [],
   "source": []
  },
  {
   "cell_type": "code",
   "execution_count": 39,
   "id": "73778d96",
   "metadata": {},
   "outputs": [
    {
     "data": {
      "text/html": [
       "<div>\n",
       "<style scoped>\n",
       "    .dataframe tbody tr th:only-of-type {\n",
       "        vertical-align: middle;\n",
       "    }\n",
       "\n",
       "    .dataframe tbody tr th {\n",
       "        vertical-align: top;\n",
       "    }\n",
       "\n",
       "    .dataframe thead th {\n",
       "        text-align: right;\n",
       "    }\n",
       "</style>\n",
       "<table border=\"1\" class=\"dataframe\">\n",
       "  <thead>\n",
       "    <tr style=\"text-align: right;\">\n",
       "      <th></th>\n",
       "      <th>Full Name</th>\n",
       "      <th>City</th>\n",
       "      <th>State</th>\n",
       "      <th>Technology</th>\n",
       "    </tr>\n",
       "  </thead>\n",
       "  <tbody>\n",
       "    <tr>\n",
       "      <th>0</th>\n",
       "      <td>Arjun Yadav</td>\n",
       "      <td>Hyderabad</td>\n",
       "      <td>TS</td>\n",
       "      <td>JavaPythonJavaScriptPerl</td>\n",
       "    </tr>\n",
       "    <tr>\n",
       "      <th>1</th>\n",
       "      <td>Akash Reddy</td>\n",
       "      <td>Chennai</td>\n",
       "      <td>TN</td>\n",
       "      <td>JavaRubyJavaScriptPerl</td>\n",
       "    </tr>\n",
       "    <tr>\n",
       "      <th>2</th>\n",
       "      <td>Shanti Narayan</td>\n",
       "      <td>Secunderabad</td>\n",
       "      <td>TS</td>\n",
       "      <td>JavaPythonOraclePerl</td>\n",
       "    </tr>\n",
       "    <tr>\n",
       "      <th>3</th>\n",
       "      <td>Meena Arjun</td>\n",
       "      <td>Bhopal</td>\n",
       "      <td>MP</td>\n",
       "      <td>JuliaPythonJavaScriptPerl</td>\n",
       "    </tr>\n",
       "    <tr>\n",
       "      <th>4</th>\n",
       "      <td>Naren Yadav</td>\n",
       "      <td>Delhi</td>\n",
       "      <td>Delhi</td>\n",
       "      <td>JavaPythonJavaScriptSqlserver</td>\n",
       "    </tr>\n",
       "    <tr>\n",
       "      <th>5</th>\n",
       "      <td>Shiva Kumar</td>\n",
       "      <td>Hyderabad</td>\n",
       "      <td>TS</td>\n",
       "      <td>PythonJavaScriptPerlMongo</td>\n",
       "    </tr>\n",
       "    <tr>\n",
       "      <th>6</th>\n",
       "      <td>Srikanth Sharma</td>\n",
       "      <td>Secunderabad</td>\n",
       "      <td>TS</td>\n",
       "      <td>JavaRubyPerlAngular</td>\n",
       "    </tr>\n",
       "    <tr>\n",
       "      <th>7</th>\n",
       "      <td>Aman Pandi</td>\n",
       "      <td>Bhopal</td>\n",
       "      <td>MP</td>\n",
       "      <td>AngularHtmlPerlOracle</td>\n",
       "    </tr>\n",
       "    <tr>\n",
       "      <th>8</th>\n",
       "      <td>Narayan Reddy</td>\n",
       "      <td>Chennai</td>\n",
       "      <td>TN</td>\n",
       "      <td>PythonOracleDjangoRuby</td>\n",
       "    </tr>\n",
       "  </tbody>\n",
       "</table>\n",
       "</div>"
      ],
      "text/plain": [
       "         Full Name          City  State                     Technology\n",
       "0      Arjun Yadav     Hyderabad     TS       JavaPythonJavaScriptPerl\n",
       "1      Akash Reddy       Chennai     TN         JavaRubyJavaScriptPerl\n",
       "2   Shanti Narayan  Secunderabad     TS           JavaPythonOraclePerl\n",
       "3      Meena Arjun        Bhopal     MP      JuliaPythonJavaScriptPerl\n",
       "4      Naren Yadav         Delhi  Delhi  JavaPythonJavaScriptSqlserver\n",
       "5      Shiva Kumar     Hyderabad     TS      PythonJavaScriptPerlMongo\n",
       "6  Srikanth Sharma  Secunderabad     TS            JavaRubyPerlAngular\n",
       "7       Aman Pandi        Bhopal     MP          AngularHtmlPerlOracle\n",
       "8    Narayan Reddy       Chennai     TN         PythonOracleDjangoRuby"
      ]
     },
     "execution_count": 39,
     "metadata": {},
     "output_type": "execute_result"
    }
   ],
   "source": [
    "dfprof"
   ]
  },
  {
   "cell_type": "code",
   "execution_count": 43,
   "id": "ac5b51ff",
   "metadata": {},
   "outputs": [
    {
     "data": {
      "text/html": [
       "<div>\n",
       "<style scoped>\n",
       "    .dataframe tbody tr th:only-of-type {\n",
       "        vertical-align: middle;\n",
       "    }\n",
       "\n",
       "    .dataframe tbody tr th {\n",
       "        vertical-align: top;\n",
       "    }\n",
       "\n",
       "    .dataframe thead th {\n",
       "        text-align: right;\n",
       "    }\n",
       "</style>\n",
       "<table border=\"1\" class=\"dataframe\">\n",
       "  <thead>\n",
       "    <tr style=\"text-align: right;\">\n",
       "      <th></th>\n",
       "      <th>Full Name</th>\n",
       "      <th>City</th>\n",
       "      <th>State</th>\n",
       "      <th>Technology</th>\n",
       "    </tr>\n",
       "  </thead>\n",
       "  <tbody>\n",
       "    <tr>\n",
       "      <th>3</th>\n",
       "      <td>Meena Arjun</td>\n",
       "      <td>Bhopal</td>\n",
       "      <td>MP</td>\n",
       "      <td>JuliaPythonJavaScriptPerl</td>\n",
       "    </tr>\n",
       "    <tr>\n",
       "      <th>7</th>\n",
       "      <td>Aman Pandi</td>\n",
       "      <td>Bhopal</td>\n",
       "      <td>MP</td>\n",
       "      <td>AngularHtmlPerlOracle</td>\n",
       "    </tr>\n",
       "  </tbody>\n",
       "</table>\n",
       "</div>"
      ],
      "text/plain": [
       "     Full Name    City State                 Technology\n",
       "3  Meena Arjun  Bhopal    MP  JuliaPythonJavaScriptPerl\n",
       "7   Aman Pandi  Bhopal    MP      AngularHtmlPerlOracle"
      ]
     },
     "execution_count": 43,
     "metadata": {},
     "output_type": "execute_result"
    }
   ],
   "source": [
    "dfprof[dfprof[\"State\"]==\"MP\"]"
   ]
  },
  {
   "cell_type": "code",
   "execution_count": 45,
   "id": "fc9c445d",
   "metadata": {},
   "outputs": [
    {
     "data": {
      "text/plain": [
       "0         JavaPythonJavaScriptPerl\n",
       "1           JavaRubyJavaScriptPerl\n",
       "2             JavaPythonOraclePerl\n",
       "3        JuliaPythonJavaScriptPerl\n",
       "4    JavaPythonJavaScriptSqlserver\n",
       "5        PythonJavaScriptPerlMongo\n",
       "6              JavaRubyPerlAngular\n",
       "7            AngularHtmlPerlOracle\n",
       "8           PythonOracleDjangoRuby\n",
       "Name: Technology, dtype: object"
      ]
     },
     "execution_count": 45,
     "metadata": {},
     "output_type": "execute_result"
    }
   ],
   "source": [
    "dfprof[\"Technology\"]"
   ]
  },
  {
   "cell_type": "code",
   "execution_count": null,
   "id": "47e86d1a",
   "metadata": {},
   "outputs": [],
   "source": []
  }
 ],
 "metadata": {
  "kernelspec": {
   "display_name": "Python 3 (ipykernel)",
   "language": "python",
   "name": "python3"
  },
  "language_info": {
   "codemirror_mode": {
    "name": "ipython",
    "version": 3
   },
   "file_extension": ".py",
   "mimetype": "text/x-python",
   "name": "python",
   "nbconvert_exporter": "python",
   "pygments_lexer": "ipython3",
   "version": "3.9.7"
  }
 },
 "nbformat": 4,
 "nbformat_minor": 5
}
