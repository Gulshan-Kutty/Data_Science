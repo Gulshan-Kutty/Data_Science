{
 "cells": [
  {
   "cell_type": "code",
   "execution_count": 1,
   "id": "otherwise-setup",
   "metadata": {},
   "outputs": [],
   "source": [
    "import pandas as pd \n",
    "import numpy as np\n"
   ]
  },
  {
   "cell_type": "code",
   "execution_count": 4,
   "id": "concerned-hobby",
   "metadata": {},
   "outputs": [],
   "source": [
    "df1 = pd.read_csv('C:/Users/ajjup/OneDrive/Desktop/tatamotors.csv', nrows = 300)"
   ]
  },
  {
   "cell_type": "code",
   "execution_count": 5,
   "id": "greek-trouble",
   "metadata": {},
   "outputs": [
    {
     "data": {
      "text/html": [
       "<div>\n",
       "<style scoped>\n",
       "    .dataframe tbody tr th:only-of-type {\n",
       "        vertical-align: middle;\n",
       "    }\n",
       "\n",
       "    .dataframe tbody tr th {\n",
       "        vertical-align: top;\n",
       "    }\n",
       "\n",
       "    .dataframe thead th {\n",
       "        text-align: right;\n",
       "    }\n",
       "</style>\n",
       "<table border=\"1\" class=\"dataframe\">\n",
       "  <thead>\n",
       "    <tr style=\"text-align: right;\">\n",
       "      <th></th>\n",
       "      <th>Date</th>\n",
       "      <th>Open</th>\n",
       "      <th>High</th>\n",
       "      <th>Low</th>\n",
       "      <th>Close</th>\n",
       "      <th>Adj Close</th>\n",
       "      <th>Volume</th>\n",
       "    </tr>\n",
       "  </thead>\n",
       "  <tbody>\n",
       "    <tr>\n",
       "      <th>0</th>\n",
       "      <td>2017-04-17</td>\n",
       "      <td>452.000000</td>\n",
       "      <td>455.700012</td>\n",
       "      <td>447.299988</td>\n",
       "      <td>449.200012</td>\n",
       "      <td>449.200012</td>\n",
       "      <td>4913930</td>\n",
       "    </tr>\n",
       "    <tr>\n",
       "      <th>1</th>\n",
       "      <td>2017-04-18</td>\n",
       "      <td>452.000000</td>\n",
       "      <td>455.750000</td>\n",
       "      <td>442.500000</td>\n",
       "      <td>443.700012</td>\n",
       "      <td>443.700012</td>\n",
       "      <td>4235130</td>\n",
       "    </tr>\n",
       "    <tr>\n",
       "      <th>2</th>\n",
       "      <td>2017-04-19</td>\n",
       "      <td>443.000000</td>\n",
       "      <td>449.500000</td>\n",
       "      <td>438.299988</td>\n",
       "      <td>443.049988</td>\n",
       "      <td>443.049988</td>\n",
       "      <td>6319332</td>\n",
       "    </tr>\n",
       "    <tr>\n",
       "      <th>3</th>\n",
       "      <td>2017-04-20</td>\n",
       "      <td>447.850006</td>\n",
       "      <td>447.850006</td>\n",
       "      <td>442.100006</td>\n",
       "      <td>443.950012</td>\n",
       "      <td>443.950012</td>\n",
       "      <td>3288900</td>\n",
       "    </tr>\n",
       "    <tr>\n",
       "      <th>4</th>\n",
       "      <td>2017-04-21</td>\n",
       "      <td>446.750000</td>\n",
       "      <td>448.450012</td>\n",
       "      <td>437.600006</td>\n",
       "      <td>440.600006</td>\n",
       "      <td>440.600006</td>\n",
       "      <td>5325590</td>\n",
       "    </tr>\n",
       "    <tr>\n",
       "      <th>...</th>\n",
       "      <td>...</td>\n",
       "      <td>...</td>\n",
       "      <td>...</td>\n",
       "      <td>...</td>\n",
       "      <td>...</td>\n",
       "      <td>...</td>\n",
       "      <td>...</td>\n",
       "    </tr>\n",
       "    <tr>\n",
       "      <th>295</th>\n",
       "      <td>2018-06-21</td>\n",
       "      <td>307.899994</td>\n",
       "      <td>308.500000</td>\n",
       "      <td>305.500000</td>\n",
       "      <td>307.000000</td>\n",
       "      <td>307.000000</td>\n",
       "      <td>5085379</td>\n",
       "    </tr>\n",
       "    <tr>\n",
       "      <th>296</th>\n",
       "      <td>2018-06-22</td>\n",
       "      <td>306.850006</td>\n",
       "      <td>308.899994</td>\n",
       "      <td>303.200012</td>\n",
       "      <td>308.000000</td>\n",
       "      <td>308.000000</td>\n",
       "      <td>6033095</td>\n",
       "    </tr>\n",
       "    <tr>\n",
       "      <th>297</th>\n",
       "      <td>2018-06-25</td>\n",
       "      <td>306.299988</td>\n",
       "      <td>306.299988</td>\n",
       "      <td>287.600006</td>\n",
       "      <td>289.399994</td>\n",
       "      <td>289.399994</td>\n",
       "      <td>16392183</td>\n",
       "    </tr>\n",
       "    <tr>\n",
       "      <th>298</th>\n",
       "      <td>2018-06-26</td>\n",
       "      <td>288.399994</td>\n",
       "      <td>288.399994</td>\n",
       "      <td>275.100006</td>\n",
       "      <td>276.850006</td>\n",
       "      <td>276.850006</td>\n",
       "      <td>30728620</td>\n",
       "    </tr>\n",
       "    <tr>\n",
       "      <th>299</th>\n",
       "      <td>2018-06-27</td>\n",
       "      <td>278.500000</td>\n",
       "      <td>279.500000</td>\n",
       "      <td>270.000000</td>\n",
       "      <td>271.049988</td>\n",
       "      <td>271.049988</td>\n",
       "      <td>19077416</td>\n",
       "    </tr>\n",
       "  </tbody>\n",
       "</table>\n",
       "<p>300 rows × 7 columns</p>\n",
       "</div>"
      ],
      "text/plain": [
       "           Date        Open        High         Low       Close   Adj Close  \\\n",
       "0    2017-04-17  452.000000  455.700012  447.299988  449.200012  449.200012   \n",
       "1    2017-04-18  452.000000  455.750000  442.500000  443.700012  443.700012   \n",
       "2    2017-04-19  443.000000  449.500000  438.299988  443.049988  443.049988   \n",
       "3    2017-04-20  447.850006  447.850006  442.100006  443.950012  443.950012   \n",
       "4    2017-04-21  446.750000  448.450012  437.600006  440.600006  440.600006   \n",
       "..          ...         ...         ...         ...         ...         ...   \n",
       "295  2018-06-21  307.899994  308.500000  305.500000  307.000000  307.000000   \n",
       "296  2018-06-22  306.850006  308.899994  303.200012  308.000000  308.000000   \n",
       "297  2018-06-25  306.299988  306.299988  287.600006  289.399994  289.399994   \n",
       "298  2018-06-26  288.399994  288.399994  275.100006  276.850006  276.850006   \n",
       "299  2018-06-27  278.500000  279.500000  270.000000  271.049988  271.049988   \n",
       "\n",
       "       Volume  \n",
       "0     4913930  \n",
       "1     4235130  \n",
       "2     6319332  \n",
       "3     3288900  \n",
       "4     5325590  \n",
       "..        ...  \n",
       "295   5085379  \n",
       "296   6033095  \n",
       "297  16392183  \n",
       "298  30728620  \n",
       "299  19077416  \n",
       "\n",
       "[300 rows x 7 columns]"
      ]
     },
     "execution_count": 5,
     "metadata": {},
     "output_type": "execute_result"
    }
   ],
   "source": [
    "df1"
   ]
  },
  {
   "cell_type": "code",
   "execution_count": 6,
   "id": "diagnostic-madness",
   "metadata": {},
   "outputs": [],
   "source": [
    "df2  = df1.drop(\"Date\", axis = 1 )"
   ]
  },
  {
   "cell_type": "code",
   "execution_count": 7,
   "id": "juvenile-robin",
   "metadata": {},
   "outputs": [
    {
     "data": {
      "text/html": [
       "<div>\n",
       "<style scoped>\n",
       "    .dataframe tbody tr th:only-of-type {\n",
       "        vertical-align: middle;\n",
       "    }\n",
       "\n",
       "    .dataframe tbody tr th {\n",
       "        vertical-align: top;\n",
       "    }\n",
       "\n",
       "    .dataframe thead th {\n",
       "        text-align: right;\n",
       "    }\n",
       "</style>\n",
       "<table border=\"1\" class=\"dataframe\">\n",
       "  <thead>\n",
       "    <tr style=\"text-align: right;\">\n",
       "      <th></th>\n",
       "      <th>Open</th>\n",
       "      <th>High</th>\n",
       "      <th>Low</th>\n",
       "      <th>Close</th>\n",
       "      <th>Adj Close</th>\n",
       "      <th>Volume</th>\n",
       "    </tr>\n",
       "  </thead>\n",
       "  <tbody>\n",
       "    <tr>\n",
       "      <th>0</th>\n",
       "      <td>452.000000</td>\n",
       "      <td>455.700012</td>\n",
       "      <td>447.299988</td>\n",
       "      <td>449.200012</td>\n",
       "      <td>449.200012</td>\n",
       "      <td>4913930</td>\n",
       "    </tr>\n",
       "    <tr>\n",
       "      <th>1</th>\n",
       "      <td>452.000000</td>\n",
       "      <td>455.750000</td>\n",
       "      <td>442.500000</td>\n",
       "      <td>443.700012</td>\n",
       "      <td>443.700012</td>\n",
       "      <td>4235130</td>\n",
       "    </tr>\n",
       "    <tr>\n",
       "      <th>2</th>\n",
       "      <td>443.000000</td>\n",
       "      <td>449.500000</td>\n",
       "      <td>438.299988</td>\n",
       "      <td>443.049988</td>\n",
       "      <td>443.049988</td>\n",
       "      <td>6319332</td>\n",
       "    </tr>\n",
       "    <tr>\n",
       "      <th>3</th>\n",
       "      <td>447.850006</td>\n",
       "      <td>447.850006</td>\n",
       "      <td>442.100006</td>\n",
       "      <td>443.950012</td>\n",
       "      <td>443.950012</td>\n",
       "      <td>3288900</td>\n",
       "    </tr>\n",
       "    <tr>\n",
       "      <th>4</th>\n",
       "      <td>446.750000</td>\n",
       "      <td>448.450012</td>\n",
       "      <td>437.600006</td>\n",
       "      <td>440.600006</td>\n",
       "      <td>440.600006</td>\n",
       "      <td>5325590</td>\n",
       "    </tr>\n",
       "    <tr>\n",
       "      <th>...</th>\n",
       "      <td>...</td>\n",
       "      <td>...</td>\n",
       "      <td>...</td>\n",
       "      <td>...</td>\n",
       "      <td>...</td>\n",
       "      <td>...</td>\n",
       "    </tr>\n",
       "    <tr>\n",
       "      <th>295</th>\n",
       "      <td>307.899994</td>\n",
       "      <td>308.500000</td>\n",
       "      <td>305.500000</td>\n",
       "      <td>307.000000</td>\n",
       "      <td>307.000000</td>\n",
       "      <td>5085379</td>\n",
       "    </tr>\n",
       "    <tr>\n",
       "      <th>296</th>\n",
       "      <td>306.850006</td>\n",
       "      <td>308.899994</td>\n",
       "      <td>303.200012</td>\n",
       "      <td>308.000000</td>\n",
       "      <td>308.000000</td>\n",
       "      <td>6033095</td>\n",
       "    </tr>\n",
       "    <tr>\n",
       "      <th>297</th>\n",
       "      <td>306.299988</td>\n",
       "      <td>306.299988</td>\n",
       "      <td>287.600006</td>\n",
       "      <td>289.399994</td>\n",
       "      <td>289.399994</td>\n",
       "      <td>16392183</td>\n",
       "    </tr>\n",
       "    <tr>\n",
       "      <th>298</th>\n",
       "      <td>288.399994</td>\n",
       "      <td>288.399994</td>\n",
       "      <td>275.100006</td>\n",
       "      <td>276.850006</td>\n",
       "      <td>276.850006</td>\n",
       "      <td>30728620</td>\n",
       "    </tr>\n",
       "    <tr>\n",
       "      <th>299</th>\n",
       "      <td>278.500000</td>\n",
       "      <td>279.500000</td>\n",
       "      <td>270.000000</td>\n",
       "      <td>271.049988</td>\n",
       "      <td>271.049988</td>\n",
       "      <td>19077416</td>\n",
       "    </tr>\n",
       "  </tbody>\n",
       "</table>\n",
       "<p>300 rows × 6 columns</p>\n",
       "</div>"
      ],
      "text/plain": [
       "           Open        High         Low       Close   Adj Close    Volume\n",
       "0    452.000000  455.700012  447.299988  449.200012  449.200012   4913930\n",
       "1    452.000000  455.750000  442.500000  443.700012  443.700012   4235130\n",
       "2    443.000000  449.500000  438.299988  443.049988  443.049988   6319332\n",
       "3    447.850006  447.850006  442.100006  443.950012  443.950012   3288900\n",
       "4    446.750000  448.450012  437.600006  440.600006  440.600006   5325590\n",
       "..          ...         ...         ...         ...         ...       ...\n",
       "295  307.899994  308.500000  305.500000  307.000000  307.000000   5085379\n",
       "296  306.850006  308.899994  303.200012  308.000000  308.000000   6033095\n",
       "297  306.299988  306.299988  287.600006  289.399994  289.399994  16392183\n",
       "298  288.399994  288.399994  275.100006  276.850006  276.850006  30728620\n",
       "299  278.500000  279.500000  270.000000  271.049988  271.049988  19077416\n",
       "\n",
       "[300 rows x 6 columns]"
      ]
     },
     "execution_count": 7,
     "metadata": {},
     "output_type": "execute_result"
    }
   ],
   "source": [
    "df2"
   ]
  },
  {
   "cell_type": "code",
   "execution_count": 10,
   "id": "logical-blocking",
   "metadata": {},
   "outputs": [
    {
     "data": {
      "text/plain": [
       "DatetimeIndex(['2017-04-17', '2017-04-18', '2017-04-19', '2017-04-20',\n",
       "               '2017-04-21', '2017-04-22', '2017-04-23', '2017-04-24',\n",
       "               '2017-04-25', '2017-04-26',\n",
       "               ...\n",
       "               '2018-06-18', '2018-06-19', '2018-06-20', '2018-06-21',\n",
       "               '2018-06-22', '2018-06-23', '2018-06-24', '2018-06-25',\n",
       "               '2018-06-26', '2018-06-27'],\n",
       "              dtype='datetime64[ns]', length=437, freq='D')"
      ]
     },
     "execution_count": 10,
     "metadata": {},
     "output_type": "execute_result"
    }
   ],
   "source": [
    "pd.date_range(start=\"17-04-2017\", end='27-06-2018',freq = 'D' )"
   ]
  },
  {
   "cell_type": "code",
   "execution_count": 12,
   "id": "recognized-wheel",
   "metadata": {},
   "outputs": [
    {
     "ename": "ValueError",
     "evalue": "Of the four parameters: start, end, periods, and freq, exactly three must be specified",
     "output_type": "error",
     "traceback": [
      "\u001b[1;31m---------------------------------------------------------------------------\u001b[0m",
      "\u001b[1;31mValueError\u001b[0m                                Traceback (most recent call last)",
      "\u001b[1;32m<ipython-input-12-876f7c38c47e>\u001b[0m in \u001b[0;36m<module>\u001b[1;34m\u001b[0m\n\u001b[1;32m----> 1\u001b[1;33m \u001b[0mpd\u001b[0m\u001b[1;33m.\u001b[0m\u001b[0mdate_range\u001b[0m\u001b[1;33m(\u001b[0m\u001b[0mstart\u001b[0m \u001b[1;33m=\u001b[0m \u001b[1;34m'17.04.2017'\u001b[0m\u001b[1;33m,\u001b[0m \u001b[0mend\u001b[0m \u001b[1;33m=\u001b[0m \u001b[1;34m'27.06.2018'\u001b[0m\u001b[1;33m,\u001b[0m \u001b[0mperiods\u001b[0m \u001b[1;33m=\u001b[0m \u001b[1;36m300\u001b[0m\u001b[1;33m,\u001b[0m \u001b[0mfreq\u001b[0m \u001b[1;33m=\u001b[0m \u001b[1;34m\"D\"\u001b[0m\u001b[1;33m)\u001b[0m\u001b[1;33m\u001b[0m\u001b[1;33m\u001b[0m\u001b[0m\n\u001b[0m",
      "\u001b[1;32mc:\\users\\ajjup\\appdata\\local\\programs\\python\\python39\\lib\\site-packages\\pandas\\core\\indexes\\datetimes.py\u001b[0m in \u001b[0;36mdate_range\u001b[1;34m(start, end, periods, freq, tz, normalize, name, closed, **kwargs)\u001b[0m\n\u001b[0;32m   1067\u001b[0m         \u001b[0mfreq\u001b[0m \u001b[1;33m=\u001b[0m \u001b[1;34m\"D\"\u001b[0m\u001b[1;33m\u001b[0m\u001b[1;33m\u001b[0m\u001b[0m\n\u001b[0;32m   1068\u001b[0m \u001b[1;33m\u001b[0m\u001b[0m\n\u001b[1;32m-> 1069\u001b[1;33m     dtarr = DatetimeArray._generate_range(\n\u001b[0m\u001b[0;32m   1070\u001b[0m         \u001b[0mstart\u001b[0m\u001b[1;33m=\u001b[0m\u001b[0mstart\u001b[0m\u001b[1;33m,\u001b[0m\u001b[1;33m\u001b[0m\u001b[1;33m\u001b[0m\u001b[0m\n\u001b[0;32m   1071\u001b[0m         \u001b[0mend\u001b[0m\u001b[1;33m=\u001b[0m\u001b[0mend\u001b[0m\u001b[1;33m,\u001b[0m\u001b[1;33m\u001b[0m\u001b[1;33m\u001b[0m\u001b[0m\n",
      "\u001b[1;32mc:\\users\\ajjup\\appdata\\local\\programs\\python\\python39\\lib\\site-packages\\pandas\\core\\arrays\\datetimes.py\u001b[0m in \u001b[0;36m_generate_range\u001b[1;34m(cls, start, end, periods, freq, tz, normalize, ambiguous, nonexistent, closed)\u001b[0m\n\u001b[0;32m    371\u001b[0m \u001b[1;33m\u001b[0m\u001b[0m\n\u001b[0;32m    372\u001b[0m         \u001b[1;32mif\u001b[0m \u001b[0mcom\u001b[0m\u001b[1;33m.\u001b[0m\u001b[0mcount_not_none\u001b[0m\u001b[1;33m(\u001b[0m\u001b[0mstart\u001b[0m\u001b[1;33m,\u001b[0m \u001b[0mend\u001b[0m\u001b[1;33m,\u001b[0m \u001b[0mperiods\u001b[0m\u001b[1;33m,\u001b[0m \u001b[0mfreq\u001b[0m\u001b[1;33m)\u001b[0m \u001b[1;33m!=\u001b[0m \u001b[1;36m3\u001b[0m\u001b[1;33m:\u001b[0m\u001b[1;33m\u001b[0m\u001b[1;33m\u001b[0m\u001b[0m\n\u001b[1;32m--> 373\u001b[1;33m             raise ValueError(\n\u001b[0m\u001b[0;32m    374\u001b[0m                 \u001b[1;34m\"Of the four parameters: start, end, periods, \"\u001b[0m\u001b[1;33m\u001b[0m\u001b[1;33m\u001b[0m\u001b[0m\n\u001b[0;32m    375\u001b[0m                 \u001b[1;34m\"and freq, exactly three must be specified\"\u001b[0m\u001b[1;33m\u001b[0m\u001b[1;33m\u001b[0m\u001b[0m\n",
      "\u001b[1;31mValueError\u001b[0m: Of the four parameters: start, end, periods, and freq, exactly three must be specified"
     ]
    }
   ],
   "source": [
    "pd.date_range(start = '17.04.2017', end = '27.06.2018', periods = 300, freq = \"D\")"
   ]
  },
  {
   "cell_type": "code",
   "execution_count": 15,
   "id": "according-queensland",
   "metadata": {},
   "outputs": [
    {
     "data": {
      "text/plain": [
       "DatetimeIndex(['2022-03-20', '2022-03-21', '2022-03-22', '2022-03-23',\n",
       "               '2022-03-24', '2022-03-25', '2022-03-26', '2022-03-27',\n",
       "               '2022-03-28', '2022-03-29', '2022-03-30', '2022-03-31',\n",
       "               '2022-04-01', '2022-04-02', '2022-04-03', '2022-04-04',\n",
       "               '2022-04-05', '2022-04-06', '2022-04-07', '2022-04-08',\n",
       "               '2022-04-09', '2022-04-10', '2022-04-11', '2022-04-12',\n",
       "               '2022-04-13'],\n",
       "              dtype='datetime64[ns]', freq='D')"
      ]
     },
     "execution_count": 15,
     "metadata": {},
     "output_type": "execute_result"
    }
   ],
   "source": [
    "pd.date_range(start = '20.03.2022', end = '13.04.2022', freq = \"D\")\n"
   ]
  },
  {
   "cell_type": "code",
   "execution_count": 16,
   "id": "orange-crisis",
   "metadata": {},
   "outputs": [
    {
     "data": {
      "text/plain": [
       "DatetimeIndex(['2022-03-21', '2022-03-22', '2022-03-23', '2022-03-24',\n",
       "               '2022-03-25', '2022-03-28', '2022-03-29', '2022-03-30',\n",
       "               '2022-03-31', '2022-04-01', '2022-04-04', '2022-04-05',\n",
       "               '2022-04-06', '2022-04-07', '2022-04-08', '2022-04-11',\n",
       "               '2022-04-12', '2022-04-13'],\n",
       "              dtype='datetime64[ns]', freq='B')"
      ]
     },
     "execution_count": 16,
     "metadata": {},
     "output_type": "execute_result"
    }
   ],
   "source": [
    "pd.date_range(start = '20.03.2022', end = '13.04.2022', freq = \"B\")\n"
   ]
  },
  {
   "cell_type": "code",
   "execution_count": 18,
   "id": "broken-rating",
   "metadata": {},
   "outputs": [
    {
     "data": {
      "text/plain": [
       "DatetimeIndex(['2017-04-17', '2017-04-18', '2017-04-19', '2017-04-20',\n",
       "               '2017-04-21', '2017-04-24', '2017-04-25', '2017-04-26',\n",
       "               '2017-04-27', '2017-04-28',\n",
       "               ...\n",
       "               '2018-06-14', '2018-06-15', '2018-06-18', '2018-06-19',\n",
       "               '2018-06-20', '2018-06-21', '2018-06-22', '2018-06-25',\n",
       "               '2018-06-26', '2018-06-27'],\n",
       "              dtype='datetime64[ns]', length=313, freq='B')"
      ]
     },
     "execution_count": 18,
     "metadata": {},
     "output_type": "execute_result"
    }
   ],
   "source": [
    "pd.date_range(start = \"17.04.2017\",end = '27-06-2018', freq='B')"
   ]
  },
  {
   "cell_type": "code",
   "execution_count": 19,
   "id": "pending-christianity",
   "metadata": {},
   "outputs": [
    {
     "data": {
      "text/plain": [
       "DatetimeIndex(['2022-03-31', '2022-04-30', '2022-05-31', '2022-06-30',\n",
       "               '2022-07-31', '2022-08-31', '2022-09-30', '2022-10-31',\n",
       "               '2022-11-30'],\n",
       "              dtype='datetime64[ns]', freq='M')"
      ]
     },
     "execution_count": 19,
     "metadata": {},
     "output_type": "execute_result"
    }
   ],
   "source": [
    "pd.date_range(start = '20.03.2022', end = '13.12.2022', freq = \"M\")\n"
   ]
  },
  {
   "cell_type": "code",
   "execution_count": 20,
   "id": "running-blade",
   "metadata": {},
   "outputs": [
    {
     "data": {
      "text/plain": [
       "DatetimeIndex(['2022-04-01', '2022-05-01', '2022-06-01', '2022-07-01',\n",
       "               '2022-08-01', '2022-09-01', '2022-10-01', '2022-11-01',\n",
       "               '2022-12-01'],\n",
       "              dtype='datetime64[ns]', freq='MS')"
      ]
     },
     "execution_count": 20,
     "metadata": {},
     "output_type": "execute_result"
    }
   ],
   "source": [
    "pd.date_range(start = '20.03.2022', end = '13.12.2022', freq = \"MS\")\n"
   ]
  },
  {
   "cell_type": "code",
   "execution_count": 21,
   "id": "caroline-taxation",
   "metadata": {},
   "outputs": [
    {
     "data": {
      "text/plain": [
       "DatetimeIndex(['2022-03-31', '2022-04-15', '2022-04-30', '2022-05-15',\n",
       "               '2022-05-31', '2022-06-15', '2022-06-30', '2022-07-15',\n",
       "               '2022-07-31', '2022-08-15', '2022-08-31', '2022-09-15',\n",
       "               '2022-09-30', '2022-10-15', '2022-10-31', '2022-11-15',\n",
       "               '2022-11-30'],\n",
       "              dtype='datetime64[ns]', freq='SM-15')"
      ]
     },
     "execution_count": 21,
     "metadata": {},
     "output_type": "execute_result"
    }
   ],
   "source": [
    "pd.date_range(start = '20.03.2022', end = '13.12.2022', freq = \"SM\")\n"
   ]
  },
  {
   "cell_type": "code",
   "execution_count": 25,
   "id": "impressed-christopher",
   "metadata": {},
   "outputs": [
    {
     "data": {
      "text/plain": [
       "DatetimeIndex(['2022-03-01', '2022-03-15', '2022-04-01', '2022-04-15',\n",
       "               '2022-05-01', '2022-05-15', '2022-06-01', '2022-06-15',\n",
       "               '2022-07-01', '2022-07-15', '2022-08-01', '2022-08-15',\n",
       "               '2022-09-01', '2022-09-15', '2022-10-01', '2022-10-15',\n",
       "               '2022-11-01', '2022-11-15', '2022-12-01'],\n",
       "              dtype='datetime64[ns]', freq='SMS-15')"
      ]
     },
     "execution_count": 25,
     "metadata": {},
     "output_type": "execute_result"
    }
   ],
   "source": [
    "pd.date_range(start = '03.01.2022', end = '13.12.2022', freq = \"SMS\")\n"
   ]
  },
  {
   "cell_type": "code",
   "execution_count": 26,
   "id": "brown-helping",
   "metadata": {},
   "outputs": [
    {
     "data": {
      "text/plain": [
       "DatetimeIndex(['2022-12-31', '2023-12-31', '2024-12-31', '2025-12-31'], dtype='datetime64[ns]', freq='A-DEC')"
      ]
     },
     "execution_count": 26,
     "metadata": {},
     "output_type": "execute_result"
    }
   ],
   "source": [
    "pd.date_range(start = '01.01.2022', end = '31.12.2025', freq = \"Y\")\n"
   ]
  },
  {
   "cell_type": "code",
   "execution_count": 27,
   "id": "animal-bosnia",
   "metadata": {},
   "outputs": [
    {
     "data": {
      "text/plain": [
       "DatetimeIndex(['2022-01-01', '2023-01-01', '2024-01-01', '2025-01-01'], dtype='datetime64[ns]', freq='AS-JAN')"
      ]
     },
     "execution_count": 27,
     "metadata": {},
     "output_type": "execute_result"
    }
   ],
   "source": [
    "pd.date_range(start = '01.01.2022', end = '31.12.2025', freq = \"YS\")\n"
   ]
  },
  {
   "cell_type": "code",
   "execution_count": 30,
   "id": "trained-genre",
   "metadata": {},
   "outputs": [
    {
     "data": {
      "text/plain": [
       "DatetimeIndex(['2022-01-02', '2022-01-09', '2022-01-16', '2022-01-23',\n",
       "               '2022-01-30', '2022-02-06', '2022-02-13', '2022-02-20',\n",
       "               '2022-02-27', '2022-03-06',\n",
       "               ...\n",
       "               '2025-10-26', '2025-11-02', '2025-11-09', '2025-11-16',\n",
       "               '2025-11-23', '2025-11-30', '2025-12-07', '2025-12-14',\n",
       "               '2025-12-21', '2025-12-28'],\n",
       "              dtype='datetime64[ns]', length=209, freq='W-SUN')"
      ]
     },
     "execution_count": 30,
     "metadata": {},
     "output_type": "execute_result"
    }
   ],
   "source": [
    "pd.date_range(start = '01.01.2022', end = '31.12.2025', freq = \"W\")\n"
   ]
  },
  {
   "cell_type": "code",
   "execution_count": 35,
   "id": "associate-purchase",
   "metadata": {},
   "outputs": [],
   "source": [
    "july2022 = pd.date_range(start = \"07.01.2022\", end = '07.31.2022', freq=\"D\")"
   ]
  },
  {
   "cell_type": "code",
   "execution_count": 36,
   "id": "smart-webmaster",
   "metadata": {
    "scrolled": true
   },
   "outputs": [
    {
     "data": {
      "text/plain": [
       "DatetimeIndex(['2022-07-01', '2022-07-02', '2022-07-03', '2022-07-04',\n",
       "               '2022-07-05', '2022-07-06', '2022-07-07', '2022-07-08',\n",
       "               '2022-07-09', '2022-07-10', '2022-07-11', '2022-07-12',\n",
       "               '2022-07-13', '2022-07-14', '2022-07-15', '2022-07-16',\n",
       "               '2022-07-17', '2022-07-18', '2022-07-19', '2022-07-20',\n",
       "               '2022-07-21', '2022-07-22', '2022-07-23', '2022-07-24',\n",
       "               '2022-07-25', '2022-07-26', '2022-07-27', '2022-07-28',\n",
       "               '2022-07-29', '2022-07-30', '2022-07-31'],\n",
       "              dtype='datetime64[ns]', freq='D')"
      ]
     },
     "execution_count": 36,
     "metadata": {},
     "output_type": "execute_result"
    }
   ],
   "source": [
    "july2022"
   ]
  },
  {
   "cell_type": "code",
   "execution_count": 40,
   "id": "induced-substance",
   "metadata": {},
   "outputs": [
    {
     "data": {
      "text/plain": [
       "31"
      ]
     },
     "execution_count": 40,
     "metadata": {},
     "output_type": "execute_result"
    }
   ],
   "source": [
    "july2022.size"
   ]
  },
  {
   "cell_type": "code",
   "execution_count": 37,
   "id": "civic-resort",
   "metadata": {},
   "outputs": [],
   "source": [
    "july22b = pd.date_range(start = \"07.01.2022\", end = '07.31.2022', freq=\"B\")"
   ]
  },
  {
   "cell_type": "code",
   "execution_count": 38,
   "id": "crude-parish",
   "metadata": {},
   "outputs": [
    {
     "data": {
      "text/plain": [
       "DatetimeIndex(['2022-07-01', '2022-07-04', '2022-07-05', '2022-07-06',\n",
       "               '2022-07-07', '2022-07-08', '2022-07-11', '2022-07-12',\n",
       "               '2022-07-13', '2022-07-14', '2022-07-15', '2022-07-18',\n",
       "               '2022-07-19', '2022-07-20', '2022-07-21', '2022-07-22',\n",
       "               '2022-07-25', '2022-07-26', '2022-07-27', '2022-07-28',\n",
       "               '2022-07-29'],\n",
       "              dtype='datetime64[ns]', freq='B')"
      ]
     },
     "execution_count": 38,
     "metadata": {},
     "output_type": "execute_result"
    }
   ],
   "source": [
    "july22b"
   ]
  },
  {
   "cell_type": "code",
   "execution_count": 39,
   "id": "parental-bulgarian",
   "metadata": {},
   "outputs": [
    {
     "data": {
      "text/plain": [
       "21"
      ]
     },
     "execution_count": 39,
     "metadata": {},
     "output_type": "execute_result"
    }
   ],
   "source": [
    "july22b.size"
   ]
  },
  {
   "cell_type": "markdown",
   "id": "expired-snowboard",
   "metadata": {},
   "source": [
    "### Including Public holidays"
   ]
  },
  {
   "cell_type": "code",
   "execution_count": 41,
   "id": "norman-optimum",
   "metadata": {},
   "outputs": [],
   "source": [
    "from pandas.tseries.holiday import USFederalHolidayCalendar"
   ]
  },
  {
   "cell_type": "code",
   "execution_count": 42,
   "id": "focused-passenger",
   "metadata": {},
   "outputs": [],
   "source": [
    "from pandas.tseries.offsets import CustomBusinessDay"
   ]
  },
  {
   "cell_type": "code",
   "execution_count": 43,
   "id": "funny-reunion",
   "metadata": {},
   "outputs": [],
   "source": [
    "ush = CustomBusinessDay(calendar = USFederalHolidayCalendar())"
   ]
  },
  {
   "cell_type": "code",
   "execution_count": 44,
   "id": "blind-filter",
   "metadata": {},
   "outputs": [],
   "source": [
    "julyfeb = pd.date_range(start = \"07.01.2022\", end = '07.31.2022', freq=ush)"
   ]
  },
  {
   "cell_type": "code",
   "execution_count": 45,
   "id": "ahead-calibration",
   "metadata": {},
   "outputs": [
    {
     "data": {
      "text/plain": [
       "DatetimeIndex(['2022-07-01', '2022-07-05', '2022-07-06', '2022-07-07',\n",
       "               '2022-07-08', '2022-07-11', '2022-07-12', '2022-07-13',\n",
       "               '2022-07-14', '2022-07-15', '2022-07-18', '2022-07-19',\n",
       "               '2022-07-20', '2022-07-21', '2022-07-22', '2022-07-25',\n",
       "               '2022-07-26', '2022-07-27', '2022-07-28', '2022-07-29'],\n",
       "              dtype='datetime64[ns]', freq='C')"
      ]
     },
     "execution_count": 45,
     "metadata": {},
     "output_type": "execute_result"
    }
   ],
   "source": [
    "julyfeb"
   ]
  },
  {
   "cell_type": "code",
   "execution_count": 46,
   "id": "banned-independence",
   "metadata": {},
   "outputs": [
    {
     "data": {
      "text/plain": [
       "20"
      ]
     },
     "execution_count": 46,
     "metadata": {},
     "output_type": "execute_result"
    }
   ],
   "source": [
    "julyfeb.size"
   ]
  },
  {
   "cell_type": "code",
   "execution_count": 49,
   "id": "sustainable-stake",
   "metadata": {},
   "outputs": [],
   "source": [
    "from pandas.tseries.offsets import CustomBusinessDay"
   ]
  },
  {
   "cell_type": "code",
   "execution_count": 47,
   "id": "absent-canvas",
   "metadata": {},
   "outputs": [],
   "source": [
    "from pandas.tseries.holiday import  Holiday,  AbstractHolidayCalendar"
   ]
  },
  {
   "cell_type": "code",
   "execution_count": 48,
   "id": "valid-statement",
   "metadata": {},
   "outputs": [],
   "source": [
    "class IndianHolidays(AbstractHolidayCalendar):\n",
    "    rules = [\n",
    "        Holiday(\"New Year's Day\", month=1, day=1),\n",
    "        Holiday(\"Independence Day\", month=8, day=15),\n",
    "\n",
    "        Holiday(\"Dasara\", month=11, day=1),\n",
    "        Holiday(\"Diwali\", month=11, day=10),\n",
    "        Holiday(\"Formation Dat\", month=11, day=15),\n",
    "\n",
    "        Holiday(\"Christmas Day\", month=12, day=25),\n",
    "    ]"
   ]
  },
  {
   "cell_type": "code",
   "execution_count": 50,
   "id": "artistic-twelve",
   "metadata": {},
   "outputs": [],
   "source": [
    "IndHoliday = CustomBusinessDay(calendar = IndianHolidays())"
   ]
  },
  {
   "cell_type": "code",
   "execution_count": 51,
   "id": "simplified-spine",
   "metadata": {},
   "outputs": [
    {
     "data": {
      "text/plain": [
       "DatetimeIndex(['2022-10-20', '2022-10-21', '2022-10-24', '2022-10-25',\n",
       "               '2022-10-26', '2022-10-27', '2022-10-28', '2022-10-31',\n",
       "               '2022-11-02', '2022-11-03', '2022-11-04', '2022-11-07',\n",
       "               '2022-11-08', '2022-11-09', '2022-11-11', '2022-11-14',\n",
       "               '2022-11-16', '2022-11-17', '2022-11-18', '2022-11-21',\n",
       "               '2022-11-22', '2022-11-23', '2022-11-24', '2022-11-25',\n",
       "               '2022-11-28', '2022-11-29', '2022-11-30', '2022-12-01',\n",
       "               '2022-12-02', '2022-12-05', '2022-12-06', '2022-12-07',\n",
       "               '2022-12-08', '2022-12-09', '2022-12-12', '2022-12-13',\n",
       "               '2022-12-14', '2022-12-15', '2022-12-16', '2022-12-19',\n",
       "               '2022-12-20', '2022-12-21', '2022-12-22', '2022-12-23',\n",
       "               '2022-12-26', '2022-12-27', '2022-12-28', '2022-12-29',\n",
       "               '2022-12-30', '2023-01-02', '2023-01-03'],\n",
       "              dtype='datetime64[ns]', freq='C')"
      ]
     },
     "execution_count": 51,
     "metadata": {},
     "output_type": "execute_result"
    }
   ],
   "source": [
    "pd.date_range(start = \"10.20.2022\", end = '01.03.2023', freq=IndHoliday)"
   ]
  },
  {
   "cell_type": "markdown",
   "id": "innocent-arnold",
   "metadata": {},
   "source": [
    "## Customize Weekends"
   ]
  },
  {
   "cell_type": "code",
   "execution_count": 52,
   "id": "radical-murder",
   "metadata": {},
   "outputs": [],
   "source": [
    "# Sun Mon Tue Wed Thu \n",
    "\n",
    "# Fri  sat"
   ]
  },
  {
   "cell_type": "code",
   "execution_count": 53,
   "id": "based-effect",
   "metadata": {},
   "outputs": [],
   "source": [
    "BE = CustomBusinessDay(weekmask = 'Sun Mon Tue Wed Thu')"
   ]
  },
  {
   "cell_type": "code",
   "execution_count": 56,
   "id": "sharp-lecture",
   "metadata": {},
   "outputs": [
    {
     "data": {
      "text/plain": [
       "DatetimeIndex(['2022-04-01', '2022-04-02', '2022-04-03', '2022-04-04',\n",
       "               '2022-04-05', '2022-04-06', '2022-04-07', '2022-04-08',\n",
       "               '2022-04-09', '2022-04-10', '2022-04-11', '2022-04-12',\n",
       "               '2022-04-13', '2022-04-14', '2022-04-15', '2022-04-16',\n",
       "               '2022-04-17', '2022-04-18', '2022-04-19', '2022-04-20',\n",
       "               '2022-04-21', '2022-04-22', '2022-04-23', '2022-04-24',\n",
       "               '2022-04-25', '2022-04-26', '2022-04-27', '2022-04-28',\n",
       "               '2022-04-29', '2022-04-30'],\n",
       "              dtype='datetime64[ns]', freq='D')"
      ]
     },
     "execution_count": 56,
     "metadata": {},
     "output_type": "execute_result"
    }
   ],
   "source": [
    "pd.date_range(start=\"04-01-2022\", end=\"04-30-2022\", freq = \"D\")"
   ]
  },
  {
   "cell_type": "code",
   "execution_count": 59,
   "id": "musical-track",
   "metadata": {},
   "outputs": [
    {
     "data": {
      "text/plain": [
       "DatetimeIndex(['2022-04-01', '2022-04-04', '2022-04-05', '2022-04-06',\n",
       "               '2022-04-07', '2022-04-08', '2022-04-11', '2022-04-12',\n",
       "               '2022-04-13', '2022-04-14', '2022-04-15', '2022-04-18',\n",
       "               '2022-04-19', '2022-04-20', '2022-04-21', '2022-04-22',\n",
       "               '2022-04-25', '2022-04-26', '2022-04-27', '2022-04-28',\n",
       "               '2022-04-29'],\n",
       "              dtype='datetime64[ns]', freq='B')"
      ]
     },
     "execution_count": 59,
     "metadata": {},
     "output_type": "execute_result"
    }
   ],
   "source": [
    "pd.date_range(start=\"04-01-2022\", end=\"04-30-2022\", freq = \"B\")"
   ]
  },
  {
   "cell_type": "code",
   "execution_count": 61,
   "id": "published-crowd",
   "metadata": {},
   "outputs": [
    {
     "data": {
      "text/plain": [
       "DatetimeIndex(['2022-04-03', '2022-04-04', '2022-04-05', '2022-04-06',\n",
       "               '2022-04-07', '2022-04-10', '2022-04-11', '2022-04-12',\n",
       "               '2022-04-13', '2022-04-14', '2022-04-17', '2022-04-18',\n",
       "               '2022-04-19', '2022-04-20', '2022-04-21', '2022-04-24',\n",
       "               '2022-04-25', '2022-04-26', '2022-04-27', '2022-04-28'],\n",
       "              dtype='datetime64[ns]', freq='C')"
      ]
     },
     "execution_count": 61,
     "metadata": {},
     "output_type": "execute_result"
    }
   ],
   "source": [
    "pd.date_range(start=\"04-01-2022\", end=\"04-30-2022\", freq = BE)"
   ]
  },
  {
   "cell_type": "code",
   "execution_count": null,
   "id": "civil-support",
   "metadata": {},
   "outputs": [],
   "source": []
  }
 ],
 "metadata": {
  "kernelspec": {
   "display_name": "Python 3",
   "language": "python",
   "name": "python3"
  },
  "language_info": {
   "codemirror_mode": {
    "name": "ipython",
    "version": 3
   },
   "file_extension": ".py",
   "mimetype": "text/x-python",
   "name": "python",
   "nbconvert_exporter": "python",
   "pygments_lexer": "ipython3",
   "version": "3.9.5"
  }
 },
 "nbformat": 4,
 "nbformat_minor": 5
}
