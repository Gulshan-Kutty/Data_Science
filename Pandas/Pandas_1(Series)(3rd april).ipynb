{
 "cells": [
  {
   "cell_type": "code",
   "execution_count": 1,
   "id": "f64f3d8b",
   "metadata": {},
   "outputs": [],
   "source": [
    "import pandas as pd\n",
    "import numpy as np"
   ]
  },
  {
   "cell_type": "markdown",
   "id": "1f1f003a",
   "metadata": {},
   "source": [
    "## List to Series"
   ]
  },
  {
   "cell_type": "code",
   "execution_count": 2,
   "id": "96271db1",
   "metadata": {},
   "outputs": [],
   "source": [
    "l=[20,34,56,76,78]"
   ]
  },
  {
   "cell_type": "code",
   "execution_count": 3,
   "id": "71f93243",
   "metadata": {},
   "outputs": [],
   "source": [
    "p=pd.Series(l)"
   ]
  },
  {
   "cell_type": "code",
   "execution_count": 4,
   "id": "f4efce53",
   "metadata": {},
   "outputs": [
    {
     "data": {
      "text/plain": [
       "0    20\n",
       "1    34\n",
       "2    56\n",
       "3    76\n",
       "4    78\n",
       "dtype: int64"
      ]
     },
     "execution_count": 4,
     "metadata": {},
     "output_type": "execute_result"
    }
   ],
   "source": [
    "p"
   ]
  },
  {
   "cell_type": "code",
   "execution_count": 2,
   "id": "2c93c091",
   "metadata": {},
   "outputs": [],
   "source": [
    "p1=pd.Series([100,200,300,400])"
   ]
  },
  {
   "cell_type": "code",
   "execution_count": 3,
   "id": "0ae52ef2",
   "metadata": {},
   "outputs": [
    {
     "data": {
      "text/plain": [
       "0    100\n",
       "1    200\n",
       "2    300\n",
       "3    400\n",
       "dtype: int64"
      ]
     },
     "execution_count": 3,
     "metadata": {},
     "output_type": "execute_result"
    }
   ],
   "source": [
    "p1"
   ]
  },
  {
   "cell_type": "code",
   "execution_count": 4,
   "id": "08bd906c",
   "metadata": {},
   "outputs": [
    {
     "data": {
      "text/plain": [
       "200"
      ]
     },
     "execution_count": 4,
     "metadata": {},
     "output_type": "execute_result"
    }
   ],
   "source": [
    "p1[1]"
   ]
  },
  {
   "cell_type": "code",
   "execution_count": 5,
   "id": "6200d86a",
   "metadata": {},
   "outputs": [],
   "source": [
    "p1.index=['AA','BB','CC','DD']"
   ]
  },
  {
   "cell_type": "code",
   "execution_count": 6,
   "id": "63e28416",
   "metadata": {},
   "outputs": [
    {
     "data": {
      "text/plain": [
       "AA    100\n",
       "BB    200\n",
       "CC    300\n",
       "DD    400\n",
       "dtype: int64"
      ]
     },
     "execution_count": 6,
     "metadata": {},
     "output_type": "execute_result"
    }
   ],
   "source": [
    "p1"
   ]
  },
  {
   "cell_type": "code",
   "execution_count": 7,
   "id": "3a2ceba8",
   "metadata": {},
   "outputs": [
    {
     "data": {
      "text/plain": [
       "pandas.core.series.Series"
      ]
     },
     "execution_count": 7,
     "metadata": {},
     "output_type": "execute_result"
    }
   ],
   "source": [
    "type(p1)"
   ]
  },
  {
   "cell_type": "code",
   "execution_count": 8,
   "id": "fecd83e5",
   "metadata": {},
   "outputs": [],
   "source": [
    "p2=pd.Series([10,20,30,40],dtype='float')"
   ]
  },
  {
   "cell_type": "code",
   "execution_count": 9,
   "id": "524ec1f6",
   "metadata": {},
   "outputs": [
    {
     "data": {
      "text/plain": [
       "0    10.0\n",
       "1    20.0\n",
       "2    30.0\n",
       "3    40.0\n",
       "dtype: float64"
      ]
     },
     "execution_count": 9,
     "metadata": {},
     "output_type": "execute_result"
    }
   ],
   "source": [
    "p2"
   ]
  },
  {
   "cell_type": "code",
   "execution_count": 10,
   "id": "f10c2414",
   "metadata": {},
   "outputs": [],
   "source": [
    "p3=pd.Series([1000,2000,3000,4000],index=['A','B','C','D'])"
   ]
  },
  {
   "cell_type": "code",
   "execution_count": 11,
   "id": "471e4345",
   "metadata": {},
   "outputs": [
    {
     "data": {
      "text/plain": [
       "A    1000\n",
       "B    2000\n",
       "C    3000\n",
       "D    4000\n",
       "dtype: int64"
      ]
     },
     "execution_count": 11,
     "metadata": {},
     "output_type": "execute_result"
    }
   ],
   "source": [
    "p3"
   ]
  },
  {
   "cell_type": "code",
   "execution_count": 12,
   "id": "317d58b0",
   "metadata": {},
   "outputs": [
    {
     "data": {
      "text/plain": [
       "3000"
      ]
     },
     "execution_count": 12,
     "metadata": {},
     "output_type": "execute_result"
    }
   ],
   "source": [
    "p3['C']"
   ]
  },
  {
   "cell_type": "code",
   "execution_count": 13,
   "id": "28e60c1d",
   "metadata": {},
   "outputs": [
    {
     "data": {
      "text/plain": [
       "3000"
      ]
     },
     "execution_count": 13,
     "metadata": {},
     "output_type": "execute_result"
    }
   ],
   "source": [
    "p3[2]"
   ]
  },
  {
   "cell_type": "code",
   "execution_count": 14,
   "id": "2b5ff7fb",
   "metadata": {},
   "outputs": [
    {
     "data": {
      "text/plain": [
       "4000"
      ]
     },
     "execution_count": 14,
     "metadata": {},
     "output_type": "execute_result"
    }
   ],
   "source": [
    "p3['D']"
   ]
  },
  {
   "cell_type": "code",
   "execution_count": 15,
   "id": "4574e308",
   "metadata": {},
   "outputs": [
    {
     "data": {
      "text/plain": [
       "4000"
      ]
     },
     "execution_count": 15,
     "metadata": {},
     "output_type": "execute_result"
    }
   ],
   "source": [
    "p3[3]"
   ]
  },
  {
   "cell_type": "code",
   "execution_count": 16,
   "id": "0e2daa1f",
   "metadata": {},
   "outputs": [
    {
     "data": {
      "text/plain": [
       "B    2000\n",
       "C    3000\n",
       "dtype: int64"
      ]
     },
     "execution_count": 16,
     "metadata": {},
     "output_type": "execute_result"
    }
   ],
   "source": [
    "p3[1:3]"
   ]
  },
  {
   "cell_type": "code",
   "execution_count": 17,
   "id": "589e6224",
   "metadata": {},
   "outputs": [
    {
     "data": {
      "text/plain": [
       "B    2000\n",
       "C    3000\n",
       "D    4000\n",
       "dtype: int64"
      ]
     },
     "execution_count": 17,
     "metadata": {},
     "output_type": "execute_result"
    }
   ],
   "source": [
    "p3['B':'D'] # D value is also included here"
   ]
  },
  {
   "cell_type": "code",
   "execution_count": 18,
   "id": "3aa468d4",
   "metadata": {},
   "outputs": [],
   "source": [
    "p4=pd.Series(['APPLE','ORANGE','BANANA','KIWI'])"
   ]
  },
  {
   "cell_type": "code",
   "execution_count": 19,
   "id": "de0af46a",
   "metadata": {},
   "outputs": [
    {
     "data": {
      "text/plain": [
       "0     APPLE\n",
       "1    ORANGE\n",
       "2    BANANA\n",
       "3      KIWI\n",
       "dtype: object"
      ]
     },
     "execution_count": 19,
     "metadata": {},
     "output_type": "execute_result"
    }
   ],
   "source": [
    "p4"
   ]
  },
  {
   "cell_type": "code",
   "execution_count": 20,
   "id": "9365905c",
   "metadata": {},
   "outputs": [],
   "source": [
    "p5=pd.Series(['APPLE','ORANGE','BANANA','KIWI'],index=[11,22,33,44])"
   ]
  },
  {
   "cell_type": "code",
   "execution_count": 21,
   "id": "81ae6989",
   "metadata": {},
   "outputs": [
    {
     "data": {
      "text/plain": [
       "11     APPLE\n",
       "22    ORANGE\n",
       "33    BANANA\n",
       "44      KIWI\n",
       "dtype: object"
      ]
     },
     "execution_count": 21,
     "metadata": {},
     "output_type": "execute_result"
    }
   ],
   "source": [
    "p5"
   ]
  },
  {
   "cell_type": "code",
   "execution_count": 22,
   "id": "8ebc1b06",
   "metadata": {},
   "outputs": [
    {
     "ename": "KeyError",
     "evalue": "1",
     "output_type": "error",
     "traceback": [
      "\u001b[1;31m---------------------------------------------------------------------------\u001b[0m",
      "\u001b[1;31mKeyError\u001b[0m                                  Traceback (most recent call last)",
      "\u001b[1;32m~\\anaconda3\\lib\\site-packages\\pandas\\core\\indexes\\base.py\u001b[0m in \u001b[0;36mget_loc\u001b[1;34m(self, key, method, tolerance)\u001b[0m\n\u001b[0;32m   3360\u001b[0m             \u001b[1;32mtry\u001b[0m\u001b[1;33m:\u001b[0m\u001b[1;33m\u001b[0m\u001b[1;33m\u001b[0m\u001b[0m\n\u001b[1;32m-> 3361\u001b[1;33m                 \u001b[1;32mreturn\u001b[0m \u001b[0mself\u001b[0m\u001b[1;33m.\u001b[0m\u001b[0m_engine\u001b[0m\u001b[1;33m.\u001b[0m\u001b[0mget_loc\u001b[0m\u001b[1;33m(\u001b[0m\u001b[0mcasted_key\u001b[0m\u001b[1;33m)\u001b[0m\u001b[1;33m\u001b[0m\u001b[1;33m\u001b[0m\u001b[0m\n\u001b[0m\u001b[0;32m   3362\u001b[0m             \u001b[1;32mexcept\u001b[0m \u001b[0mKeyError\u001b[0m \u001b[1;32mas\u001b[0m \u001b[0merr\u001b[0m\u001b[1;33m:\u001b[0m\u001b[1;33m\u001b[0m\u001b[1;33m\u001b[0m\u001b[0m\n",
      "\u001b[1;32m~\\anaconda3\\lib\\site-packages\\pandas\\_libs\\index.pyx\u001b[0m in \u001b[0;36mpandas._libs.index.IndexEngine.get_loc\u001b[1;34m()\u001b[0m\n",
      "\u001b[1;32m~\\anaconda3\\lib\\site-packages\\pandas\\_libs\\index.pyx\u001b[0m in \u001b[0;36mpandas._libs.index.IndexEngine.get_loc\u001b[1;34m()\u001b[0m\n",
      "\u001b[1;32mpandas\\_libs\\hashtable_class_helper.pxi\u001b[0m in \u001b[0;36mpandas._libs.hashtable.Int64HashTable.get_item\u001b[1;34m()\u001b[0m\n",
      "\u001b[1;32mpandas\\_libs\\hashtable_class_helper.pxi\u001b[0m in \u001b[0;36mpandas._libs.hashtable.Int64HashTable.get_item\u001b[1;34m()\u001b[0m\n",
      "\u001b[1;31mKeyError\u001b[0m: 1",
      "\nThe above exception was the direct cause of the following exception:\n",
      "\u001b[1;31mKeyError\u001b[0m                                  Traceback (most recent call last)",
      "\u001b[1;32m~\\AppData\\Local\\Temp/ipykernel_3652/1526307934.py\u001b[0m in \u001b[0;36m<module>\u001b[1;34m\u001b[0m\n\u001b[1;32m----> 1\u001b[1;33m \u001b[0mp5\u001b[0m\u001b[1;33m[\u001b[0m\u001b[1;36m1\u001b[0m\u001b[1;33m]\u001b[0m\u001b[1;33m\u001b[0m\u001b[1;33m\u001b[0m\u001b[0m\n\u001b[0m",
      "\u001b[1;32m~\\anaconda3\\lib\\site-packages\\pandas\\core\\series.py\u001b[0m in \u001b[0;36m__getitem__\u001b[1;34m(self, key)\u001b[0m\n\u001b[0;32m    940\u001b[0m \u001b[1;33m\u001b[0m\u001b[0m\n\u001b[0;32m    941\u001b[0m         \u001b[1;32melif\u001b[0m \u001b[0mkey_is_scalar\u001b[0m\u001b[1;33m:\u001b[0m\u001b[1;33m\u001b[0m\u001b[1;33m\u001b[0m\u001b[0m\n\u001b[1;32m--> 942\u001b[1;33m             \u001b[1;32mreturn\u001b[0m \u001b[0mself\u001b[0m\u001b[1;33m.\u001b[0m\u001b[0m_get_value\u001b[0m\u001b[1;33m(\u001b[0m\u001b[0mkey\u001b[0m\u001b[1;33m)\u001b[0m\u001b[1;33m\u001b[0m\u001b[1;33m\u001b[0m\u001b[0m\n\u001b[0m\u001b[0;32m    943\u001b[0m \u001b[1;33m\u001b[0m\u001b[0m\n\u001b[0;32m    944\u001b[0m         \u001b[1;32mif\u001b[0m \u001b[0mis_hashable\u001b[0m\u001b[1;33m(\u001b[0m\u001b[0mkey\u001b[0m\u001b[1;33m)\u001b[0m\u001b[1;33m:\u001b[0m\u001b[1;33m\u001b[0m\u001b[1;33m\u001b[0m\u001b[0m\n",
      "\u001b[1;32m~\\anaconda3\\lib\\site-packages\\pandas\\core\\series.py\u001b[0m in \u001b[0;36m_get_value\u001b[1;34m(self, label, takeable)\u001b[0m\n\u001b[0;32m   1049\u001b[0m \u001b[1;33m\u001b[0m\u001b[0m\n\u001b[0;32m   1050\u001b[0m         \u001b[1;31m# Similar to Index.get_value, but we do not fall back to positional\u001b[0m\u001b[1;33m\u001b[0m\u001b[1;33m\u001b[0m\u001b[0m\n\u001b[1;32m-> 1051\u001b[1;33m         \u001b[0mloc\u001b[0m \u001b[1;33m=\u001b[0m \u001b[0mself\u001b[0m\u001b[1;33m.\u001b[0m\u001b[0mindex\u001b[0m\u001b[1;33m.\u001b[0m\u001b[0mget_loc\u001b[0m\u001b[1;33m(\u001b[0m\u001b[0mlabel\u001b[0m\u001b[1;33m)\u001b[0m\u001b[1;33m\u001b[0m\u001b[1;33m\u001b[0m\u001b[0m\n\u001b[0m\u001b[0;32m   1052\u001b[0m         \u001b[1;32mreturn\u001b[0m \u001b[0mself\u001b[0m\u001b[1;33m.\u001b[0m\u001b[0mindex\u001b[0m\u001b[1;33m.\u001b[0m\u001b[0m_get_values_for_loc\u001b[0m\u001b[1;33m(\u001b[0m\u001b[0mself\u001b[0m\u001b[1;33m,\u001b[0m \u001b[0mloc\u001b[0m\u001b[1;33m,\u001b[0m \u001b[0mlabel\u001b[0m\u001b[1;33m)\u001b[0m\u001b[1;33m\u001b[0m\u001b[1;33m\u001b[0m\u001b[0m\n\u001b[0;32m   1053\u001b[0m \u001b[1;33m\u001b[0m\u001b[0m\n",
      "\u001b[1;32m~\\anaconda3\\lib\\site-packages\\pandas\\core\\indexes\\base.py\u001b[0m in \u001b[0;36mget_loc\u001b[1;34m(self, key, method, tolerance)\u001b[0m\n\u001b[0;32m   3361\u001b[0m                 \u001b[1;32mreturn\u001b[0m \u001b[0mself\u001b[0m\u001b[1;33m.\u001b[0m\u001b[0m_engine\u001b[0m\u001b[1;33m.\u001b[0m\u001b[0mget_loc\u001b[0m\u001b[1;33m(\u001b[0m\u001b[0mcasted_key\u001b[0m\u001b[1;33m)\u001b[0m\u001b[1;33m\u001b[0m\u001b[1;33m\u001b[0m\u001b[0m\n\u001b[0;32m   3362\u001b[0m             \u001b[1;32mexcept\u001b[0m \u001b[0mKeyError\u001b[0m \u001b[1;32mas\u001b[0m \u001b[0merr\u001b[0m\u001b[1;33m:\u001b[0m\u001b[1;33m\u001b[0m\u001b[1;33m\u001b[0m\u001b[0m\n\u001b[1;32m-> 3363\u001b[1;33m                 \u001b[1;32mraise\u001b[0m \u001b[0mKeyError\u001b[0m\u001b[1;33m(\u001b[0m\u001b[0mkey\u001b[0m\u001b[1;33m)\u001b[0m \u001b[1;32mfrom\u001b[0m \u001b[0merr\u001b[0m\u001b[1;33m\u001b[0m\u001b[1;33m\u001b[0m\u001b[0m\n\u001b[0m\u001b[0;32m   3364\u001b[0m \u001b[1;33m\u001b[0m\u001b[0m\n\u001b[0;32m   3365\u001b[0m         \u001b[1;32mif\u001b[0m \u001b[0mis_scalar\u001b[0m\u001b[1;33m(\u001b[0m\u001b[0mkey\u001b[0m\u001b[1;33m)\u001b[0m \u001b[1;32mand\u001b[0m \u001b[0misna\u001b[0m\u001b[1;33m(\u001b[0m\u001b[0mkey\u001b[0m\u001b[1;33m)\u001b[0m \u001b[1;32mand\u001b[0m \u001b[1;32mnot\u001b[0m \u001b[0mself\u001b[0m\u001b[1;33m.\u001b[0m\u001b[0mhasnans\u001b[0m\u001b[1;33m:\u001b[0m\u001b[1;33m\u001b[0m\u001b[1;33m\u001b[0m\u001b[0m\n",
      "\u001b[1;31mKeyError\u001b[0m: 1"
     ]
    }
   ],
   "source": [
    "p5[1] # when we give index as numbers then we cant extract values by original index"
   ]
  },
  {
   "cell_type": "markdown",
   "id": "9d9f64ce",
   "metadata": {},
   "source": [
    "## Scalar to Series"
   ]
  },
  {
   "cell_type": "code",
   "execution_count": 23,
   "id": "7e922c83",
   "metadata": {},
   "outputs": [
    {
     "data": {
      "text/plain": [
       "0    9\n",
       "1    9\n",
       "2    9\n",
       "3    9\n",
       "4    9\n",
       "5    9\n",
       "dtype: int64"
      ]
     },
     "execution_count": 23,
     "metadata": {},
     "output_type": "execute_result"
    }
   ],
   "source": [
    "pd.Series(9,index=[0,1,2,3,4,5])"
   ]
  },
  {
   "cell_type": "markdown",
   "id": "594268b8",
   "metadata": {},
   "source": [
    "## Numpy array to Series"
   ]
  },
  {
   "cell_type": "code",
   "execution_count": 24,
   "id": "89896216",
   "metadata": {},
   "outputs": [],
   "source": [
    "ary1=np.arange(11,16)"
   ]
  },
  {
   "cell_type": "code",
   "execution_count": 25,
   "id": "3a04ed9c",
   "metadata": {
    "scrolled": true
   },
   "outputs": [
    {
     "data": {
      "text/plain": [
       "0    11\n",
       "1    12\n",
       "2    13\n",
       "3    14\n",
       "4    15\n",
       "dtype: int32"
      ]
     },
     "execution_count": 25,
     "metadata": {},
     "output_type": "execute_result"
    }
   ],
   "source": [
    "pd.Series(ary1) # Created pandas object using numpy array"
   ]
  },
  {
   "cell_type": "code",
   "execution_count": 26,
   "id": "52be61a5",
   "metadata": {},
   "outputs": [
    {
     "data": {
      "text/plain": [
       "0    1\n",
       "1    2\n",
       "2    3\n",
       "3    4\n",
       "4    5\n",
       "5    6\n",
       "6    7\n",
       "7    8\n",
       "8    9\n",
       "dtype: int32"
      ]
     },
     "execution_count": 26,
     "metadata": {},
     "output_type": "execute_result"
    }
   ],
   "source": [
    "pd.Series(np.arange(1,10))"
   ]
  },
  {
   "cell_type": "markdown",
   "id": "be19ee65",
   "metadata": {},
   "source": [
    "## Dictionary to Series"
   ]
  },
  {
   "cell_type": "code",
   "execution_count": 27,
   "id": "c2427458",
   "metadata": {},
   "outputs": [],
   "source": [
    "d1={\n",
    "    'A':'APPLE',\n",
    "    'I':'INDIA',\n",
    "    'U':'USA'\n",
    "}"
   ]
  },
  {
   "cell_type": "code",
   "execution_count": 28,
   "id": "020b23b8",
   "metadata": {},
   "outputs": [],
   "source": [
    "s1=pd.Series(d1)"
   ]
  },
  {
   "cell_type": "code",
   "execution_count": 29,
   "id": "155c6c6d",
   "metadata": {},
   "outputs": [
    {
     "data": {
      "text/plain": [
       "A    APPLE\n",
       "I    INDIA\n",
       "U      USA\n",
       "dtype: object"
      ]
     },
     "execution_count": 29,
     "metadata": {},
     "output_type": "execute_result"
    }
   ],
   "source": [
    "s1"
   ]
  },
  {
   "cell_type": "code",
   "execution_count": 30,
   "id": "bbdd89d3",
   "metadata": {},
   "outputs": [
    {
     "data": {
      "text/plain": [
       "'APPLE'"
      ]
     },
     "execution_count": 30,
     "metadata": {},
     "output_type": "execute_result"
    }
   ],
   "source": [
    "s1['A']"
   ]
  },
  {
   "cell_type": "code",
   "execution_count": 31,
   "id": "249484c6",
   "metadata": {},
   "outputs": [
    {
     "data": {
      "text/plain": [
       "'APPLE'"
      ]
     },
     "execution_count": 31,
     "metadata": {},
     "output_type": "execute_result"
    }
   ],
   "source": [
    "s1[0]"
   ]
  },
  {
   "cell_type": "code",
   "execution_count": 32,
   "id": "d15da4ae",
   "metadata": {},
   "outputs": [
    {
     "data": {
      "text/plain": [
       "A    APPLE\n",
       "U      USA\n",
       "dtype: object"
      ]
     },
     "execution_count": 32,
     "metadata": {},
     "output_type": "execute_result"
    }
   ],
   "source": [
    "s1[['A','U']] # double brackets used here"
   ]
  },
  {
   "cell_type": "code",
   "execution_count": 33,
   "id": "aa4563ac",
   "metadata": {},
   "outputs": [],
   "source": [
    "s2=pd.Series(d1,index=['P','Q','R','S'])"
   ]
  },
  {
   "cell_type": "code",
   "execution_count": 34,
   "id": "b4b96d97",
   "metadata": {},
   "outputs": [
    {
     "data": {
      "text/plain": [
       "P    NaN\n",
       "Q    NaN\n",
       "R    NaN\n",
       "S    NaN\n",
       "dtype: object"
      ]
     },
     "execution_count": 34,
     "metadata": {},
     "output_type": "execute_result"
    }
   ],
   "source": [
    "s2"
   ]
  },
  {
   "cell_type": "code",
   "execution_count": 35,
   "id": "098d7670",
   "metadata": {},
   "outputs": [],
   "source": [
    "d2={'A':10,'B':20,'C':30,'D':40}"
   ]
  },
  {
   "cell_type": "code",
   "execution_count": 36,
   "id": "9cd079a6",
   "metadata": {},
   "outputs": [],
   "source": [
    "s3=pd.Series(d2)"
   ]
  },
  {
   "cell_type": "code",
   "execution_count": 37,
   "id": "9b2f376b",
   "metadata": {},
   "outputs": [
    {
     "data": {
      "text/plain": [
       "A    10\n",
       "B    20\n",
       "C    30\n",
       "D    40\n",
       "dtype: int64"
      ]
     },
     "execution_count": 37,
     "metadata": {},
     "output_type": "execute_result"
    }
   ],
   "source": [
    "s3"
   ]
  },
  {
   "cell_type": "code",
   "execution_count": 38,
   "id": "2f2ba72f",
   "metadata": {},
   "outputs": [
    {
     "data": {
      "text/plain": [
       "A    10\n",
       "B    20\n",
       "C    30\n",
       "dtype: int64"
      ]
     },
     "execution_count": 38,
     "metadata": {},
     "output_type": "execute_result"
    }
   ],
   "source": [
    "s3['A':'C']"
   ]
  },
  {
   "cell_type": "code",
   "execution_count": 39,
   "id": "0f619f46",
   "metadata": {},
   "outputs": [
    {
     "data": {
      "text/plain": [
       "{'A': 10, 'B': 20, 'C': 30, 'D': 40}"
      ]
     },
     "execution_count": 39,
     "metadata": {},
     "output_type": "execute_result"
    }
   ],
   "source": [
    "d2"
   ]
  },
  {
   "cell_type": "code",
   "execution_count": 40,
   "id": "e16f5122",
   "metadata": {},
   "outputs": [],
   "source": [
    "s3=pd.Series(d2,index=['X','Y','Z','K'])\n",
    "# In case of dictionary,we can not change the index at the time of creating pandas object, rather it will look for the values of X,Y,Z,K\n",
    "# keys are the default index\n",
    "# But we can change the index explicitly after creation of pandas object"
   ]
  },
  {
   "cell_type": "code",
   "execution_count": 41,
   "id": "91d89a8e",
   "metadata": {},
   "outputs": [
    {
     "data": {
      "text/plain": [
       "X   NaN\n",
       "Y   NaN\n",
       "Z   NaN\n",
       "K   NaN\n",
       "dtype: float64"
      ]
     },
     "execution_count": 41,
     "metadata": {},
     "output_type": "execute_result"
    }
   ],
   "source": [
    "s3"
   ]
  },
  {
   "cell_type": "code",
   "execution_count": 42,
   "id": "c86111c1",
   "metadata": {},
   "outputs": [],
   "source": [
    "s3=pd.Series(d2,index=['X','Y','Z','A'])"
   ]
  },
  {
   "cell_type": "code",
   "execution_count": 43,
   "id": "2841277c",
   "metadata": {},
   "outputs": [
    {
     "data": {
      "text/plain": [
       "X     NaN\n",
       "Y     NaN\n",
       "Z     NaN\n",
       "A    10.0\n",
       "dtype: float64"
      ]
     },
     "execution_count": 43,
     "metadata": {},
     "output_type": "execute_result"
    }
   ],
   "source": [
    "s3"
   ]
  },
  {
   "cell_type": "code",
   "execution_count": 44,
   "id": "e5ba9a52",
   "metadata": {},
   "outputs": [],
   "source": [
    "s3=pd.Series(d2,index=['D','C','B','A'])"
   ]
  },
  {
   "cell_type": "code",
   "execution_count": 45,
   "id": "e7e49971",
   "metadata": {},
   "outputs": [
    {
     "data": {
      "text/plain": [
       "D    40\n",
       "C    30\n",
       "B    20\n",
       "A    10\n",
       "dtype: int64"
      ]
     },
     "execution_count": 45,
     "metadata": {},
     "output_type": "execute_result"
    }
   ],
   "source": [
    "s3"
   ]
  },
  {
   "cell_type": "code",
   "execution_count": 46,
   "id": "c3fd7008",
   "metadata": {},
   "outputs": [
    {
     "data": {
      "text/plain": [
       "40"
      ]
     },
     "execution_count": 46,
     "metadata": {},
     "output_type": "execute_result"
    }
   ],
   "source": [
    "s3['D']"
   ]
  },
  {
   "cell_type": "code",
   "execution_count": 47,
   "id": "2ee88196",
   "metadata": {},
   "outputs": [],
   "source": [
    "s3.index=['X','Y','Z','K']\n",
    "# This is the way where we can change index of already created pandas object"
   ]
  },
  {
   "cell_type": "code",
   "execution_count": 48,
   "id": "48ccf6e6",
   "metadata": {},
   "outputs": [
    {
     "data": {
      "text/plain": [
       "X    40\n",
       "Y    30\n",
       "Z    20\n",
       "K    10\n",
       "dtype: int64"
      ]
     },
     "execution_count": 48,
     "metadata": {},
     "output_type": "execute_result"
    }
   ],
   "source": [
    "s3"
   ]
  },
  {
   "cell_type": "code",
   "execution_count": 49,
   "id": "d21b9350",
   "metadata": {},
   "outputs": [],
   "source": [
    "s4=pd.Series([100,200,300,400,500])"
   ]
  },
  {
   "cell_type": "code",
   "execution_count": 50,
   "id": "95267a48",
   "metadata": {},
   "outputs": [
    {
     "data": {
      "text/plain": [
       "0    100\n",
       "1    200\n",
       "2    300\n",
       "3    400\n",
       "4    500\n",
       "dtype: int64"
      ]
     },
     "execution_count": 50,
     "metadata": {},
     "output_type": "execute_result"
    }
   ],
   "source": [
    "s4"
   ]
  },
  {
   "cell_type": "code",
   "execution_count": 51,
   "id": "f59cf34f",
   "metadata": {},
   "outputs": [
    {
     "data": {
      "text/plain": [
       "0    False\n",
       "1    False\n",
       "2     True\n",
       "3     True\n",
       "4     True\n",
       "dtype: bool"
      ]
     },
     "execution_count": 51,
     "metadata": {},
     "output_type": "execute_result"
    }
   ],
   "source": [
    "s4>200"
   ]
  },
  {
   "cell_type": "code",
   "execution_count": 52,
   "id": "2275feea",
   "metadata": {},
   "outputs": [
    {
     "data": {
      "text/plain": [
       "2    300\n",
       "3    400\n",
       "4    500\n",
       "dtype: int64"
      ]
     },
     "execution_count": 52,
     "metadata": {},
     "output_type": "execute_result"
    }
   ],
   "source": [
    "s4[s4>200]"
   ]
  },
  {
   "cell_type": "code",
   "execution_count": 54,
   "id": "0c24da4c",
   "metadata": {},
   "outputs": [
    {
     "data": {
      "text/plain": [
       "0    100\n",
       "3    400\n",
       "4    500\n",
       "dtype: int64"
      ]
     },
     "execution_count": 54,
     "metadata": {},
     "output_type": "execute_result"
    }
   ],
   "source": [
    "s4[(s4<200)|(s4>300)]"
   ]
  },
  {
   "cell_type": "code",
   "execution_count": 55,
   "id": "4e35aadc",
   "metadata": {},
   "outputs": [
    {
     "data": {
      "text/plain": [
       "0    200\n",
       "1    300\n",
       "2    400\n",
       "3    500\n",
       "4    600\n",
       "dtype: int64"
      ]
     },
     "execution_count": 55,
     "metadata": {},
     "output_type": "execute_result"
    }
   ],
   "source": [
    "s4+100"
   ]
  },
  {
   "cell_type": "code",
   "execution_count": 56,
   "id": "09120dc1",
   "metadata": {},
   "outputs": [
    {
     "data": {
      "text/plain": [
       "0     200\n",
       "1     400\n",
       "2     600\n",
       "3     800\n",
       "4    1000\n",
       "dtype: int64"
      ]
     },
     "execution_count": 56,
     "metadata": {},
     "output_type": "execute_result"
    }
   ],
   "source": [
    "s4*2\n"
   ]
  },
  {
   "cell_type": "code",
   "execution_count": 57,
   "id": "94559602",
   "metadata": {},
   "outputs": [],
   "source": [
    "s5=pd.Series(np.random.randint(100,300,(20)))"
   ]
  },
  {
   "cell_type": "code",
   "execution_count": 58,
   "id": "9a251c01",
   "metadata": {},
   "outputs": [
    {
     "data": {
      "text/plain": [
       "0     278\n",
       "1     257\n",
       "2     120\n",
       "3     214\n",
       "4     173\n",
       "5     218\n",
       "6     176\n",
       "7     172\n",
       "8     285\n",
       "9     104\n",
       "10    175\n",
       "11    232\n",
       "12    240\n",
       "13    121\n",
       "14    210\n",
       "15    284\n",
       "16    206\n",
       "17    249\n",
       "18    106\n",
       "19    207\n",
       "dtype: int32"
      ]
     },
     "execution_count": 58,
     "metadata": {},
     "output_type": "execute_result"
    }
   ],
   "source": [
    "s5"
   ]
  },
  {
   "cell_type": "code",
   "execution_count": 59,
   "id": "a9fcefb9",
   "metadata": {},
   "outputs": [
    {
     "data": {
      "text/plain": [
       "0     18.0\n",
       "1     17.0\n",
       "2      3.0\n",
       "3     12.0\n",
       "4      6.0\n",
       "5     13.0\n",
       "6      8.0\n",
       "7      5.0\n",
       "8     20.0\n",
       "9      1.0\n",
       "10     7.0\n",
       "11    14.0\n",
       "12    15.0\n",
       "13     4.0\n",
       "14    11.0\n",
       "15    19.0\n",
       "16     9.0\n",
       "17    16.0\n",
       "18     2.0\n",
       "19    10.0\n",
       "dtype: float64"
      ]
     },
     "execution_count": 59,
     "metadata": {},
     "output_type": "execute_result"
    }
   ],
   "source": [
    "s5.rank()"
   ]
  },
  {
   "cell_type": "code",
   "execution_count": 60,
   "id": "15993494",
   "metadata": {},
   "outputs": [
    {
     "data": {
      "text/plain": [
       "0     278\n",
       "1     257\n",
       "2     120\n",
       "3     214\n",
       "4     173\n",
       "5     218\n",
       "6     176\n",
       "7     172\n",
       "8     285\n",
       "9     104\n",
       "10    175\n",
       "11    232\n",
       "12    240\n",
       "13    121\n",
       "14    210\n",
       "15    284\n",
       "16    206\n",
       "17    249\n",
       "18    106\n",
       "19    207\n",
       "dtype: int32"
      ]
     },
     "execution_count": 60,
     "metadata": {},
     "output_type": "execute_result"
    }
   ],
   "source": [
    "s5"
   ]
  },
  {
   "cell_type": "code",
   "execution_count": 63,
   "id": "a2ccb658",
   "metadata": {},
   "outputs": [],
   "source": [
    "s6=s5.sort_values()"
   ]
  },
  {
   "cell_type": "code",
   "execution_count": 64,
   "id": "db53752c",
   "metadata": {},
   "outputs": [
    {
     "data": {
      "text/plain": [
       "9     104\n",
       "18    106\n",
       "2     120\n",
       "13    121\n",
       "7     172\n",
       "4     173\n",
       "10    175\n",
       "6     176\n",
       "16    206\n",
       "19    207\n",
       "14    210\n",
       "3     214\n",
       "5     218\n",
       "11    232\n",
       "12    240\n",
       "17    249\n",
       "1     257\n",
       "0     278\n",
       "15    284\n",
       "8     285\n",
       "dtype: int32"
      ]
     },
     "execution_count": 64,
     "metadata": {},
     "output_type": "execute_result"
    }
   ],
   "source": [
    "s6"
   ]
  },
  {
   "cell_type": "code",
   "execution_count": 65,
   "id": "ee4c517a",
   "metadata": {},
   "outputs": [
    {
     "data": {
      "text/plain": [
       "0     278\n",
       "1     257\n",
       "2     120\n",
       "3     214\n",
       "4     173\n",
       "5     218\n",
       "6     176\n",
       "7     172\n",
       "8     285\n",
       "9     104\n",
       "10    175\n",
       "11    232\n",
       "12    240\n",
       "13    121\n",
       "14    210\n",
       "15    284\n",
       "16    206\n",
       "17    249\n",
       "18    106\n",
       "19    207\n",
       "dtype: int32"
      ]
     },
     "execution_count": 65,
     "metadata": {},
     "output_type": "execute_result"
    }
   ],
   "source": [
    "s6.sort_index()"
   ]
  },
  {
   "cell_type": "code",
   "execution_count": 68,
   "id": "1910da26",
   "metadata": {},
   "outputs": [],
   "source": [
    "s6[5]=np.NaN\n",
    "s6[1]=np.NaN\n",
    "s6[8]=np.NaN\n",
    "s6[9]=np.NaN\n",
    "s6[13]=np.NaN\n",
    "\n",
    "# OR  s6[5,1,8,9,13]=np.nan"
   ]
  },
  {
   "cell_type": "code",
   "execution_count": 69,
   "id": "8f14a506",
   "metadata": {},
   "outputs": [
    {
     "data": {
      "text/plain": [
       "9       NaN\n",
       "18    106.0\n",
       "2     120.0\n",
       "13      NaN\n",
       "7     172.0\n",
       "4     173.0\n",
       "10    175.0\n",
       "6     176.0\n",
       "16    206.0\n",
       "19    207.0\n",
       "14    210.0\n",
       "3     214.0\n",
       "5       NaN\n",
       "11    232.0\n",
       "12    240.0\n",
       "17    249.0\n",
       "1       NaN\n",
       "0     278.0\n",
       "15    284.0\n",
       "8       NaN\n",
       "dtype: float64"
      ]
     },
     "execution_count": 69,
     "metadata": {},
     "output_type": "execute_result"
    }
   ],
   "source": [
    "s6"
   ]
  },
  {
   "cell_type": "code",
   "execution_count": 70,
   "id": "2f004c48",
   "metadata": {},
   "outputs": [],
   "source": [
    "s7=s6.sort_index()"
   ]
  },
  {
   "cell_type": "code",
   "execution_count": 71,
   "id": "0936df97",
   "metadata": {},
   "outputs": [
    {
     "data": {
      "text/plain": [
       "0     278.0\n",
       "1       NaN\n",
       "2     120.0\n",
       "3     214.0\n",
       "4     173.0\n",
       "5       NaN\n",
       "6     176.0\n",
       "7     172.0\n",
       "8       NaN\n",
       "9       NaN\n",
       "10    175.0\n",
       "11    232.0\n",
       "12    240.0\n",
       "13      NaN\n",
       "14    210.0\n",
       "15    284.0\n",
       "16    206.0\n",
       "17    249.0\n",
       "18    106.0\n",
       "19    207.0\n",
       "dtype: float64"
      ]
     },
     "execution_count": 71,
     "metadata": {},
     "output_type": "execute_result"
    }
   ],
   "source": [
    "s7"
   ]
  },
  {
   "cell_type": "code",
   "execution_count": 72,
   "id": "57521bbb",
   "metadata": {},
   "outputs": [
    {
     "data": {
      "text/plain": [
       "0     False\n",
       "1      True\n",
       "2     False\n",
       "3     False\n",
       "4     False\n",
       "5      True\n",
       "6     False\n",
       "7     False\n",
       "8      True\n",
       "9      True\n",
       "10    False\n",
       "11    False\n",
       "12    False\n",
       "13     True\n",
       "14    False\n",
       "15    False\n",
       "16    False\n",
       "17    False\n",
       "18    False\n",
       "19    False\n",
       "dtype: bool"
      ]
     },
     "execution_count": 72,
     "metadata": {},
     "output_type": "execute_result"
    }
   ],
   "source": [
    "s7.isnull()"
   ]
  },
  {
   "cell_type": "code",
   "execution_count": 73,
   "id": "bda2f9bb",
   "metadata": {},
   "outputs": [
    {
     "data": {
      "text/plain": [
       "1    NaN\n",
       "5    NaN\n",
       "8    NaN\n",
       "9    NaN\n",
       "13   NaN\n",
       "dtype: float64"
      ]
     },
     "execution_count": 73,
     "metadata": {},
     "output_type": "execute_result"
    }
   ],
   "source": [
    "s7[s7.isnull()]"
   ]
  },
  {
   "cell_type": "code",
   "execution_count": 76,
   "id": "001f335d",
   "metadata": {},
   "outputs": [
    {
     "data": {
      "text/plain": [
       "0     False\n",
       "1      True\n",
       "2     False\n",
       "3     False\n",
       "4     False\n",
       "5      True\n",
       "6     False\n",
       "7     False\n",
       "8      True\n",
       "9      True\n",
       "10    False\n",
       "11    False\n",
       "12    False\n",
       "13     True\n",
       "14    False\n",
       "15    False\n",
       "16    False\n",
       "17    False\n",
       "18    False\n",
       "19    False\n",
       "dtype: bool"
      ]
     },
     "execution_count": 76,
     "metadata": {},
     "output_type": "execute_result"
    }
   ],
   "source": [
    "s7.isna()"
   ]
  },
  {
   "cell_type": "code",
   "execution_count": 77,
   "id": "cbd10a73",
   "metadata": {},
   "outputs": [
    {
     "data": {
      "text/plain": [
       "1    NaN\n",
       "5    NaN\n",
       "8    NaN\n",
       "9    NaN\n",
       "13   NaN\n",
       "dtype: float64"
      ]
     },
     "execution_count": 77,
     "metadata": {},
     "output_type": "execute_result"
    }
   ],
   "source": [
    "s7[s7.isna()] # is same as isnull()"
   ]
  },
  {
   "cell_type": "code",
   "execution_count": 74,
   "id": "c7c4ec07",
   "metadata": {},
   "outputs": [
    {
     "data": {
      "text/plain": [
       "5"
      ]
     },
     "execution_count": 74,
     "metadata": {},
     "output_type": "execute_result"
    }
   ],
   "source": [
    "s7.isnull().sum()"
   ]
  },
  {
   "cell_type": "code",
   "execution_count": 75,
   "id": "142ecbeb",
   "metadata": {},
   "outputs": [
    {
     "data": {
      "text/plain": [
       "5"
      ]
     },
     "execution_count": 75,
     "metadata": {},
     "output_type": "execute_result"
    }
   ],
   "source": [
    "s7.isna().sum()"
   ]
  },
  {
   "cell_type": "code",
   "execution_count": 78,
   "id": "e708758e",
   "metadata": {},
   "outputs": [
    {
     "data": {
      "text/plain": [
       "0      True\n",
       "1     False\n",
       "2      True\n",
       "3      True\n",
       "4      True\n",
       "5     False\n",
       "6      True\n",
       "7      True\n",
       "8     False\n",
       "9     False\n",
       "10     True\n",
       "11     True\n",
       "12     True\n",
       "13    False\n",
       "14     True\n",
       "15     True\n",
       "16     True\n",
       "17     True\n",
       "18     True\n",
       "19     True\n",
       "dtype: bool"
      ]
     },
     "execution_count": 78,
     "metadata": {},
     "output_type": "execute_result"
    }
   ],
   "source": [
    "s7.notnull()"
   ]
  },
  {
   "cell_type": "code",
   "execution_count": 80,
   "id": "86b86cdf",
   "metadata": {},
   "outputs": [
    {
     "data": {
      "text/plain": [
       "0     278.0\n",
       "2     120.0\n",
       "3     214.0\n",
       "4     173.0\n",
       "6     176.0\n",
       "7     172.0\n",
       "10    175.0\n",
       "11    232.0\n",
       "12    240.0\n",
       "14    210.0\n",
       "15    284.0\n",
       "16    206.0\n",
       "17    249.0\n",
       "18    106.0\n",
       "19    207.0\n",
       "dtype: float64"
      ]
     },
     "execution_count": 80,
     "metadata": {},
     "output_type": "execute_result"
    }
   ],
   "source": [
    "s7[s7.notnull()]"
   ]
  },
  {
   "cell_type": "code",
   "execution_count": 82,
   "id": "ca0eee4a",
   "metadata": {},
   "outputs": [
    {
     "data": {
      "text/plain": [
       "15"
      ]
     },
     "execution_count": 82,
     "metadata": {},
     "output_type": "execute_result"
    }
   ],
   "source": [
    "s7.notnull().sum()"
   ]
  },
  {
   "cell_type": "code",
   "execution_count": null,
   "id": "c4ee4a8a",
   "metadata": {},
   "outputs": [],
   "source": []
  }
 ],
 "metadata": {
  "kernelspec": {
   "display_name": "Python 3 (ipykernel)",
   "language": "python",
   "name": "python3"
  },
  "language_info": {
   "codemirror_mode": {
    "name": "ipython",
    "version": 3
   },
   "file_extension": ".py",
   "mimetype": "text/x-python",
   "name": "python",
   "nbconvert_exporter": "python",
   "pygments_lexer": "ipython3",
   "version": "3.9.7"
  }
 },
 "nbformat": 4,
 "nbformat_minor": 5
}
