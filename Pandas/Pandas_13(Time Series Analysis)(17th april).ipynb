{
 "cells": [
  {
   "cell_type": "code",
   "execution_count": 1,
   "id": "51e104a4",
   "metadata": {},
   "outputs": [],
   "source": [
    "import pandas as pd\n",
    "import numpy as np"
   ]
  },
  {
   "cell_type": "code",
   "execution_count": 3,
   "id": "98e40968",
   "metadata": {},
   "outputs": [],
   "source": [
    "df1=pd.read_csv(r'C:\\Users\\User\\Downloads\\DATASETS\\Time_series\\TATAMOTORS.csv')"
   ]
  },
  {
   "cell_type": "code",
   "execution_count": 4,
   "id": "0b32efee",
   "metadata": {},
   "outputs": [
    {
     "data": {
      "text/html": [
       "<div>\n",
       "<style scoped>\n",
       "    .dataframe tbody tr th:only-of-type {\n",
       "        vertical-align: middle;\n",
       "    }\n",
       "\n",
       "    .dataframe tbody tr th {\n",
       "        vertical-align: top;\n",
       "    }\n",
       "\n",
       "    .dataframe thead th {\n",
       "        text-align: right;\n",
       "    }\n",
       "</style>\n",
       "<table border=\"1\" class=\"dataframe\">\n",
       "  <thead>\n",
       "    <tr style=\"text-align: right;\">\n",
       "      <th></th>\n",
       "      <th>Date</th>\n",
       "      <th>Open</th>\n",
       "      <th>High</th>\n",
       "      <th>Low</th>\n",
       "      <th>Close</th>\n",
       "      <th>Adj Close</th>\n",
       "      <th>Volume</th>\n",
       "    </tr>\n",
       "  </thead>\n",
       "  <tbody>\n",
       "    <tr>\n",
       "      <th>0</th>\n",
       "      <td>2021-02-26</td>\n",
       "      <td>323.000000</td>\n",
       "      <td>332.950012</td>\n",
       "      <td>318.850006</td>\n",
       "      <td>322.950012</td>\n",
       "      <td>322.950012</td>\n",
       "      <td>91901339</td>\n",
       "    </tr>\n",
       "    <tr>\n",
       "      <th>1</th>\n",
       "      <td>2021-03-01</td>\n",
       "      <td>330.000000</td>\n",
       "      <td>331.850006</td>\n",
       "      <td>322.700012</td>\n",
       "      <td>328.299988</td>\n",
       "      <td>328.299988</td>\n",
       "      <td>61190868</td>\n",
       "    </tr>\n",
       "    <tr>\n",
       "      <th>2</th>\n",
       "      <td>2021-03-02</td>\n",
       "      <td>331.100006</td>\n",
       "      <td>347.200012</td>\n",
       "      <td>326.450012</td>\n",
       "      <td>345.750000</td>\n",
       "      <td>345.750000</td>\n",
       "      <td>127708761</td>\n",
       "    </tr>\n",
       "    <tr>\n",
       "      <th>3</th>\n",
       "      <td>2021-03-03</td>\n",
       "      <td>348.649994</td>\n",
       "      <td>357.000000</td>\n",
       "      <td>346.500000</td>\n",
       "      <td>348.500000</td>\n",
       "      <td>348.500000</td>\n",
       "      <td>92006451</td>\n",
       "    </tr>\n",
       "    <tr>\n",
       "      <th>4</th>\n",
       "      <td>2021-03-04</td>\n",
       "      <td>339.000000</td>\n",
       "      <td>345.399994</td>\n",
       "      <td>337.299988</td>\n",
       "      <td>339.200012</td>\n",
       "      <td>339.200012</td>\n",
       "      <td>59863169</td>\n",
       "    </tr>\n",
       "    <tr>\n",
       "      <th>...</th>\n",
       "      <td>...</td>\n",
       "      <td>...</td>\n",
       "      <td>...</td>\n",
       "      <td>...</td>\n",
       "      <td>...</td>\n",
       "      <td>...</td>\n",
       "      <td>...</td>\n",
       "    </tr>\n",
       "    <tr>\n",
       "      <th>243</th>\n",
       "      <td>2022-02-21</td>\n",
       "      <td>490.149994</td>\n",
       "      <td>500.399994</td>\n",
       "      <td>486.100006</td>\n",
       "      <td>494.450012</td>\n",
       "      <td>494.450012</td>\n",
       "      <td>22592161</td>\n",
       "    </tr>\n",
       "    <tr>\n",
       "      <th>244</th>\n",
       "      <td>2022-02-22</td>\n",
       "      <td>480.549988</td>\n",
       "      <td>486.299988</td>\n",
       "      <td>471.450012</td>\n",
       "      <td>478.250000</td>\n",
       "      <td>478.250000</td>\n",
       "      <td>27957544</td>\n",
       "    </tr>\n",
       "    <tr>\n",
       "      <th>245</th>\n",
       "      <td>2022-02-23</td>\n",
       "      <td>481.750000</td>\n",
       "      <td>485.399994</td>\n",
       "      <td>475.299988</td>\n",
       "      <td>477.000000</td>\n",
       "      <td>477.000000</td>\n",
       "      <td>17703998</td>\n",
       "    </tr>\n",
       "    <tr>\n",
       "      <th>246</th>\n",
       "      <td>2022-02-24</td>\n",
       "      <td>455.950012</td>\n",
       "      <td>461.549988</td>\n",
       "      <td>405.450012</td>\n",
       "      <td>427.950012</td>\n",
       "      <td>427.950012</td>\n",
       "      <td>57265685</td>\n",
       "    </tr>\n",
       "    <tr>\n",
       "      <th>247</th>\n",
       "      <td>2022-02-25</td>\n",
       "      <td>444.850006</td>\n",
       "      <td>465.700012</td>\n",
       "      <td>441.600006</td>\n",
       "      <td>459.750000</td>\n",
       "      <td>459.750000</td>\n",
       "      <td>48876182</td>\n",
       "    </tr>\n",
       "  </tbody>\n",
       "</table>\n",
       "<p>248 rows × 7 columns</p>\n",
       "</div>"
      ],
      "text/plain": [
       "           Date        Open        High         Low       Close   Adj Close  \\\n",
       "0    2021-02-26  323.000000  332.950012  318.850006  322.950012  322.950012   \n",
       "1    2021-03-01  330.000000  331.850006  322.700012  328.299988  328.299988   \n",
       "2    2021-03-02  331.100006  347.200012  326.450012  345.750000  345.750000   \n",
       "3    2021-03-03  348.649994  357.000000  346.500000  348.500000  348.500000   \n",
       "4    2021-03-04  339.000000  345.399994  337.299988  339.200012  339.200012   \n",
       "..          ...         ...         ...         ...         ...         ...   \n",
       "243  2022-02-21  490.149994  500.399994  486.100006  494.450012  494.450012   \n",
       "244  2022-02-22  480.549988  486.299988  471.450012  478.250000  478.250000   \n",
       "245  2022-02-23  481.750000  485.399994  475.299988  477.000000  477.000000   \n",
       "246  2022-02-24  455.950012  461.549988  405.450012  427.950012  427.950012   \n",
       "247  2022-02-25  444.850006  465.700012  441.600006  459.750000  459.750000   \n",
       "\n",
       "        Volume  \n",
       "0     91901339  \n",
       "1     61190868  \n",
       "2    127708761  \n",
       "3     92006451  \n",
       "4     59863169  \n",
       "..         ...  \n",
       "243   22592161  \n",
       "244   27957544  \n",
       "245   17703998  \n",
       "246   57265685  \n",
       "247   48876182  \n",
       "\n",
       "[248 rows x 7 columns]"
      ]
     },
     "execution_count": 4,
     "metadata": {},
     "output_type": "execute_result"
    }
   ],
   "source": [
    "df1"
   ]
  },
  {
   "cell_type": "code",
   "execution_count": 5,
   "id": "3c2b65d0",
   "metadata": {},
   "outputs": [],
   "source": [
    "df2=df1.drop('Date',axis=1)"
   ]
  },
  {
   "cell_type": "code",
   "execution_count": 7,
   "id": "7ed79f30",
   "metadata": {},
   "outputs": [
    {
     "data": {
      "text/html": [
       "<div>\n",
       "<style scoped>\n",
       "    .dataframe tbody tr th:only-of-type {\n",
       "        vertical-align: middle;\n",
       "    }\n",
       "\n",
       "    .dataframe tbody tr th {\n",
       "        vertical-align: top;\n",
       "    }\n",
       "\n",
       "    .dataframe thead th {\n",
       "        text-align: right;\n",
       "    }\n",
       "</style>\n",
       "<table border=\"1\" class=\"dataframe\">\n",
       "  <thead>\n",
       "    <tr style=\"text-align: right;\">\n",
       "      <th></th>\n",
       "      <th>Open</th>\n",
       "      <th>High</th>\n",
       "      <th>Low</th>\n",
       "      <th>Close</th>\n",
       "      <th>Adj Close</th>\n",
       "      <th>Volume</th>\n",
       "    </tr>\n",
       "  </thead>\n",
       "  <tbody>\n",
       "    <tr>\n",
       "      <th>0</th>\n",
       "      <td>323.000000</td>\n",
       "      <td>332.950012</td>\n",
       "      <td>318.850006</td>\n",
       "      <td>322.950012</td>\n",
       "      <td>322.950012</td>\n",
       "      <td>91901339</td>\n",
       "    </tr>\n",
       "    <tr>\n",
       "      <th>1</th>\n",
       "      <td>330.000000</td>\n",
       "      <td>331.850006</td>\n",
       "      <td>322.700012</td>\n",
       "      <td>328.299988</td>\n",
       "      <td>328.299988</td>\n",
       "      <td>61190868</td>\n",
       "    </tr>\n",
       "    <tr>\n",
       "      <th>2</th>\n",
       "      <td>331.100006</td>\n",
       "      <td>347.200012</td>\n",
       "      <td>326.450012</td>\n",
       "      <td>345.750000</td>\n",
       "      <td>345.750000</td>\n",
       "      <td>127708761</td>\n",
       "    </tr>\n",
       "    <tr>\n",
       "      <th>3</th>\n",
       "      <td>348.649994</td>\n",
       "      <td>357.000000</td>\n",
       "      <td>346.500000</td>\n",
       "      <td>348.500000</td>\n",
       "      <td>348.500000</td>\n",
       "      <td>92006451</td>\n",
       "    </tr>\n",
       "    <tr>\n",
       "      <th>4</th>\n",
       "      <td>339.000000</td>\n",
       "      <td>345.399994</td>\n",
       "      <td>337.299988</td>\n",
       "      <td>339.200012</td>\n",
       "      <td>339.200012</td>\n",
       "      <td>59863169</td>\n",
       "    </tr>\n",
       "    <tr>\n",
       "      <th>...</th>\n",
       "      <td>...</td>\n",
       "      <td>...</td>\n",
       "      <td>...</td>\n",
       "      <td>...</td>\n",
       "      <td>...</td>\n",
       "      <td>...</td>\n",
       "    </tr>\n",
       "    <tr>\n",
       "      <th>243</th>\n",
       "      <td>490.149994</td>\n",
       "      <td>500.399994</td>\n",
       "      <td>486.100006</td>\n",
       "      <td>494.450012</td>\n",
       "      <td>494.450012</td>\n",
       "      <td>22592161</td>\n",
       "    </tr>\n",
       "    <tr>\n",
       "      <th>244</th>\n",
       "      <td>480.549988</td>\n",
       "      <td>486.299988</td>\n",
       "      <td>471.450012</td>\n",
       "      <td>478.250000</td>\n",
       "      <td>478.250000</td>\n",
       "      <td>27957544</td>\n",
       "    </tr>\n",
       "    <tr>\n",
       "      <th>245</th>\n",
       "      <td>481.750000</td>\n",
       "      <td>485.399994</td>\n",
       "      <td>475.299988</td>\n",
       "      <td>477.000000</td>\n",
       "      <td>477.000000</td>\n",
       "      <td>17703998</td>\n",
       "    </tr>\n",
       "    <tr>\n",
       "      <th>246</th>\n",
       "      <td>455.950012</td>\n",
       "      <td>461.549988</td>\n",
       "      <td>405.450012</td>\n",
       "      <td>427.950012</td>\n",
       "      <td>427.950012</td>\n",
       "      <td>57265685</td>\n",
       "    </tr>\n",
       "    <tr>\n",
       "      <th>247</th>\n",
       "      <td>444.850006</td>\n",
       "      <td>465.700012</td>\n",
       "      <td>441.600006</td>\n",
       "      <td>459.750000</td>\n",
       "      <td>459.750000</td>\n",
       "      <td>48876182</td>\n",
       "    </tr>\n",
       "  </tbody>\n",
       "</table>\n",
       "<p>248 rows × 6 columns</p>\n",
       "</div>"
      ],
      "text/plain": [
       "           Open        High         Low       Close   Adj Close     Volume\n",
       "0    323.000000  332.950012  318.850006  322.950012  322.950012   91901339\n",
       "1    330.000000  331.850006  322.700012  328.299988  328.299988   61190868\n",
       "2    331.100006  347.200012  326.450012  345.750000  345.750000  127708761\n",
       "3    348.649994  357.000000  346.500000  348.500000  348.500000   92006451\n",
       "4    339.000000  345.399994  337.299988  339.200012  339.200012   59863169\n",
       "..          ...         ...         ...         ...         ...        ...\n",
       "243  490.149994  500.399994  486.100006  494.450012  494.450012   22592161\n",
       "244  480.549988  486.299988  471.450012  478.250000  478.250000   27957544\n",
       "245  481.750000  485.399994  475.299988  477.000000  477.000000   17703998\n",
       "246  455.950012  461.549988  405.450012  427.950012  427.950012   57265685\n",
       "247  444.850006  465.700012  441.600006  459.750000  459.750000   48876182\n",
       "\n",
       "[248 rows x 6 columns]"
      ]
     },
     "execution_count": 7,
     "metadata": {},
     "output_type": "execute_result"
    }
   ],
   "source": [
    "df2"
   ]
  },
  {
   "cell_type": "code",
   "execution_count": 8,
   "id": "a1d34975",
   "metadata": {},
   "outputs": [
    {
     "data": {
      "text/plain": [
       "DatetimeIndex(['2017-04-17', '2017-04-18', '2017-04-19', '2017-04-20',\n",
       "               '2017-04-21', '2017-04-22', '2017-04-23', '2017-04-24',\n",
       "               '2017-04-25', '2017-04-26',\n",
       "               ...\n",
       "               '2018-06-18', '2018-06-19', '2018-06-20', '2018-06-21',\n",
       "               '2018-06-22', '2018-06-23', '2018-06-24', '2018-06-25',\n",
       "               '2018-06-26', '2018-06-27'],\n",
       "              dtype='datetime64[ns]', length=437, freq='D')"
      ]
     },
     "execution_count": 8,
     "metadata": {},
     "output_type": "execute_result"
    }
   ],
   "source": [
    "pd.date_range(start='17-04-2017',end='27-06-2018')"
   ]
  },
  {
   "cell_type": "code",
   "execution_count": 9,
   "id": "998db519",
   "metadata": {},
   "outputs": [
    {
     "data": {
      "text/plain": [
       "DatetimeIndex(['2017-04-17', '2017-04-18', '2017-04-19', '2017-04-20',\n",
       "               '2017-04-21', '2017-04-22', '2017-04-23', '2017-04-24',\n",
       "               '2017-04-25', '2017-04-26',\n",
       "               ...\n",
       "               '2018-06-18', '2018-06-19', '2018-06-20', '2018-06-21',\n",
       "               '2018-06-22', '2018-06-23', '2018-06-24', '2018-06-25',\n",
       "               '2018-06-26', '2018-06-27'],\n",
       "              dtype='datetime64[ns]', length=437, freq='D')"
      ]
     },
     "execution_count": 9,
     "metadata": {},
     "output_type": "execute_result"
    }
   ],
   "source": [
    "pd.date_range(start='17-04-2017',end='27-06-2018',freq='D')"
   ]
  },
  {
   "cell_type": "code",
   "execution_count": 10,
   "id": "cb7dd577",
   "metadata": {},
   "outputs": [
    {
     "data": {
      "text/plain": [
       "DatetimeIndex([          '2017-04-17 00:00:00',\n",
       "               '2017-04-18 18:21:51.740890688',\n",
       "               '2017-04-20 12:43:43.481781376',\n",
       "               '2017-04-22 07:05:35.222672064',\n",
       "               '2017-04-24 01:27:26.963562753',\n",
       "               '2017-04-25 19:49:18.704453441',\n",
       "               '2017-04-27 14:11:10.445344129',\n",
       "               '2017-04-29 08:33:02.186234817',\n",
       "               '2017-05-01 02:54:53.927125506',\n",
       "               '2017-05-02 21:16:45.668016194',\n",
       "               ...\n",
       "               '2018-06-11 02:43:14.331983800',\n",
       "               '2018-06-12 21:05:06.072874488',\n",
       "               '2018-06-14 15:26:57.813765184',\n",
       "               '2018-06-16 09:48:49.554655872',\n",
       "               '2018-06-18 04:10:41.295546560',\n",
       "               '2018-06-19 22:32:33.036437248',\n",
       "               '2018-06-21 16:54:24.777327936',\n",
       "               '2018-06-23 11:16:16.518218624',\n",
       "               '2018-06-25 05:38:08.259109312',\n",
       "                         '2018-06-27 00:00:00'],\n",
       "              dtype='datetime64[ns]', length=248, freq=None)"
      ]
     },
     "execution_count": 10,
     "metadata": {},
     "output_type": "execute_result"
    }
   ],
   "source": [
    "pd.date_range(start='17.04.2017',end='27.06.2018',periods=248)"
   ]
  },
  {
   "cell_type": "code",
   "execution_count": 11,
   "id": "98bf331e",
   "metadata": {},
   "outputs": [
    {
     "ename": "ValueError",
     "evalue": "Of the four parameters: start, end, periods, and freq, exactly three must be specified",
     "output_type": "error",
     "traceback": [
      "\u001b[1;31m---------------------------------------------------------------------------\u001b[0m",
      "\u001b[1;31mValueError\u001b[0m                                Traceback (most recent call last)",
      "\u001b[1;32m~\\AppData\\Local\\Temp/ipykernel_6556/803219822.py\u001b[0m in \u001b[0;36m<module>\u001b[1;34m\u001b[0m\n\u001b[1;32m----> 1\u001b[1;33m \u001b[0mpd\u001b[0m\u001b[1;33m.\u001b[0m\u001b[0mdate_range\u001b[0m\u001b[1;33m(\u001b[0m\u001b[0mstart\u001b[0m\u001b[1;33m=\u001b[0m\u001b[1;34m'17.04.2017'\u001b[0m\u001b[1;33m,\u001b[0m\u001b[0mend\u001b[0m\u001b[1;33m=\u001b[0m\u001b[1;34m'27.06.2018'\u001b[0m\u001b[1;33m,\u001b[0m\u001b[0mperiods\u001b[0m\u001b[1;33m=\u001b[0m\u001b[1;36m248\u001b[0m\u001b[1;33m,\u001b[0m\u001b[0mfreq\u001b[0m\u001b[1;33m=\u001b[0m\u001b[1;34m'D'\u001b[0m\u001b[1;33m)\u001b[0m\u001b[1;33m\u001b[0m\u001b[1;33m\u001b[0m\u001b[0m\n\u001b[0m",
      "\u001b[1;32m~\\anaconda3\\lib\\site-packages\\pandas\\core\\indexes\\datetimes.py\u001b[0m in \u001b[0;36mdate_range\u001b[1;34m(start, end, periods, freq, tz, normalize, name, closed, **kwargs)\u001b[0m\n\u001b[0;32m   1095\u001b[0m         \u001b[0mfreq\u001b[0m \u001b[1;33m=\u001b[0m \u001b[1;34m\"D\"\u001b[0m\u001b[1;33m\u001b[0m\u001b[1;33m\u001b[0m\u001b[0m\n\u001b[0;32m   1096\u001b[0m \u001b[1;33m\u001b[0m\u001b[0m\n\u001b[1;32m-> 1097\u001b[1;33m     dtarr = DatetimeArray._generate_range(\n\u001b[0m\u001b[0;32m   1098\u001b[0m         \u001b[0mstart\u001b[0m\u001b[1;33m=\u001b[0m\u001b[0mstart\u001b[0m\u001b[1;33m,\u001b[0m\u001b[1;33m\u001b[0m\u001b[1;33m\u001b[0m\u001b[0m\n\u001b[0;32m   1099\u001b[0m         \u001b[0mend\u001b[0m\u001b[1;33m=\u001b[0m\u001b[0mend\u001b[0m\u001b[1;33m,\u001b[0m\u001b[1;33m\u001b[0m\u001b[1;33m\u001b[0m\u001b[0m\n",
      "\u001b[1;32m~\\anaconda3\\lib\\site-packages\\pandas\\core\\arrays\\datetimes.py\u001b[0m in \u001b[0;36m_generate_range\u001b[1;34m(cls, start, end, periods, freq, tz, normalize, ambiguous, nonexistent, closed)\u001b[0m\n\u001b[0;32m    400\u001b[0m \u001b[1;33m\u001b[0m\u001b[0m\n\u001b[0;32m    401\u001b[0m         \u001b[1;32mif\u001b[0m \u001b[0mcom\u001b[0m\u001b[1;33m.\u001b[0m\u001b[0mcount_not_none\u001b[0m\u001b[1;33m(\u001b[0m\u001b[0mstart\u001b[0m\u001b[1;33m,\u001b[0m \u001b[0mend\u001b[0m\u001b[1;33m,\u001b[0m \u001b[0mperiods\u001b[0m\u001b[1;33m,\u001b[0m \u001b[0mfreq\u001b[0m\u001b[1;33m)\u001b[0m \u001b[1;33m!=\u001b[0m \u001b[1;36m3\u001b[0m\u001b[1;33m:\u001b[0m\u001b[1;33m\u001b[0m\u001b[1;33m\u001b[0m\u001b[0m\n\u001b[1;32m--> 402\u001b[1;33m             raise ValueError(\n\u001b[0m\u001b[0;32m    403\u001b[0m                 \u001b[1;34m\"Of the four parameters: start, end, periods, \"\u001b[0m\u001b[1;33m\u001b[0m\u001b[1;33m\u001b[0m\u001b[0m\n\u001b[0;32m    404\u001b[0m                 \u001b[1;34m\"and freq, exactly three must be specified\"\u001b[0m\u001b[1;33m\u001b[0m\u001b[1;33m\u001b[0m\u001b[0m\n",
      "\u001b[1;31mValueError\u001b[0m: Of the four parameters: start, end, periods, and freq, exactly three must be specified"
     ]
    }
   ],
   "source": [
    "pd.date_range(start='17.04.2017',end='27.06.2018',periods=248,freq='D')\n",
    "# we cant give four arguments at a time"
   ]
  },
  {
   "cell_type": "code",
   "execution_count": 12,
   "id": "e9602fd0",
   "metadata": {},
   "outputs": [
    {
     "data": {
      "text/plain": [
       "DatetimeIndex(['2022-03-21', '2022-03-22', '2022-03-23', '2022-03-24',\n",
       "               '2022-03-25', '2022-03-28', '2022-03-29', '2022-03-30',\n",
       "               '2022-03-31', '2022-04-01', '2022-04-04', '2022-04-05',\n",
       "               '2022-04-06', '2022-04-07', '2022-04-08', '2022-04-11',\n",
       "               '2022-04-12', '2022-04-13'],\n",
       "              dtype='datetime64[ns]', freq='B')"
      ]
     },
     "execution_count": 12,
     "metadata": {},
     "output_type": "execute_result"
    }
   ],
   "source": [
    "pd.date_range(start='20.03.2022',end='13.04.2022',freq='B')"
   ]
  },
  {
   "cell_type": "code",
   "execution_count": 15,
   "id": "f5bf9de3",
   "metadata": {},
   "outputs": [
    {
     "data": {
      "text/plain": [
       "DatetimeIndex(['2022-03-20', '2022-03-21', '2022-03-22', '2022-03-23',\n",
       "               '2022-03-24', '2022-03-25', '2022-03-26', '2022-03-27',\n",
       "               '2022-03-28', '2022-03-29', '2022-03-30', '2022-03-31',\n",
       "               '2022-04-01', '2022-04-02', '2022-04-03', '2022-04-04',\n",
       "               '2022-04-05', '2022-04-06', '2022-04-07', '2022-04-08',\n",
       "               '2022-04-09', '2022-04-10', '2022-04-11', '2022-04-12',\n",
       "               '2022-04-13'],\n",
       "              dtype='datetime64[ns]', freq='D')"
      ]
     },
     "execution_count": 15,
     "metadata": {},
     "output_type": "execute_result"
    }
   ],
   "source": [
    "pd.date_range(start='20.03.2022',end='13.04.2022',freq='D')"
   ]
  },
  {
   "cell_type": "code",
   "execution_count": 13,
   "id": "920f8596",
   "metadata": {},
   "outputs": [
    {
     "data": {
      "text/plain": [
       "DatetimeIndex(['2017-04-17', '2017-04-18', '2017-04-19', '2017-04-20',\n",
       "               '2017-04-21', '2017-04-24', '2017-04-25', '2017-04-26',\n",
       "               '2017-04-27', '2017-04-28',\n",
       "               ...\n",
       "               '2018-06-14', '2018-06-15', '2018-06-18', '2018-06-19',\n",
       "               '2018-06-20', '2018-06-21', '2018-06-22', '2018-06-25',\n",
       "               '2018-06-26', '2018-06-27'],\n",
       "              dtype='datetime64[ns]', length=313, freq='B')"
      ]
     },
     "execution_count": 13,
     "metadata": {},
     "output_type": "execute_result"
    }
   ],
   "source": [
    "pd.date_range(start='17-04-2017',end='27-06-2018',freq='B')"
   ]
  },
  {
   "cell_type": "code",
   "execution_count": 14,
   "id": "ac740849",
   "metadata": {},
   "outputs": [
    {
     "data": {
      "text/plain": [
       "DatetimeIndex(['2017-04-17', '2017-04-18', '2017-04-19', '2017-04-20',\n",
       "               '2017-04-21', '2017-04-22', '2017-04-23', '2017-04-24',\n",
       "               '2017-04-25', '2017-04-26',\n",
       "               ...\n",
       "               '2018-06-18', '2018-06-19', '2018-06-20', '2018-06-21',\n",
       "               '2018-06-22', '2018-06-23', '2018-06-24', '2018-06-25',\n",
       "               '2018-06-26', '2018-06-27'],\n",
       "              dtype='datetime64[ns]', length=437, freq='D')"
      ]
     },
     "execution_count": 14,
     "metadata": {},
     "output_type": "execute_result"
    }
   ],
   "source": [
    "pd.date_range(start='17-04-2017',end='27-06-2018',freq='D')"
   ]
  },
  {
   "cell_type": "code",
   "execution_count": 16,
   "id": "14396d42",
   "metadata": {},
   "outputs": [
    {
     "data": {
      "text/plain": [
       "DatetimeIndex(['2022-03-31', '2022-04-30', '2022-05-31', '2022-06-30',\n",
       "               '2022-07-31', '2022-08-31', '2022-09-30', '2022-10-31',\n",
       "               '2022-11-30'],\n",
       "              dtype='datetime64[ns]', freq='M')"
      ]
     },
     "execution_count": 16,
     "metadata": {},
     "output_type": "execute_result"
    }
   ],
   "source": [
    "pd.date_range(start='20.03.2022',end='13.12.2022',freq='M')"
   ]
  },
  {
   "cell_type": "code",
   "execution_count": 17,
   "id": "87231e30",
   "metadata": {},
   "outputs": [
    {
     "data": {
      "text/plain": [
       "DatetimeIndex(['2022-03-31', '2022-04-15', '2022-04-30', '2022-05-15',\n",
       "               '2022-05-31', '2022-06-15', '2022-06-30', '2022-07-15',\n",
       "               '2022-07-31', '2022-08-15', '2022-08-31', '2022-09-15',\n",
       "               '2022-09-30', '2022-10-15', '2022-10-31', '2022-11-15',\n",
       "               '2022-11-30'],\n",
       "              dtype='datetime64[ns]', freq='SM-15')"
      ]
     },
     "execution_count": 17,
     "metadata": {},
     "output_type": "execute_result"
    }
   ],
   "source": [
    "pd.date_range(start='20.03.2022',end='13.12.2022',freq='SM')\n",
    "# SM---> Semi month"
   ]
  },
  {
   "cell_type": "code",
   "execution_count": 18,
   "id": "fb1b8db5",
   "metadata": {},
   "outputs": [
    {
     "data": {
      "text/plain": [
       "DatetimeIndex(['2022-04-01', '2022-04-15', '2022-05-01', '2022-05-15',\n",
       "               '2022-06-01', '2022-06-15', '2022-07-01', '2022-07-15',\n",
       "               '2022-08-01', '2022-08-15', '2022-09-01', '2022-09-15',\n",
       "               '2022-10-01', '2022-10-15', '2022-11-01', '2022-11-15',\n",
       "               '2022-12-01'],\n",
       "              dtype='datetime64[ns]', freq='SMS-15')"
      ]
     },
     "execution_count": 18,
     "metadata": {},
     "output_type": "execute_result"
    }
   ],
   "source": [
    "pd.date_range(start='20.03.2022',end='13.12.2022',freq='SMS')\n"
   ]
  },
  {
   "cell_type": "code",
   "execution_count": 20,
   "id": "d7fc3616",
   "metadata": {},
   "outputs": [
    {
     "data": {
      "text/plain": [
       "DatetimeIndex(['2022-12-31', '2023-12-31', '2024-12-31'], dtype='datetime64[ns]', freq='A-DEC')"
      ]
     },
     "execution_count": 20,
     "metadata": {},
     "output_type": "execute_result"
    }
   ],
   "source": [
    "pd.date_range(start='20.03.2022',end='13.12.2025',freq='Y')\n"
   ]
  },
  {
   "cell_type": "code",
   "execution_count": 21,
   "id": "45ca4b04",
   "metadata": {},
   "outputs": [
    {
     "data": {
      "text/plain": [
       "DatetimeIndex(['2023-01-01', '2024-01-01', '2025-01-01'], dtype='datetime64[ns]', freq='AS-JAN')"
      ]
     },
     "execution_count": 21,
     "metadata": {},
     "output_type": "execute_result"
    }
   ],
   "source": [
    "pd.date_range(start='20.03.2022',end='13.12.2025',freq='YS')\n"
   ]
  },
  {
   "cell_type": "code",
   "execution_count": 22,
   "id": "184f5b34",
   "metadata": {},
   "outputs": [
    {
     "data": {
      "text/plain": [
       "DatetimeIndex(['2022-03-20', '2022-03-27', '2022-04-03', '2022-04-10',\n",
       "               '2022-04-17', '2022-04-24', '2022-05-01', '2022-05-08',\n",
       "               '2022-05-15', '2022-05-22',\n",
       "               ...\n",
       "               '2025-10-05', '2025-10-12', '2025-10-19', '2025-10-26',\n",
       "               '2025-11-02', '2025-11-09', '2025-11-16', '2025-11-23',\n",
       "               '2025-11-30', '2025-12-07'],\n",
       "              dtype='datetime64[ns]', length=195, freq='W-SUN')"
      ]
     },
     "execution_count": 22,
     "metadata": {},
     "output_type": "execute_result"
    }
   ],
   "source": [
    "pd.date_range(start='20.03.2022',end='13.12.2025',freq='W')\n"
   ]
  },
  {
   "cell_type": "code",
   "execution_count": null,
   "id": "f623fd22",
   "metadata": {},
   "outputs": [],
   "source": []
  }
 ],
 "metadata": {
  "kernelspec": {
   "display_name": "Python 3 (ipykernel)",
   "language": "python",
   "name": "python3"
  },
  "language_info": {
   "codemirror_mode": {
    "name": "ipython",
    "version": 3
   },
   "file_extension": ".py",
   "mimetype": "text/x-python",
   "name": "python",
   "nbconvert_exporter": "python",
   "pygments_lexer": "ipython3",
   "version": "3.9.7"
  }
 },
 "nbformat": 4,
 "nbformat_minor": 5
}
